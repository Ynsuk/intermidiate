{
  "nbformat": 4,
  "nbformat_minor": 0,
  "metadata": {
    "kernelspec": {
      "display_name": "Python 3",
      "language": "python",
      "name": "python3"
    },
    "language_info": {
      "codemirror_mode": {
        "name": "ipython",
        "version": 3
      },
      "file_extension": ".py",
      "mimetype": "text/x-python",
      "name": "python",
      "nbconvert_exporter": "python",
      "pygments_lexer": "ipython3",
      "version": "3.8.1"
    },
    "colab": {
      "provenance": [],
      "include_colab_link": true
    },
    "accelerator": "GPU",
    "gpuClass": "standard"
  },
  "cells": [
    {
      "cell_type": "markdown",
      "metadata": {
        "id": "view-in-github",
        "colab_type": "text"
      },
      "source": [
        "<a href=\"https://colab.research.google.com/github/Ynsuk/intermidiate/blob/main/3_1_TF_lab_ipynb_YNSK.ipynb\" target=\"_parent\"><img src=\"https://colab.research.google.com/assets/colab-badge.svg\" alt=\"Open In Colab\"/></a>"
      ]
    },
    {
      "cell_type": "markdown",
      "metadata": {
        "id": "LpyosbIQLtBV"
      },
      "source": [
        "<h1>Deep Learning Tensorflow</h1>"
      ]
    },
    {
      "cell_type": "markdown",
      "metadata": {
        "id": "R_3jzWyo3yCh"
      },
      "source": [
        "# module import"
      ]
    },
    {
      "cell_type": "code",
      "metadata": {
        "id": "3yiNd3ErLtBa",
        "colab": {
          "base_uri": "https://localhost:8080/"
        },
        "outputId": "e113d399-4ee5-4287-b871-3cc0b190a03f"
      },
      "source": [
        "import tensorflow as tf\n",
        "import numpy as np\n",
        "import pandas as pd\n",
        "import matplotlib.pyplot as plt\n",
        "\n",
        "print(tf.__version__)\n"
      ],
      "execution_count": null,
      "outputs": [
        {
          "output_type": "stream",
          "name": "stdout",
          "text": [
            "2.12.0\n"
          ]
        }
      ]
    },
    {
      "cell_type": "markdown",
      "metadata": {
        "id": "uOiTJZifLtBc"
      },
      "source": [
        "# Tensor Object"
      ]
    },
    {
      "cell_type": "markdown",
      "source": [
        "## tf.constant()"
      ],
      "metadata": {
        "id": "4JlnCzXi0Ppn"
      }
    },
    {
      "cell_type": "code",
      "metadata": {
        "id": "XbXfuPOrLtBd",
        "colab": {
          "base_uri": "https://localhost:8080/"
        },
        "outputId": "353ad9dd-b0c2-4d95-847c-8f051674cd6a"
      },
      "source": [
        "t = tf.constant(1)\n",
        "t"
      ],
      "execution_count": null,
      "outputs": [
        {
          "output_type": "execute_result",
          "data": {
            "text/plain": [
              "<tf.Tensor: shape=(), dtype=int32, numpy=1>"
            ]
          },
          "metadata": {},
          "execution_count": 3
        }
      ]
    },
    {
      "cell_type": "code",
      "source": [
        "t.numpy(), type(t.numpy())"
      ],
      "metadata": {
        "colab": {
          "base_uri": "https://localhost:8080/"
        },
        "id": "AMUcPBT3FTUd",
        "outputId": "f0d1adaa-6671-4deb-f587-318241bc6dff"
      },
      "execution_count": null,
      "outputs": [
        {
          "output_type": "execute_result",
          "data": {
            "text/plain": [
              "(1, numpy.int32)"
            ]
          },
          "metadata": {},
          "execution_count": 5
        }
      ]
    },
    {
      "cell_type": "code",
      "source": [
        "t.dtype"
      ],
      "metadata": {
        "colab": {
          "base_uri": "https://localhost:8080/"
        },
        "id": "4WmOwfx0FhLM",
        "outputId": "65c0baf6-c061-4bec-b662-5b214abf5396"
      },
      "execution_count": null,
      "outputs": [
        {
          "output_type": "execute_result",
          "data": {
            "text/plain": [
              "tf.int32"
            ]
          },
          "metadata": {},
          "execution_count": 6
        }
      ]
    },
    {
      "cell_type": "code",
      "source": [
        "t.shape"
      ],
      "metadata": {
        "colab": {
          "base_uri": "https://localhost:8080/"
        },
        "id": "vS-7iUOaFk4E",
        "outputId": "16dc96be-193c-42d3-b2bd-289b532a9796"
      },
      "execution_count": null,
      "outputs": [
        {
          "output_type": "execute_result",
          "data": {
            "text/plain": [
              "TensorShape([])"
            ]
          },
          "metadata": {},
          "execution_count": 7
        }
      ]
    },
    {
      "cell_type": "code",
      "source": [
        "t2 = tf.constant([10,20,30])  \n",
        "t2"
      ],
      "metadata": {
        "colab": {
          "base_uri": "https://localhost:8080/"
        },
        "id": "XatVPRFUFxuQ",
        "outputId": "6f8715da-ee63-4945-bdbb-3d84e08a9925"
      },
      "execution_count": null,
      "outputs": [
        {
          "output_type": "execute_result",
          "data": {
            "text/plain": [
              "<tf.Tensor: shape=(3,), dtype=int32, numpy=array([10, 20, 30], dtype=int32)>"
            ]
          },
          "metadata": {},
          "execution_count": 8
        }
      ]
    },
    {
      "cell_type": "code",
      "source": [
        "tf.constant([0], shape=(3,2))\n"
      ],
      "metadata": {
        "colab": {
          "base_uri": "https://localhost:8080/"
        },
        "id": "s18uWd_YGgtO",
        "outputId": "eaf9396d-894d-4a6e-d772-09baf155f373"
      },
      "execution_count": null,
      "outputs": [
        {
          "output_type": "execute_result",
          "data": {
            "text/plain": [
              "<tf.Tensor: shape=(3, 2), dtype=int32, numpy=\n",
              "array([[0, 0],\n",
              "       [0, 0],\n",
              "       [0, 0]], dtype=int32)>"
            ]
          },
          "metadata": {},
          "execution_count": 10
        }
      ]
    },
    {
      "cell_type": "markdown",
      "source": [
        "## tf.convert_to_tensor()"
      ],
      "metadata": {
        "id": "OR-Xkdm30Rt2"
      }
    },
    {
      "cell_type": "code",
      "metadata": {
        "id": "5L_GGo5wLtBc",
        "colab": {
          "base_uri": "https://localhost:8080/"
        },
        "outputId": "04ae97ca-08a9-459a-e726-bad769d5e823"
      },
      "source": [
        "tf.convert_to_tensor([[10,20,30], [40,50,60]])"
      ],
      "execution_count": null,
      "outputs": [
        {
          "output_type": "execute_result",
          "data": {
            "text/plain": [
              "<tf.Tensor: shape=(2, 3), dtype=int32, numpy=\n",
              "array([[10, 20, 30],\n",
              "       [40, 50, 60]], dtype=int32)>"
            ]
          },
          "metadata": {},
          "execution_count": 13
        }
      ]
    },
    {
      "cell_type": "code",
      "source": [
        "a = np.arange(12).reshape(4,3)\n",
        "tf.convert_to_tensor(a)\n"
      ],
      "metadata": {
        "id": "4DzUrnW2HIap"
      },
      "execution_count": null,
      "outputs": []
    },
    {
      "cell_type": "markdown",
      "metadata": {
        "id": "fgtLKP4E33sR"
      },
      "source": [
        "# Tensor Operation"
      ]
    },
    {
      "cell_type": "markdown",
      "metadata": {
        "id": "8rBEf5grLtBe"
      },
      "source": [
        "## Operator Overriding"
      ]
    },
    {
      "cell_type": "code",
      "metadata": {
        "id": "16YfLzL7LtBf",
        "colab": {
          "base_uri": "https://localhost:8080/"
        },
        "outputId": "65e734cd-b405-4c71-b8bd-a999d12def11"
      },
      "source": [
        "t1 = tf.constant(10)\n",
        "t2 = tf.constant(20)\n",
        "\n",
        "tf.add(t1,t2)\n",
        "tf.subtract(t1,t2), tf.multiply(t1,t2), tf.divide(t1,t2)"
      ],
      "execution_count": null,
      "outputs": [
        {
          "output_type": "execute_result",
          "data": {
            "text/plain": [
              "(<tf.Tensor: shape=(), dtype=int32, numpy=-10>,\n",
              " <tf.Tensor: shape=(), dtype=int32, numpy=200>,\n",
              " <tf.Tensor: shape=(), dtype=float64, numpy=0.5>)"
            ]
          },
          "metadata": {},
          "execution_count": 4
        }
      ]
    },
    {
      "cell_type": "code",
      "source": [
        "t1+t2, t1 - t2, t1*t2, t1/t2"
      ],
      "metadata": {
        "colab": {
          "base_uri": "https://localhost:8080/"
        },
        "id": "Z6MscT_-ZE0S",
        "outputId": "f06abe37-2ee7-49a8-94d8-a1bf62a57ace"
      },
      "execution_count": null,
      "outputs": [
        {
          "output_type": "execute_result",
          "data": {
            "text/plain": [
              "(<tf.Tensor: shape=(), dtype=int32, numpy=30>,\n",
              " <tf.Tensor: shape=(), dtype=int32, numpy=-10>,\n",
              " <tf.Tensor: shape=(), dtype=int32, numpy=200>,\n",
              " <tf.Tensor: shape=(), dtype=float64, numpy=0.5>)"
            ]
          },
          "metadata": {},
          "execution_count": 5
        }
      ]
    },
    {
      "cell_type": "markdown",
      "metadata": {
        "id": "rfeQ614zLtBe"
      },
      "source": [
        "## Broadcasting(Element Wise) 연산"
      ]
    },
    {
      "cell_type": "code",
      "metadata": {
        "id": "cxzF70A3LtBe",
        "colab": {
          "base_uri": "https://localhost:8080/"
        },
        "outputId": "506b0473-58b1-4871-8e7b-548a139577e9"
      },
      "source": [
        "t1 = tf.constant([[1,2],\n",
        "                  [3,4]])\n",
        "\n",
        "\n",
        "t2 = tf.constant([[10,20],\n",
        "             [30,40]])\n",
        "\n",
        "t1 + t2"
      ],
      "execution_count": null,
      "outputs": [
        {
          "output_type": "execute_result",
          "data": {
            "text/plain": [
              "<tf.Tensor: shape=(2, 2), dtype=int32, numpy=\n",
              "array([[11, 22],\n",
              "       [33, 44]], dtype=int32)>"
            ]
          },
          "metadata": {},
          "execution_count": 6
        }
      ]
    },
    {
      "cell_type": "markdown",
      "metadata": {
        "id": "q767Az_PSstf"
      },
      "source": [
        "## 합, 평균, 최대 값, 최소 값"
      ]
    },
    {
      "cell_type": "code",
      "metadata": {
        "id": "D_3dC-PXSlf8",
        "colab": {
          "base_uri": "https://localhost:8080/"
        },
        "outputId": "25eba0f5-67fa-4f69-925b-2535aa1ebbbf"
      },
      "source": [
        "t = tf.constant([1,2,3,4,5])\n",
        "\n",
        "tf.reduce_sum(t), tf.reduce_mean(t), tf.reduce_max(t), tf.reduce_min(t)\n"
      ],
      "execution_count": null,
      "outputs": [
        {
          "output_type": "execute_result",
          "data": {
            "text/plain": [
              "(<tf.Tensor: shape=(), dtype=int32, numpy=15>,\n",
              " <tf.Tensor: shape=(), dtype=int32, numpy=3>,\n",
              " <tf.Tensor: shape=(), dtype=int32, numpy=5>,\n",
              " <tf.Tensor: shape=(), dtype=int32, numpy=1>)"
            ]
          },
          "metadata": {},
          "execution_count": 8
        }
      ]
    },
    {
      "cell_type": "code",
      "metadata": {
        "id": "BB7UX77zTT4i",
        "colab": {
          "base_uri": "https://localhost:8080/"
        },
        "outputId": "e0c90d6d-32a1-4dee-8a6f-ed04f3626113"
      },
      "source": [
        "t2 = tf.constant([[1,2,3],[4,5,6]])\n",
        "\n",
        "tf.reduce_sum(t2)\n",
        "tf.reduce_sum(t2, axis=0)\n",
        "tf.reduce_sum(t2, axis=1)"
      ],
      "execution_count": null,
      "outputs": [
        {
          "output_type": "execute_result",
          "data": {
            "text/plain": [
              "<tf.Tensor: shape=(2,), dtype=int32, numpy=array([ 6, 15], dtype=int32)>"
            ]
          },
          "metadata": {},
          "execution_count": 11
        }
      ]
    },
    {
      "cell_type": "markdown",
      "metadata": {
        "id": "ZpQoW33JQ-bu"
      },
      "source": [
        "## 벡터의 내적"
      ]
    },
    {
      "cell_type": "code",
      "metadata": {
        "id": "v6RwGacwQzeG",
        "colab": {
          "base_uri": "https://localhost:8080/"
        },
        "outputId": "2449978d-dc49-4ec9-fcd7-e16c4aaa783c"
      },
      "source": [
        "v1 = tf.constant([1,2,3])\n",
        "v2 = tf.constant([2,2,2])\n",
        "\n",
        "tf.tensordot(v1,v2, axes=1)\n",
        "tf.reduce_sum(v1*v2)"
      ],
      "execution_count": null,
      "outputs": [
        {
          "output_type": "execute_result",
          "data": {
            "text/plain": [
              "<tf.Tensor: shape=(), dtype=int32, numpy=12>"
            ]
          },
          "metadata": {},
          "execution_count": 13
        }
      ]
    },
    {
      "cell_type": "code",
      "metadata": {
        "id": "4EkdvK9usv6H"
      },
      "source": [],
      "execution_count": null,
      "outputs": []
    },
    {
      "cell_type": "markdown",
      "metadata": {
        "id": "Z_mueGR84mt6"
      },
      "source": [
        "## 행렬 곱"
      ]
    },
    {
      "cell_type": "code",
      "metadata": {
        "id": "Tn0RUAU-Rvov",
        "colab": {
          "base_uri": "https://localhost:8080/"
        },
        "outputId": "ad145888-a241-493a-d321-38a91b4095a7"
      },
      "source": [
        "mat1 = tf.constant([[1,2,3],\n",
        "                    [4,5,6]])\n",
        "mat2 = tf.constant([[1,2,3],\n",
        "                    [4,5,6]])\n",
        "##matrix multiply\n",
        "#tf.matmul(mat1,mat2)\n",
        "tf.transpose(mat1)\n",
        "tf.matmul(tf.transpose(mat1),mat2)"
      ],
      "execution_count": null,
      "outputs": [
        {
          "output_type": "execute_result",
          "data": {
            "text/plain": [
              "<tf.Tensor: shape=(3, 3), dtype=int32, numpy=\n",
              "array([[17, 22, 27],\n",
              "       [22, 29, 36],\n",
              "       [27, 36, 45]], dtype=int32)>"
            ]
          },
          "metadata": {},
          "execution_count": 16
        }
      ]
    },
    {
      "cell_type": "markdown",
      "metadata": {
        "id": "64Ofax8_LtBf"
      },
      "source": [
        "## 형변환\n"
      ]
    },
    {
      "cell_type": "code",
      "metadata": {
        "id": "Xln08s-3LtBf",
        "colab": {
          "base_uri": "https://localhost:8080/"
        },
        "outputId": "64ece960-47f7-4626-9974-2b6babecebc5"
      },
      "source": [
        "t1 = tf.constant(10)\n",
        "print(t1)\n",
        "tf.cast(t1,tf.float32)\n",
        "\n",
        "t2 = tf.constant([1.8, 2.2])\n",
        "print(t2)\n",
        "tf.cast(t2,tf.int32)"
      ],
      "execution_count": null,
      "outputs": [
        {
          "output_type": "stream",
          "name": "stdout",
          "text": [
            "tf.Tensor(10, shape=(), dtype=int32)\n",
            "tf.Tensor([1.8 2.2], shape=(2,), dtype=float32)\n"
          ]
        },
        {
          "output_type": "execute_result",
          "data": {
            "text/plain": [
              "<tf.Tensor: shape=(2,), dtype=int32, numpy=array([1, 2], dtype=int32)>"
            ]
          },
          "metadata": {},
          "execution_count": 17
        }
      ]
    },
    {
      "cell_type": "markdown",
      "metadata": {
        "id": "tA1z95k1LtBg"
      },
      "source": [
        "## NumPy 호환성\n"
      ]
    },
    {
      "cell_type": "markdown",
      "source": [
        "## Numpy to TF"
      ],
      "metadata": {
        "id": "NfEfpV5FTrpx"
      }
    },
    {
      "cell_type": "code",
      "metadata": {
        "id": "TXgdtJrvLtBg",
        "colab": {
          "base_uri": "https://localhost:8080/"
        },
        "outputId": "0893c6f2-d0b2-4a3d-d45d-f1570fb94d37"
      },
      "source": [
        "import numpy as np\n",
        "\n",
        "arr1 = np.array([1,2,3,4])\n",
        "tf.convert_to_tensor(arr1)"
      ],
      "execution_count": null,
      "outputs": [
        {
          "output_type": "execute_result",
          "data": {
            "text/plain": [
              "<tf.Tensor: shape=(4,), dtype=int64, numpy=array([1, 2, 3, 4])>"
            ]
          },
          "metadata": {},
          "execution_count": 18
        }
      ]
    },
    {
      "cell_type": "code",
      "source": [
        "arr1 = np.array([1,2,3,4])\n",
        "arr2 = np.array([2,3,4,5])\n",
        "tf.add(arr1, arr2)"
      ],
      "metadata": {
        "id": "4l2VqnWmQxk6",
        "colab": {
          "base_uri": "https://localhost:8080/"
        },
        "outputId": "e8140603-4e54-4e86-a903-b767623897d1"
      },
      "execution_count": null,
      "outputs": [
        {
          "output_type": "execute_result",
          "data": {
            "text/plain": [
              "<tf.Tensor: shape=(4,), dtype=int64, numpy=array([3, 5, 7, 9])>"
            ]
          },
          "metadata": {},
          "execution_count": 19
        }
      ]
    },
    {
      "cell_type": "markdown",
      "source": [
        "## TF to NumPy"
      ],
      "metadata": {
        "id": "jtd2qclFTv6q"
      }
    },
    {
      "cell_type": "code",
      "source": [
        "t1 = tf.constant([1,2,3])\n",
        "print(t1)\n",
        "t1.numpy, np.array(t1)"
      ],
      "metadata": {
        "id": "srngmq8pTxP6",
        "colab": {
          "base_uri": "https://localhost:8080/"
        },
        "outputId": "f3423b1b-0a05-4584-fb74-0108c9d87503"
      },
      "execution_count": null,
      "outputs": [
        {
          "output_type": "stream",
          "name": "stdout",
          "text": [
            "tf.Tensor([1 2 3], shape=(3,), dtype=int32)\n"
          ]
        },
        {
          "output_type": "execute_result",
          "data": {
            "text/plain": [
              "(<bound method _EagerTensorBase.numpy of <tf.Tensor: shape=(3,), dtype=int32, numpy=array([1, 2, 3], dtype=int32)>>,\n",
              " array([1, 2, 3], dtype=int32))"
            ]
          },
          "metadata": {},
          "execution_count": 21
        }
      ]
    },
    {
      "cell_type": "code",
      "source": [
        "t1 = tf.constant([1,2,3])\n",
        "t2 = tf.constant([10,20,30])\n",
        "\n"
      ],
      "metadata": {
        "id": "kv71a-aQUeq0"
      },
      "execution_count": null,
      "outputs": []
    },
    {
      "cell_type": "markdown",
      "metadata": {
        "id": "-7tT6FtSLtBh"
      },
      "source": [
        "# 난수 생성\n"
      ]
    },
    {
      "cell_type": "code",
      "metadata": {
        "id": "86R81QhCLtBh",
        "colab": {
          "base_uri": "https://localhost:8080/"
        },
        "outputId": "793cba97-8af7-4e82-aa20-938d6bb89f46"
      },
      "source": [
        "tf.random.uniform([3,4])"
      ],
      "execution_count": null,
      "outputs": [
        {
          "output_type": "execute_result",
          "data": {
            "text/plain": [
              "<tf.Tensor: shape=(3, 4), dtype=float32, numpy=\n",
              "array([[0.26333058, 0.16106975, 0.8336897 , 0.9066627 ],\n",
              "       [0.7342473 , 0.30650854, 0.7463831 , 0.8797722 ],\n",
              "       [0.03945315, 0.9986987 , 0.28225362, 0.29240215]], dtype=float32)>"
            ]
          },
          "metadata": {},
          "execution_count": 22
        }
      ]
    },
    {
      "cell_type": "code",
      "source": [
        "tf.random.uniform([3,4], 10, 20)"
      ],
      "metadata": {
        "id": "XoHD5Tb1WEqy",
        "colab": {
          "base_uri": "https://localhost:8080/"
        },
        "outputId": "9eb59369-7a6c-475d-c9e0-26e7ebe60ae3"
      },
      "execution_count": null,
      "outputs": [
        {
          "output_type": "execute_result",
          "data": {
            "text/plain": [
              "<tf.Tensor: shape=(3, 4), dtype=float32, numpy=\n",
              "array([[18.563934, 16.38889 , 15.933128, 16.3816  ],\n",
              "       [13.52929 , 17.344868, 16.405373, 13.259488],\n",
              "       [17.058958, 15.777868, 16.248198, 10.082975]], dtype=float32)>"
            ]
          },
          "metadata": {},
          "execution_count": 23
        }
      ]
    },
    {
      "cell_type": "code",
      "source": [
        "  tf.random.normal([3,4])"
      ],
      "metadata": {
        "colab": {
          "base_uri": "https://localhost:8080/"
        },
        "id": "QLr9NfRWeqKK",
        "outputId": "d3d91dde-193c-45c1-eb68-ebd1a4459955"
      },
      "execution_count": null,
      "outputs": [
        {
          "output_type": "execute_result",
          "data": {
            "text/plain": [
              "<tf.Tensor: shape=(3, 4), dtype=float32, numpy=\n",
              "array([[ 0.01807169,  1.1029146 , -0.6188333 , -0.29381686],\n",
              "       [ 2.1501737 , -0.71890926, -1.0690335 ,  1.0432174 ],\n",
              "       [-0.37537745,  1.2767034 ,  0.2431848 ,  0.72784483]],\n",
              "      dtype=float32)>"
            ]
          },
          "metadata": {},
          "execution_count": 24
        }
      ]
    },
    {
      "cell_type": "code",
      "source": [
        "tf.random.normal([3,4], 10,2)"
      ],
      "metadata": {
        "colab": {
          "base_uri": "https://localhost:8080/"
        },
        "id": "hUxTW_YTetjT",
        "outputId": "a2346280-32f9-4ee8-f16d-0e15799c683b"
      },
      "execution_count": null,
      "outputs": [
        {
          "output_type": "execute_result",
          "data": {
            "text/plain": [
              "<tf.Tensor: shape=(3, 4), dtype=float32, numpy=\n",
              "array([[10.919335, 13.899085,  6.159262,  9.682238],\n",
              "       [10.998609,  8.765962, 10.534848,  7.256042],\n",
              "       [ 8.426832, 10.556351, 10.778454,  9.906551]], dtype=float32)>"
            ]
          },
          "metadata": {},
          "execution_count": 25
        }
      ]
    },
    {
      "cell_type": "code",
      "source": [
        "tf.random.set_seed(0)\n",
        "tf.random.uniform([])\n"
      ],
      "metadata": {
        "colab": {
          "base_uri": "https://localhost:8080/"
        },
        "id": "OajMr4iMfWu2",
        "outputId": "e7e425f5-7c3c-4e80-96c0-c518af75cb55"
      },
      "execution_count": null,
      "outputs": [
        {
          "output_type": "execute_result",
          "data": {
            "text/plain": [
              "<tf.Tensor: shape=(), dtype=float32, numpy=0.29197514>"
            ]
          },
          "metadata": {},
          "execution_count": 31
        }
      ]
    },
    {
      "cell_type": "markdown",
      "metadata": {
        "id": "Rl3r52O8LtBh"
      },
      "source": [
        "# Variable(변수)\n",
        "* constant는 값의 변경 불가\n",
        "* 값의 변경과 추적\n",
        "* `tf.Variable(initi_val)` : 객체 생성\n",
        "* `tf.Variable.assign()` : 값 할당"
      ]
    },
    {
      "cell_type": "code",
      "source": [
        "# 일부 값만 변경 불가\n",
        "t = tf.constant([1,2,3])\n",
        "t[1] = 10"
      ],
      "metadata": {
        "id": "yj3y7aDAWm2B",
        "colab": {
          "base_uri": "https://localhost:8080/",
          "height": 210
        },
        "outputId": "9be89610-71e3-46f5-d1df-b5d53df1288c"
      },
      "execution_count": null,
      "outputs": [
        {
          "output_type": "error",
          "ename": "TypeError",
          "evalue": "ignored",
          "traceback": [
            "\u001b[0;31m---------------------------------------------------------------------------\u001b[0m",
            "\u001b[0;31mTypeError\u001b[0m                                 Traceback (most recent call last)",
            "\u001b[0;32m<ipython-input-32-a47b34f465fc>\u001b[0m in \u001b[0;36m<cell line: 3>\u001b[0;34m()\u001b[0m\n\u001b[1;32m      1\u001b[0m \u001b[0;31m# 일부 값만 변경 불가\u001b[0m\u001b[0;34m\u001b[0m\u001b[0;34m\u001b[0m\u001b[0m\n\u001b[1;32m      2\u001b[0m \u001b[0mt\u001b[0m \u001b[0;34m=\u001b[0m \u001b[0mtf\u001b[0m\u001b[0;34m.\u001b[0m\u001b[0mconstant\u001b[0m\u001b[0;34m(\u001b[0m\u001b[0;34m[\u001b[0m\u001b[0;36m1\u001b[0m\u001b[0;34m,\u001b[0m\u001b[0;36m2\u001b[0m\u001b[0;34m,\u001b[0m\u001b[0;36m3\u001b[0m\u001b[0;34m]\u001b[0m\u001b[0;34m)\u001b[0m\u001b[0;34m\u001b[0m\u001b[0;34m\u001b[0m\u001b[0m\n\u001b[0;32m----> 3\u001b[0;31m \u001b[0mt\u001b[0m\u001b[0;34m[\u001b[0m\u001b[0;36m1\u001b[0m\u001b[0;34m]\u001b[0m \u001b[0;34m=\u001b[0m \u001b[0;36m10\u001b[0m\u001b[0;34m\u001b[0m\u001b[0;34m\u001b[0m\u001b[0m\n\u001b[0m",
            "\u001b[0;31mTypeError\u001b[0m: 'tensorflow.python.framework.ops.EagerTensor' object does not support item assignment"
          ]
        }
      ]
    },
    {
      "cell_type": "code",
      "metadata": {
        "id": "RtTBX6s5bMnJ",
        "colab": {
          "base_uri": "https://localhost:8080/"
        },
        "outputId": "b12f4f37-d41e-4f78-91f8-929fb6ac3a11"
      },
      "source": [
        "# Tensor 객체는 값을 변경 방법이 없다.\n",
        "t = tf.constant(10)\n",
        "t_clone = t\n",
        "t = tf.constant(20)\n",
        "print(t.numpy(), t_clone.numpy())\n",
        "print(f't is t_clone? : {t is t_clone}')"
      ],
      "execution_count": null,
      "outputs": [
        {
          "output_type": "stream",
          "name": "stdout",
          "text": [
            "20 10\n",
            "t is t_clone? : False\n"
          ]
        }
      ]
    },
    {
      "cell_type": "code",
      "metadata": {
        "id": "W0xFNpElbcd4",
        "colab": {
          "base_uri": "https://localhost:8080/"
        },
        "outputId": "947b654b-1dfe-4c75-a7d0-649d33863ad1"
      },
      "source": [
        "# Variable은 값을 변경할 수 있다.\n",
        "v = tf.Variable(10)\n",
        "v_clone = v\n",
        "v_clone.assign(20)\n",
        "\n",
        "print(v.numpy(), v_clone.numpy())\n",
        "print(f'v is v_clone?:{v is v_clone}')"
      ],
      "execution_count": null,
      "outputs": [
        {
          "output_type": "stream",
          "name": "stdout",
          "text": [
            "20 20\n",
            "v is v_clone?:True\n"
          ]
        }
      ]
    },
    {
      "cell_type": "markdown",
      "metadata": {
        "id": "7j6XVnYTLtBi"
      },
      "source": [
        "### 변수 랜덤 값 초기화"
      ]
    },
    {
      "cell_type": "code",
      "metadata": {
        "id": "2WVFYveILtBi",
        "colab": {
          "base_uri": "https://localhost:8080/"
        },
        "outputId": "19d1442c-3435-46ad-f733-8811cc0e9757"
      },
      "source": [
        "x = tf.Variable(tf.random.normal([]),)\n",
        "y = tf.Variable(tf.random.normal([2,3]))\n",
        "\n",
        "print(\"x:\", x)\n",
        "print(\"y:\", y)"
      ],
      "execution_count": null,
      "outputs": [
        {
          "output_type": "stream",
          "name": "stdout",
          "text": [
            "x: <tf.Variable 'Variable:0' shape=() dtype=float32, numpy=1.0668802>\n",
            "y: <tf.Variable 'Variable:0' shape=(2, 3) dtype=float32, numpy=\n",
            "array([[-1.8041286 , -0.11153453, -0.8455512 ],\n",
            "       [ 0.8489615 ,  0.12237629,  1.3350475 ]], dtype=float32)>\n"
          ]
        }
      ]
    },
    {
      "cell_type": "markdown",
      "metadata": {
        "id": "6SlHJVJQLtBi"
      },
      "source": [
        "# 자동 미분"
      ]
    },
    {
      "cell_type": "code",
      "metadata": {
        "id": "dPyhMHuYLtBi",
        "colab": {
          "base_uri": "https://localhost:8080/"
        },
        "outputId": "6a571f30-7c82-4b38-c5c1-4687c4730a45"
      },
      "source": [
        "#constant에 대한 미분을 할 때는 tape.watch(x)를 선언해줘야한다\n",
        "x = tf.constant(3.0)\n",
        "#x = tf.Variable(3.0)\n",
        "\n",
        "with tf.GradientTape(persistent=True) as tape:\n",
        "  tape.watch(x)\n",
        "  y = x**2\n",
        "  print(f'y:{y}')\n",
        "  z = 2*y\n",
        "  print(f'z:{z}')  \n",
        "dy = tape.gradient(y,x)\n",
        "print(f'dy:{dy}')\n",
        "dz = tape.gradient(z,x)\n",
        "print(f'dz:{dz}')\n"
      ],
      "execution_count": null,
      "outputs": [
        {
          "output_type": "stream",
          "name": "stdout",
          "text": [
            "y:9.0\n",
            "z:18.0\n",
            "dy:6.0\n",
            "dz:12.0\n"
          ]
        }
      ]
    },
    {
      "cell_type": "markdown",
      "metadata": {
        "id": "LeZ0EJX3ZR4S"
      },
      "source": [
        "# GPU 가속\n",
        "* Tensorflow는 연산에 CPU/GPU 사용 자동 결정\n",
        "* NumPy 배열은 CPU only, Tensor는 GPU, TPU 가능\n",
        "* GPU 가능 확인\n",
        "    * `tf.test.is_gpu_available()` : `<bool>`\n",
        "        * deprecated\n",
        "    * `tf.config.list_physical_devices(device_type)` : `<list>`\n",
        "        * device_type : 'GPU', 'CPU'\n",
        "\n",
        "\n"
      ]
    },
    {
      "cell_type": "code",
      "metadata": {
        "id": "nMkQlyAGZWeg",
        "colab": {
          "base_uri": "https://localhost:8080/"
        },
        "outputId": "cce294a6-ef25-4cc5-8126-4049baca7dea"
      },
      "source": [
        "tf.config.list_physical_devices()"
      ],
      "execution_count": null,
      "outputs": [
        {
          "output_type": "execute_result",
          "data": {
            "text/plain": [
              "[PhysicalDevice(name='/physical_device:CPU:0', device_type='CPU')]"
            ]
          },
          "metadata": {},
          "execution_count": 2
        }
      ]
    },
    {
      "cell_type": "code",
      "source": [
        "tf.test.is_gpu_available()"
      ],
      "metadata": {
        "colab": {
          "base_uri": "https://localhost:8080/"
        },
        "id": "2wxs1OjurGqm",
        "outputId": "f5ce6e70-be7f-40eb-afdb-39c0b2d4cbff"
      },
      "execution_count": null,
      "outputs": [
        {
          "output_type": "stream",
          "name": "stderr",
          "text": [
            "WARNING:tensorflow:From <ipython-input-48-17bb7203622b>:1: is_gpu_available (from tensorflow.python.framework.test_util) is deprecated and will be removed in a future version.\n",
            "Instructions for updating:\n",
            "Use `tf.config.list_physical_devices('GPU')` instead.\n"
          ]
        },
        {
          "output_type": "execute_result",
          "data": {
            "text/plain": [
              "True"
            ]
          },
          "metadata": {},
          "execution_count": 48
        }
      ]
    },
    {
      "cell_type": "markdown",
      "metadata": {
        "id": "hCxrHE5CatrH"
      },
      "source": [
        "## 장치 배치 확인\n",
        "* `tensor.device` : `<str>`"
      ]
    },
    {
      "cell_type": "code",
      "metadata": {
        "id": "fc35FlyNZbXO",
        "colab": {
          "base_uri": "https://localhost:8080/",
          "height": 35
        },
        "outputId": "ae007b5c-09b5-4f0f-fc37-97a62b62e996"
      },
      "source": [
        "tensor = tf.constant(1.0)\n",
        "tensor.device"
      ],
      "execution_count": null,
      "outputs": [
        {
          "output_type": "execute_result",
          "data": {
            "text/plain": [
              "'/job:localhost/replica:0/task:0/device:GPU:0'"
            ],
            "application/vnd.google.colaboratory.intrinsic+json": {
              "type": "string"
            }
          },
          "metadata": {},
          "execution_count": 2
        }
      ]
    },
    {
      "cell_type": "markdown",
      "metadata": {
        "id": "aJaJXLQLarCX"
      },
      "source": [
        "## 명시적 장치 배치 지정\n",
        "* `tf.device(device_name)`\n",
        "* with 구문으로 블럭 설정"
      ]
    },
    {
      "cell_type": "code",
      "metadata": {
        "id": "noRjQkJwZdJo",
        "colab": {
          "base_uri": "https://localhost:8080/"
        },
        "outputId": "6522cefb-a932-440b-9532-b44faf764610"
      },
      "source": [
        "with tf.device('CPU:0'):\n",
        "  t = tf.constant(2.0)\n",
        "  print(t.device)"
      ],
      "execution_count": null,
      "outputs": [
        {
          "output_type": "stream",
          "name": "stdout",
          "text": [
            "/job:localhost/replica:0/task:0/device:CPU:0\n"
          ]
        }
      ]
    },
    {
      "cell_type": "markdown",
      "metadata": {
        "id": "SERz_k4qLtBj"
      },
      "source": [
        "# Linear Regression 실습"
      ]
    },
    {
      "cell_type": "markdown",
      "source": [
        "* 데이터 생성"
      ],
      "metadata": {
        "id": "MKzpA7w8Y5G9"
      }
    },
    {
      "cell_type": "code",
      "metadata": {
        "id": "H-VazvnwLtBj",
        "colab": {
          "base_uri": "https://localhost:8080/",
          "height": 467
        },
        "outputId": "50127e77-f1d9-4c28-dd07-3dd215943c1f"
      },
      "source": [
        "tf.random.set_seed(0)\n",
        "m = 50\n",
        "X = tf.constant(range(m), tf.float32)\n",
        "y = X * 2\n",
        "y = y + tf.random.normal((50,)) *10\n",
        "print(X.shape, y.shape)\n",
        "plt.plot(X,y,'b.')"
      ],
      "execution_count": null,
      "outputs": [
        {
          "output_type": "stream",
          "name": "stdout",
          "text": [
            "(50,) (50,)\n"
          ]
        },
        {
          "output_type": "execute_result",
          "data": {
            "text/plain": [
              "[<matplotlib.lines.Line2D at 0x7fb13403c1c0>]"
            ]
          },
          "metadata": {},
          "execution_count": 5
        },
        {
          "output_type": "display_data",
          "data": {
            "text/plain": [
              "<Figure size 640x480 with 1 Axes>"
            ],
            "image/png": "[encoded data removed]"
          },
          "metadata": {}
        }
      ]
    },
    {
      "cell_type": "markdown",
      "source": [
        "* 경사 하강법"
      ],
      "metadata": {
        "id": "M09FlmbDZCjw"
      }
    },
    {
      "cell_type": "code",
      "metadata": {
        "id": "RTBSTv4HLtBk",
        "colab": {
          "base_uri": "https://localhost:8080/",
          "height": 594
        },
        "outputId": "f1495ad6-d807-457f-9ef7-6c2eabf86ff0"
      },
      "source": [
        "plt.plot(X,y,'b.')\n",
        "tf.random.set_seed(1)\n",
        "\n",
        "W = tf.Variable(tf.random.normal([]))\n",
        "print(W.numpy()) \n",
        "plt.plot(X, X*W, 'b-', label='initial W')\n",
        "for i in range(31):\n",
        "  with tf.GradientTape() as tape:\n",
        "    y_pred = X*W\n",
        "    #cost = tf.reduce_mean((y - y_pred)**2)\n",
        "    cost = tf.keras.losses.MSE(y,y_pred)\n",
        "  g = tape.gradient(cost, W)\n",
        "  #W.assign(W - g*0.0001)  # W = W - g*0.0001\n",
        "  W.assign_sub(g*0.0001)\n",
        "  if i%5 == 0:\n",
        "    print(f'{i}: cost: {cost}, g: {g}, W: {W.numpy()}')\n",
        "  plt.plot(X, y_pred, '--')\n",
        "plt.plot(X,y_pred,'r-', label='final W')\n",
        "\n",
        "plt.legend()"
      ],
      "execution_count": null,
      "outputs": [
        {
          "output_type": "stream",
          "name": "stdout",
          "text": [
            "-1.1012203\n",
            "0: cost: 7429.5361328125, g: -4871.765625, W: -0.6140437126159668\n",
            "5: cost: 1348.451416015625, g: -2016.89697265625, W: 0.8660035133361816\n",
            "10: cost: 306.192138671875, g: -834.98974609375, W: 1.4787389039993286\n",
            "15: cost: 127.55552673339844, g: -345.68341064453125, W: 1.7324095964431763\n",
            "20: cost: 96.93833923339844, g: -143.1119384765625, W: 1.8374285697937012\n",
            "25: cost: 91.69074249267578, g: -59.247833251953125, W: 1.8809062242507935\n",
            "30: cost: 90.79135131835938, g: -24.528400421142578, W: 1.8989057540893555\n"
          ]
        },
        {
          "output_type": "execute_result",
          "data": {
            "text/plain": [
              "<matplotlib.legend.Legend at 0x7fb110955f70>"
            ]
          },
          "metadata": {},
          "execution_count": 15
        },
        {
          "output_type": "display_data",
          "data": {
            "text/plain": [
              "<Figure size 640x480 with 1 Axes>"
            ],
            "image/png": "[encoded data removed]"
          },
          "metadata": {}
        }
      ]
    }
  ]
}