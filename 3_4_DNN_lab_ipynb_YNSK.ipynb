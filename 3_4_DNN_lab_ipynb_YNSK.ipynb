{
  "nbformat": 4,
  "nbformat_minor": 0,
  "metadata": {
    "kernelspec": {
      "display_name": "Python 3",
      "language": "python",
      "name": "python3"
    },
    "language_info": {
      "codemirror_mode": {
        "name": "ipython",
        "version": 3
      },
      "file_extension": ".py",
      "mimetype": "text/x-python",
      "name": "python",
      "nbconvert_exporter": "python",
      "pygments_lexer": "ipython3",
      "version": "3.7.6"
    },
    "colab": {
      "provenance": [],
      "toc_visible": true,
      "include_colab_link": true
    },
    "accelerator": "GPU"
  },
  "cells": [
    {
      "cell_type": "markdown",
      "metadata": {
        "id": "view-in-github",
        "colab_type": "text"
      },
      "source": [
        "<a href=\"https://colab.research.google.com/github/Ynsuk/intermidiate/blob/main/3_4_DNN_lab_ipynb_YNSK.ipynb\" target=\"_parent\"><img src=\"https://colab.research.google.com/assets/colab-badge.svg\" alt=\"Open In Colab\"/></a>"
      ]
    },
    {
      "cell_type": "markdown",
      "metadata": {
        "id": "qz7pBcrgLkl3"
      },
      "source": [
        "<h1>Deep Neural Network</h1>"
      ]
    },
    {
      "cell_type": "markdown",
      "source": [
        "# import"
      ],
      "metadata": {
        "id": "KDqhQhdtSvDm"
      }
    },
    {
      "cell_type": "code",
      "metadata": {
        "id": "VcOaDenG2Tvq"
      },
      "source": [
        "import tensorflow as tf\n",
        "from tensorflow import keras\n",
        "import numpy as np\n",
        "import pandas as pd\n",
        "import matplotlib.pyplot as plt\n",
        "from sklearn.preprocessing import StandardScaler\n",
        "from sklearn.model_selection import train_test_split\n",
        "from tensorflow.keras.datasets import boston_housing\n",
        "from tensorflow.keras.models import Sequential, Model\n",
        "from tensorflow.keras.layers import Input, Dense, Dropout, BatchNormalization, Activation\n",
        "from tensorflow.keras.losses import mse, binary_crossentropy\n",
        "from tensorflow.keras import regularizers\n",
        "from tensorflow.keras.callbacks import EarlyStopping, ModelCheckpoint\n",
        "from tensorflow.keras.utils import plot_model"
      ],
      "execution_count": null,
      "outputs": []
    },
    {
      "cell_type": "markdown",
      "metadata": {
        "id": "TlXtJ7KtFq9A"
      },
      "source": [
        "# Vanishing Gradient\n"
      ]
    },
    {
      "cell_type": "markdown",
      "metadata": {
        "id": "hS-Y9bJ7F96Q"
      },
      "source": [
        "## XOR 문제, Deep Model"
      ]
    },
    {
      "cell_type": "code",
      "metadata": {
        "id": "A7ofijjfFu6Q",
        "colab": {
          "base_uri": "https://localhost:8080/"
        },
        "outputId": "2694b0b7-6dbb-4b02-cdb5-f40e111553d0"
      },
      "source": [
        "tf.random.set_seed(777)\n",
        "\n",
        "X = np.array([[0, 0], [0, 1], [1, 0], [1, 1]], dtype=np.float32)\n",
        "y = np.array([0, 1, 1, 0], dtype=np.float32)\n",
        "\n",
        "model = Sequential()\n",
        "model.add(Dense(10, activation='sigmoid', input_shape=(2,)))\n",
        "model.add(Dense(10, activation='sigmoid'))\n",
        "model.add(Dense(10, activation='sigmoid'))\n",
        "model.add(Dense(10, activation='sigmoid'))\n",
        "model.add(Dense(10, activation='sigmoid'))\n",
        "model.add(Dense(10, activation='sigmoid'))\n",
        "model.add(Dense(10, activation='sigmoid'))\n",
        "model.add(Dense(1, activation='sigmoid'))\n",
        "\n",
        "model.summary()\n",
        "model.compile(optimizer='adam', loss='mse', metrics='accuracy')\n",
        "model.fit(X,y, epochs=5000, verbose=0)\n",
        "model.evaluate(X,y)\n",
        "model.predict(X)"
      ],
      "execution_count": null,
      "outputs": [
        {
          "output_type": "stream",
          "name": "stdout",
          "text": [
            "Model: \"sequential\"\n",
            "_________________________________________________________________\n",
            " Layer (type)                Output Shape              Param #   \n",
            "=================================================================\n",
            " dense (Dense)               (None, 10)                30        \n",
            "                                                                 \n",
            " dense_1 (Dense)             (None, 10)                110       \n",
            "                                                                 \n",
            " dense_2 (Dense)             (None, 10)                110       \n",
            "                                                                 \n",
            " dense_3 (Dense)             (None, 10)                110       \n",
            "                                                                 \n",
            " dense_4 (Dense)             (None, 10)                110       \n",
            "                                                                 \n",
            " dense_5 (Dense)             (None, 10)                110       \n",
            "                                                                 \n",
            " dense_6 (Dense)             (None, 10)                110       \n",
            "                                                                 \n",
            " dense_7 (Dense)             (None, 1)                 11        \n",
            "                                                                 \n",
            "=================================================================\n",
            "Total params: 701\n",
            "Trainable params: 701\n",
            "Non-trainable params: 0\n",
            "_________________________________________________________________\n",
            "1/1 [==============================] - 0s 154ms/step - loss: 0.1667 - accuracy: 0.7500\n",
            "1/1 [==============================] - 0s 104ms/step\n"
          ]
        },
        {
          "output_type": "execute_result",
          "data": {
            "text/plain": [
              "array([[0.33336225],\n",
              "       [0.99219644],\n",
              "       [0.33336058],\n",
              "       [0.33336383]], dtype=float32)"
            ]
          },
          "metadata": {},
          "execution_count": 2
        }
      ]
    },
    {
      "cell_type": "markdown",
      "metadata": {
        "id": "Jy2ZEl-FFyWf"
      },
      "source": [
        "## 활성화 함수를 변경 : 'relu'"
      ]
    },
    {
      "cell_type": "code",
      "metadata": {
        "id": "sSFRibanF3n_",
        "colab": {
          "base_uri": "https://localhost:8080/"
        },
        "outputId": "cc858f51-05e9-464f-d43c-3421d62afdf7"
      },
      "source": [
        "tf.random.set_seed(777)\n",
        "\n",
        "X = np.array([[0, 0], [0, 1], [1, 0], [1, 1]], dtype=np.float32)\n",
        "y = np.array([0, 1, 1, 0], dtype=np.float32)\n",
        "\n",
        "model = Sequential()\n",
        "model.add(Dense(10, activation='relu', input_shape=(2,)))\n",
        "model.add(Dense(10, activation='relu'))\n",
        "model.add(Dense(10, activation='relu'))\n",
        "model.add(Dense(10, activation='relu'))\n",
        "model.add(Dense(10, activation='relu'))\n",
        "model.add(Dense(10, activation='relu'))\n",
        "model.add(Dense(10, activation='relu'))\n",
        "model.add(Dense(1, activation='sigmoid'))\n",
        "\n",
        "model.summary()\n",
        "model.compile(optimizer='adam', loss='mse', metrics='accuracy')\n",
        "model.fit(X,y, epochs=5000, verbose=0)\n",
        "model.evaluate(X,y)\n",
        "model.predict(X)"
      ],
      "execution_count": null,
      "outputs": [
        {
          "output_type": "stream",
          "name": "stdout",
          "text": [
            "Model: \"sequential_1\"\n",
            "_________________________________________________________________\n",
            " Layer (type)                Output Shape              Param #   \n",
            "=================================================================\n",
            " dense_8 (Dense)             (None, 10)                30        \n",
            "                                                                 \n",
            " dense_9 (Dense)             (None, 10)                110       \n",
            "                                                                 \n",
            " dense_10 (Dense)            (None, 10)                110       \n",
            "                                                                 \n",
            " dense_11 (Dense)            (None, 10)                110       \n",
            "                                                                 \n",
            " dense_12 (Dense)            (None, 10)                110       \n",
            "                                                                 \n",
            " dense_13 (Dense)            (None, 10)                110       \n",
            "                                                                 \n",
            " dense_14 (Dense)            (None, 10)                110       \n",
            "                                                                 \n",
            " dense_15 (Dense)            (None, 1)                 11        \n",
            "                                                                 \n",
            "=================================================================\n",
            "Total params: 701\n",
            "Trainable params: 701\n",
            "Non-trainable params: 0\n",
            "_________________________________________________________________\n",
            "1/1 [==============================] - 0s 143ms/step - loss: 5.0016e-07 - accuracy: 1.0000\n",
            "1/1 [==============================] - 0s 77ms/step\n"
          ]
        },
        {
          "output_type": "execute_result",
          "data": {
            "text/plain": [
              "array([[1.1162285e-03],\n",
              "       [9.9963999e-01],\n",
              "       [9.9921095e-01],\n",
              "       [4.9661088e-05]], dtype=float32)"
            ]
          },
          "metadata": {},
          "execution_count": 3
        }
      ]
    },
    {
      "cell_type": "code",
      "source": [
        "tf.random.set_seed(777)\n",
        "\n",
        "X = np.array([[0, 0], [0, 1], [1, 0], [1, 1]], dtype=np.float32)\n",
        "y = np.array([0, 1, 1, 0], dtype=np.float32)\n",
        "\n",
        "model = Sequential()\n",
        "model.add(Dense(10, input_shape=(2,)))\n",
        "model.add(Dense(10))\n",
        "model.add(Dense(10))\n",
        "model.add(Dense(10))\n",
        "model.add(Dense(10))\n",
        "model.add(Dense(10))\n",
        "model.add(Dense(10, activation='relu'))\n",
        "model.add(Dense(1, activation='sigmoid'))\n",
        "\n",
        "model.summary()\n",
        "model.compile(optimizer='adam', loss='mse', metrics='accuracy')\n",
        "model.fit(X,y, epochs=5000, verbose=0)\n",
        "model.evaluate(X,y)\n",
        "model.predict(X)"
      ],
      "metadata": {
        "colab": {
          "base_uri": "https://localhost:8080/"
        },
        "id": "kZ0JUdUME6zX",
        "outputId": "1d512f1b-6dd8-43b3-a197-80efd06b4e96"
      },
      "execution_count": null,
      "outputs": [
        {
          "output_type": "stream",
          "name": "stdout",
          "text": [
            "Model: \"sequential_8\"\n",
            "_________________________________________________________________\n",
            " Layer (type)                Output Shape              Param #   \n",
            "=================================================================\n",
            " dense_44 (Dense)            (None, 10)                30        \n",
            "                                                                 \n",
            " dense_45 (Dense)            (None, 10)                110       \n",
            "                                                                 \n",
            " dense_46 (Dense)            (None, 10)                110       \n",
            "                                                                 \n",
            " dense_47 (Dense)            (None, 10)                110       \n",
            "                                                                 \n",
            " dense_48 (Dense)            (None, 10)                110       \n",
            "                                                                 \n",
            " dense_49 (Dense)            (None, 10)                110       \n",
            "                                                                 \n",
            " dense_50 (Dense)            (None, 10)                110       \n",
            "                                                                 \n",
            " dense_51 (Dense)            (None, 1)                 11        \n",
            "                                                                 \n",
            "=================================================================\n",
            "Total params: 701\n",
            "Trainable params: 701\n",
            "Non-trainable params: 0\n",
            "_________________________________________________________________\n",
            "1/1 [==============================] - 0s 130ms/step - loss: 4.0982e-07 - accuracy: 1.0000\n"
          ]
        },
        {
          "output_type": "stream",
          "name": "stderr",
          "text": [
            "WARNING:tensorflow:5 out of the last 5 calls to <function Model.make_predict_function.<locals>.predict_function at 0x7fc1d3c05b80> triggered tf.function retracing. Tracing is expensive and the excessive number of tracings could be due to (1) creating @tf.function repeatedly in a loop, (2) passing tensors with different shapes, (3) passing Python objects instead of tensors. For (1), please define your @tf.function outside of the loop. For (2), @tf.function has reduce_retracing=True option that can avoid unnecessary retracing. For (3), please refer to https://www.tensorflow.org/guide/function#controlling_retracing and https://www.tensorflow.org/api_docs/python/tf/function for  more details.\n"
          ]
        },
        {
          "output_type": "stream",
          "name": "stdout",
          "text": [
            "1/1 [==============================] - 0s 78ms/step\n"
          ]
        },
        {
          "output_type": "execute_result",
          "data": {
            "text/plain": [
              "array([[3.6027752e-05],\n",
              "       [9.9919814e-01],\n",
              "       [9.9918693e-01],\n",
              "       [5.7785184e-04]], dtype=float32)"
            ]
          },
          "metadata": {},
          "execution_count": 25
        }
      ]
    },
    {
      "cell_type": "markdown",
      "metadata": {
        "id": "nGJN4qq-LkmK"
      },
      "source": [
        "# 회귀 문제\n"
      ]
    },
    {
      "cell_type": "markdown",
      "source": [
        "## 보스턴 주택 가격 회귀 실습 데이터\n",
        "* http://lib.stat.cmu.edu/datasets/boston\n",
        "* `keras.datasets.boston_housing.load_data()`"
      ],
      "metadata": {
        "id": "DDRRCK1BQRU8"
      }
    },
    {
      "cell_type": "code",
      "source": [
        "(X_train, y_train), (X_test, y_test) = tf.keras.datasets.boston_housing.load_data(\n",
        "    path=\"boston_housing.npz\", test_split=0.2, seed=113)\n",
        "print(X_train.shape, y_train.shape, X_test.shape, y_test.shape)\n",
        "\n",
        "df = pd.DataFrame(X_train)\n",
        "df['target'] = y_train\n",
        "df\n",
        "\n",
        "# data를 표준화 혹은 정규화 해야한다.\n",
        "scaler = StandardScaler()\n",
        "X_train_scaled = scaler.fit_transform(X_train)\n",
        "X_test_scaled = scaler.transform(X_test)\n",
        "\n",
        "print(scaler.mean_, scaler.var_)\n",
        "df = pd.DataFrame(X_train_scaled)\n",
        "display(df)\n",
        "\n",
        "#validation은 학습하는 중간에 평가하는거, test set은 미래의 데이터?\n",
        "X_val, X_test, y_val, y_test = train_test_split(X_test_scaled, y_test, test_size=0.5, random_state=0)\n",
        "print(X_val.shape, X_test.shape, y_val.shape, y_test.shape)\n"
      ],
      "metadata": {
        "id": "qzBI_83BCMl7",
        "colab": {
          "base_uri": "https://localhost:8080/",
          "height": 588
        },
        "outputId": "b8b033cf-eb00-40fe-a588-66cc63c253bb"
      },
      "execution_count": null,
      "outputs": [
        {
          "output_type": "stream",
          "name": "stdout",
          "text": [
            "(404, 13) (404,) (102, 13) (102,)\n",
            "[3.74511057e+00 1.14801980e+01 1.11044307e+01 6.18811881e-02\n",
            " 5.57355941e-01 6.26708168e+00 6.90106436e+01 3.74027079e+00\n",
            " 9.44059406e+00 4.05898515e+02 1.84759901e+01 3.54783168e+02\n",
            " 1.27408168e+01] [8.51798073e+01 5.63505796e+02 4.62790747e+01 5.80519067e-02\n",
            " 1.37236180e-02 5.02551441e-01 7.78748377e+02 4.11156931e+00\n",
            " 7.54741937e+01 2.76119724e+04 4.82969580e+00 8.83498510e+03\n",
            " 5.24981521e+01]\n"
          ]
        },
        {
          "output_type": "display_data",
          "data": {
            "text/plain": [
              "           0         1         2         3         4         5         6   \\\n",
              "0   -0.272246 -0.483615 -0.435762 -0.256833 -0.165227 -0.176443  0.813062   \n",
              "1   -0.403427  2.991784 -1.333912 -0.256833 -1.215182  1.894346 -1.910361   \n",
              "2    0.124940 -0.483615  1.028326 -0.256833  0.628642 -1.829688  1.110488   \n",
              "3   -0.401494 -0.483615 -0.869402 -0.256833 -0.361560 -0.324558 -1.236672   \n",
              "4   -0.005634 -0.483615  1.028326 -0.256833  1.328612  0.153642  0.694808   \n",
              "..        ...       ...       ...       ...       ...       ...       ...   \n",
              "399 -0.381973 -0.483615 -0.616568 -0.256833 -0.933487 -0.938177 -0.251223   \n",
              "400 -0.388221  0.358906 -0.609218 -0.256833 -0.796907 -0.038202 -1.888860   \n",
              "401 -0.402030  0.990797 -0.741515 -0.256833 -1.019702 -0.333021 -1.638018   \n",
              "402 -0.172920 -0.483615  1.245881 -0.256833  2.677335 -0.787241  1.056737   \n",
              "403 -0.404226  2.043948 -1.201615 -0.256833 -1.334689  0.475263 -1.799274   \n",
              "\n",
              "           7         8         9         10        11        12  \n",
              "0    0.116698 -0.626249 -0.595170  1.148500  0.448077  0.825220  \n",
              "1    1.247585 -0.856463 -0.348433 -1.718189  0.431906 -1.329202  \n",
              "2   -1.187439  1.675886  1.565287  0.784476  0.220617 -1.308500  \n",
              "3    1.107180 -0.511142 -1.094663  0.784476  0.448077 -0.652926  \n",
              "4   -0.578572  1.675886  1.565287  0.784476  0.389882  0.263497  \n",
              "..        ...       ...       ...       ...       ...       ...  \n",
              "399  1.157680 -0.741356 -1.040501 -0.262093  0.448077  0.477421  \n",
              "400  0.339660 -0.741356 -1.100681  0.056428  0.448077 -0.848908  \n",
              "401  1.430403 -0.971569 -0.613224 -0.717123  0.079439 -0.677769  \n",
              "402 -1.044075 -0.511142 -0.017443 -1.718189 -0.987644  0.420835  \n",
              "403  1.222729 -0.971569 -0.847926 -1.308662  0.233171 -1.153923  \n",
              "\n",
              "[404 rows x 13 columns]"
            ],
            "text/html": [
              "\n",
              "  <div id=\"df-3c424ada-4871-445f-8d12-e3e72b3e8972\">\n",
              "    <div class=\"colab-df-container\">\n",
              "      <div>\n",
              "<style scoped>\n",
              "    .dataframe tbody tr th:only-of-type {\n",
              "        vertical-align: middle;\n",
              "    }\n",
              "\n",
              "    .dataframe tbody tr th {\n",
              "        vertical-align: top;\n",
              "    }\n",
              "\n",
              "    .dataframe thead th {\n",
              "        text-align: right;\n",
              "    }\n",
              "</style>\n",
              "<table border=\"1\" class=\"dataframe\">\n",
              "  <thead>\n",
              "    <tr style=\"text-align: right;\">\n",
              "      <th></th>\n",
              "      <th>0</th>\n",
              "      <th>1</th>\n",
              "      <th>2</th>\n",
              "      <th>3</th>\n",
              "      <th>4</th>\n",
              "      <th>5</th>\n",
              "      <th>6</th>\n",
              "      <th>7</th>\n",
              "      <th>8</th>\n",
              "      <th>9</th>\n",
              "      <th>10</th>\n",
              "      <th>11</th>\n",
              "      <th>12</th>\n",
              "    </tr>\n",
              "  </thead>\n",
              "  <tbody>\n",
              "    <tr>\n",
              "      <th>0</th>\n",
              "      <td>-0.272246</td>\n",
              "      <td>-0.483615</td>\n",
              "      <td>-0.435762</td>\n",
              "      <td>-0.256833</td>\n",
              "      <td>-0.165227</td>\n",
              "      <td>-0.176443</td>\n",
              "      <td>0.813062</td>\n",
              "      <td>0.116698</td>\n",
              "      <td>-0.626249</td>\n",
              "      <td>-0.595170</td>\n",
              "      <td>1.148500</td>\n",
              "      <td>0.448077</td>\n",
              "      <td>0.825220</td>\n",
              "    </tr>\n",
              "    <tr>\n",
              "      <th>1</th>\n",
              "      <td>-0.403427</td>\n",
              "      <td>2.991784</td>\n",
              "      <td>-1.333912</td>\n",
              "      <td>-0.256833</td>\n",
              "      <td>-1.215182</td>\n",
              "      <td>1.894346</td>\n",
              "      <td>-1.910361</td>\n",
              "      <td>1.247585</td>\n",
              "      <td>-0.856463</td>\n",
              "      <td>-0.348433</td>\n",
              "      <td>-1.718189</td>\n",
              "      <td>0.431906</td>\n",
              "      <td>-1.329202</td>\n",
              "    </tr>\n",
              "    <tr>\n",
              "      <th>2</th>\n",
              "      <td>0.124940</td>\n",
              "      <td>-0.483615</td>\n",
              "      <td>1.028326</td>\n",
              "      <td>-0.256833</td>\n",
              "      <td>0.628642</td>\n",
              "      <td>-1.829688</td>\n",
              "      <td>1.110488</td>\n",
              "      <td>-1.187439</td>\n",
              "      <td>1.675886</td>\n",
              "      <td>1.565287</td>\n",
              "      <td>0.784476</td>\n",
              "      <td>0.220617</td>\n",
              "      <td>-1.308500</td>\n",
              "    </tr>\n",
              "    <tr>\n",
              "      <th>3</th>\n",
              "      <td>-0.401494</td>\n",
              "      <td>-0.483615</td>\n",
              "      <td>-0.869402</td>\n",
              "      <td>-0.256833</td>\n",
              "      <td>-0.361560</td>\n",
              "      <td>-0.324558</td>\n",
              "      <td>-1.236672</td>\n",
              "      <td>1.107180</td>\n",
              "      <td>-0.511142</td>\n",
              "      <td>-1.094663</td>\n",
              "      <td>0.784476</td>\n",
              "      <td>0.448077</td>\n",
              "      <td>-0.652926</td>\n",
              "    </tr>\n",
              "    <tr>\n",
              "      <th>4</th>\n",
              "      <td>-0.005634</td>\n",
              "      <td>-0.483615</td>\n",
              "      <td>1.028326</td>\n",
              "      <td>-0.256833</td>\n",
              "      <td>1.328612</td>\n",
              "      <td>0.153642</td>\n",
              "      <td>0.694808</td>\n",
              "      <td>-0.578572</td>\n",
              "      <td>1.675886</td>\n",
              "      <td>1.565287</td>\n",
              "      <td>0.784476</td>\n",
              "      <td>0.389882</td>\n",
              "      <td>0.263497</td>\n",
              "    </tr>\n",
              "    <tr>\n",
              "      <th>...</th>\n",
              "      <td>...</td>\n",
              "      <td>...</td>\n",
              "      <td>...</td>\n",
              "      <td>...</td>\n",
              "      <td>...</td>\n",
              "      <td>...</td>\n",
              "      <td>...</td>\n",
              "      <td>...</td>\n",
              "      <td>...</td>\n",
              "      <td>...</td>\n",
              "      <td>...</td>\n",
              "      <td>...</td>\n",
              "      <td>...</td>\n",
              "    </tr>\n",
              "    <tr>\n",
              "      <th>399</th>\n",
              "      <td>-0.381973</td>\n",
              "      <td>-0.483615</td>\n",
              "      <td>-0.616568</td>\n",
              "      <td>-0.256833</td>\n",
              "      <td>-0.933487</td>\n",
              "      <td>-0.938177</td>\n",
              "      <td>-0.251223</td>\n",
              "      <td>1.157680</td>\n",
              "      <td>-0.741356</td>\n",
              "      <td>-1.040501</td>\n",
              "      <td>-0.262093</td>\n",
              "      <td>0.448077</td>\n",
              "      <td>0.477421</td>\n",
              "    </tr>\n",
              "    <tr>\n",
              "      <th>400</th>\n",
              "      <td>-0.388221</td>\n",
              "      <td>0.358906</td>\n",
              "      <td>-0.609218</td>\n",
              "      <td>-0.256833</td>\n",
              "      <td>-0.796907</td>\n",
              "      <td>-0.038202</td>\n",
              "      <td>-1.888860</td>\n",
              "      <td>0.339660</td>\n",
              "      <td>-0.741356</td>\n",
              "      <td>-1.100681</td>\n",
              "      <td>0.056428</td>\n",
              "      <td>0.448077</td>\n",
              "      <td>-0.848908</td>\n",
              "    </tr>\n",
              "    <tr>\n",
              "      <th>401</th>\n",
              "      <td>-0.402030</td>\n",
              "      <td>0.990797</td>\n",
              "      <td>-0.741515</td>\n",
              "      <td>-0.256833</td>\n",
              "      <td>-1.019702</td>\n",
              "      <td>-0.333021</td>\n",
              "      <td>-1.638018</td>\n",
              "      <td>1.430403</td>\n",
              "      <td>-0.971569</td>\n",
              "      <td>-0.613224</td>\n",
              "      <td>-0.717123</td>\n",
              "      <td>0.079439</td>\n",
              "      <td>-0.677769</td>\n",
              "    </tr>\n",
              "    <tr>\n",
              "      <th>402</th>\n",
              "      <td>-0.172920</td>\n",
              "      <td>-0.483615</td>\n",
              "      <td>1.245881</td>\n",
              "      <td>-0.256833</td>\n",
              "      <td>2.677335</td>\n",
              "      <td>-0.787241</td>\n",
              "      <td>1.056737</td>\n",
              "      <td>-1.044075</td>\n",
              "      <td>-0.511142</td>\n",
              "      <td>-0.017443</td>\n",
              "      <td>-1.718189</td>\n",
              "      <td>-0.987644</td>\n",
              "      <td>0.420835</td>\n",
              "    </tr>\n",
              "    <tr>\n",
              "      <th>403</th>\n",
              "      <td>-0.404226</td>\n",
              "      <td>2.043948</td>\n",
              "      <td>-1.201615</td>\n",
              "      <td>-0.256833</td>\n",
              "      <td>-1.334689</td>\n",
              "      <td>0.475263</td>\n",
              "      <td>-1.799274</td>\n",
              "      <td>1.222729</td>\n",
              "      <td>-0.971569</td>\n",
              "      <td>-0.847926</td>\n",
              "      <td>-1.308662</td>\n",
              "      <td>0.233171</td>\n",
              "      <td>-1.153923</td>\n",
              "    </tr>\n",
              "  </tbody>\n",
              "</table>\n",
              "<p>404 rows × 13 columns</p>\n",
              "</div>\n",
              "      <button class=\"colab-df-convert\" onclick=\"convertToInteractive('df-3c424ada-4871-445f-8d12-e3e72b3e8972')\"\n",
              "              title=\"Convert this dataframe to an interactive table.\"\n",
              "              style=\"display:none;\">\n",
              "        \n",
              "  <svg xmlns=\"http://www.w3.org/2000/svg\" height=\"24px\"viewBox=\"0 0 24 24\"\n",
              "       width=\"24px\">\n",
              "    <path d=\"M0 0h24v24H0V0z\" fill=\"none\"/>\n",
              "    <path d=\"M18.56 5.44l.94 2.06.94-2.06 2.06-.94-2.06-.94-.94-2.06-.94 2.06-2.06.94zm-11 1L8.5 8.5l.94-2.06 2.06-.94-2.06-.94L8.5 2.5l-.94 2.06-2.06.94zm10 10l.94 2.06.94-2.06 2.06-.94-2.06-.94-.94-2.06-.94 2.06-2.06.94z\"/><path d=\"M17.41 7.96l-1.37-1.37c-.4-.4-.92-.59-1.43-.59-.52 0-1.04.2-1.43.59L10.3 9.45l-7.72 7.72c-.78.78-.78 2.05 0 2.83L4 21.41c.39.39.9.59 1.41.59.51 0 1.02-.2 1.41-.59l7.78-7.78 2.81-2.81c.8-.78.8-2.07 0-2.86zM5.41 20L4 18.59l7.72-7.72 1.47 1.35L5.41 20z\"/>\n",
              "  </svg>\n",
              "      </button>\n",
              "      \n",
              "  <style>\n",
              "    .colab-df-container {\n",
              "      display:flex;\n",
              "      flex-wrap:wrap;\n",
              "      gap: 12px;\n",
              "    }\n",
              "\n",
              "    .colab-df-convert {\n",
              "      background-color: #E8F0FE;\n",
              "      border: none;\n",
              "      border-radius: 50%;\n",
              "      cursor: pointer;\n",
              "      display: none;\n",
              "      fill: #1967D2;\n",
              "      height: 32px;\n",
              "      padding: 0 0 0 0;\n",
              "      width: 32px;\n",
              "    }\n",
              "\n",
              "    .colab-df-convert:hover {\n",
              "      background-color: #E2EBFA;\n",
              "      box-shadow: 0px 1px 2px rgba(60, 64, 67, 0.3), 0px 1px 3px 1px rgba(60, 64, 67, 0.15);\n",
              "      fill: #174EA6;\n",
              "    }\n",
              "\n",
              "    [theme=dark] .colab-df-convert {\n",
              "      background-color: #3B4455;\n",
              "      fill: #D2E3FC;\n",
              "    }\n",
              "\n",
              "    [theme=dark] .colab-df-convert:hover {\n",
              "      background-color: #434B5C;\n",
              "      box-shadow: 0px 1px 3px 1px rgba(0, 0, 0, 0.15);\n",
              "      filter: drop-shadow(0px 1px 2px rgba(0, 0, 0, 0.3));\n",
              "      fill: #FFFFFF;\n",
              "    }\n",
              "  </style>\n",
              "\n",
              "      <script>\n",
              "        const buttonEl =\n",
              "          document.querySelector('#df-3c424ada-4871-445f-8d12-e3e72b3e8972 button.colab-df-convert');\n",
              "        buttonEl.style.display =\n",
              "          google.colab.kernel.accessAllowed ? 'block' : 'none';\n",
              "\n",
              "        async function convertToInteractive(key) {\n",
              "          const element = document.querySelector('#df-3c424ada-4871-445f-8d12-e3e72b3e8972');\n",
              "          const dataTable =\n",
              "            await google.colab.kernel.invokeFunction('convertToInteractive',\n",
              "                                                     [key], {});\n",
              "          if (!dataTable) return;\n",
              "\n",
              "          const docLinkHtml = 'Like what you see? Visit the ' +\n",
              "            '<a target=\"_blank\" href=https://colab.research.google.com/notebooks/data_table.ipynb>data table notebook</a>'\n",
              "            + ' to learn more about interactive tables.';\n",
              "          element.innerHTML = '';\n",
              "          dataTable['output_type'] = 'display_data';\n",
              "          await google.colab.output.renderOutput(dataTable, element);\n",
              "          const docLink = document.createElement('div');\n",
              "          docLink.innerHTML = docLinkHtml;\n",
              "          element.appendChild(docLink);\n",
              "        }\n",
              "      </script>\n",
              "    </div>\n",
              "  </div>\n",
              "  "
            ]
          },
          "metadata": {}
        },
        {
          "output_type": "stream",
          "name": "stdout",
          "text": [
            "(51, 13) (51, 13) (51,) (51,)\n"
          ]
        }
      ]
    },
    {
      "cell_type": "code",
      "source": [
        "def r2(y_true, y_pred):\n",
        "    r2_score=1-tf.reduce_sum((y_true-y_pred)**2)/tf.reduce_sum((y_true-tf.reduce_mean(y_true))**2)\n",
        "    return r2_score\n",
        "  \n"
      ],
      "metadata": {
        "id": "jrgK7LntXmsX"
      },
      "execution_count": null,
      "outputs": []
    },
    {
      "cell_type": "code",
      "source": [
        "tf.random.set_seed(0)\n",
        "np.random.seed(0)\n",
        "\n",
        "model = Sequential()\n",
        "model.add(Dense(64, activation='relu', input_shape=(13,)))\n",
        "model.add(Dense(64, activation='relu'))\n",
        "model.add(Dense(1))\n",
        "model.compile(optimizer='adam',loss='mse',metrics=['mae', r2])\n",
        "model.summary()\n",
        "\n",
        "history = model.fit(X_train_scaled, y_train, epochs=200, validation_data=(X_val, y_val), batch_size=100)\n",
        "model.evaluate(X_train_scaled, y_train)\n",
        "model.evaluate(X_test, y_test)\n",
        "\n"
      ],
      "metadata": {
        "id": "c8B7bqq8WF9K",
        "colab": {
          "base_uri": "https://localhost:8080/"
        },
        "outputId": "b91f93c0-d869-4fd5-b7d3-27d04b5012a5"
      },
      "execution_count": null,
      "outputs": [
        {
          "output_type": "stream",
          "name": "stdout",
          "text": [
            "Model: \"sequential_6\"\n",
            "_________________________________________________________________\n",
            " Layer (type)                Output Shape              Param #   \n",
            "=================================================================\n",
            " dense_33 (Dense)            (None, 64)                896       \n",
            "                                                                 \n",
            " dense_34 (Dense)            (None, 64)                4160      \n",
            "                                                                 \n",
            " dense_35 (Dense)            (None, 1)                 65        \n",
            "                                                                 \n",
            "=================================================================\n",
            "Total params: 5,121\n",
            "Trainable params: 5,121\n",
            "Non-trainable params: 0\n",
            "_________________________________________________________________\n",
            "Epoch 1/200\n",
            "5/5 [==============================] - 2s 53ms/step - loss: 594.9488 - mae: 22.5420 - r2: -5.9666 - val_loss: 608.4158 - val_mae: 22.7195 - val_r2: -5.7146\n",
            "Epoch 2/200\n",
            "5/5 [==============================] - 0s 15ms/step - loss: 573.5807 - mae: 22.0454 - r2: -5.9322 - val_loss: 587.6052 - val_mae: 22.2237 - val_r2: -5.4849\n",
            "Epoch 3/200\n",
            "5/5 [==============================] - 0s 15ms/step - loss: 553.5750 - mae: 21.5556 - r2: -8.9376 - val_loss: 567.4559 - val_mae: 21.7273 - val_r2: -5.2625\n",
            "Epoch 4/200\n",
            "5/5 [==============================] - 0s 11ms/step - loss: 533.9857 - mae: 21.0615 - r2: -6.2678 - val_loss: 547.4517 - val_mae: 21.2171 - val_r2: -5.0418\n",
            "Epoch 5/200\n",
            "5/5 [==============================] - 0s 16ms/step - loss: 513.6517 - mae: 20.5357 - r2: -5.9145 - val_loss: 525.8002 - val_mae: 20.6523 - val_r2: -4.8028\n",
            "Epoch 6/200\n",
            "5/5 [==============================] - 0s 11ms/step - loss: 491.6464 - mae: 19.9631 - r2: -5.0308 - val_loss: 502.1090 - val_mae: 20.0171 - val_r2: -4.5414\n",
            "Epoch 7/200\n",
            "5/5 [==============================] - 0s 13ms/step - loss: 467.2950 - mae: 19.3200 - r2: -4.2825 - val_loss: 475.2255 - val_mae: 19.3017 - val_r2: -4.2447\n",
            "Epoch 8/200\n",
            "5/5 [==============================] - 0s 15ms/step - loss: 440.0634 - mae: 18.5827 - r2: -5.8842 - val_loss: 445.3478 - val_mae: 18.5584 - val_r2: -3.9149\n",
            "Epoch 9/200\n",
            "5/5 [==============================] - 0s 15ms/step - loss: 408.7972 - mae: 17.7533 - r2: -3.7779 - val_loss: 412.3755 - val_mae: 17.7483 - val_r2: -3.5510\n",
            "Epoch 10/200\n",
            "5/5 [==============================] - 0s 15ms/step - loss: 374.3206 - mae: 16.8142 - r2: -3.9907 - val_loss: 375.3839 - val_mae: 16.8285 - val_r2: -3.1428\n",
            "Epoch 11/200\n",
            "5/5 [==============================] - 0s 11ms/step - loss: 336.6816 - mae: 15.7685 - r2: -3.6551 - val_loss: 334.7638 - val_mae: 15.8007 - val_r2: -2.6945\n",
            "Epoch 12/200\n",
            "5/5 [==============================] - 0s 11ms/step - loss: 294.1971 - mae: 14.5380 - r2: -2.3612 - val_loss: 292.9726 - val_mae: 14.6955 - val_r2: -2.2333\n",
            "Epoch 13/200\n",
            "5/5 [==============================] - 0s 11ms/step - loss: 252.6975 - mae: 13.2586 - r2: -4.5331 - val_loss: 250.9413 - val_mae: 13.4910 - val_r2: -1.7694\n",
            "Epoch 14/200\n",
            "5/5 [==============================] - 0s 16ms/step - loss: 210.6399 - mae: 11.9011 - r2: -4.6186 - val_loss: 210.3240 - val_mae: 12.1988 - val_r2: -1.3212\n",
            "Epoch 15/200\n",
            "5/5 [==============================] - 0s 11ms/step - loss: 171.2329 - mae: 10.5102 - r2: -1.1486 - val_loss: 172.2091 - val_mae: 10.8728 - val_r2: -0.9005\n",
            "Epoch 16/200\n",
            "5/5 [==============================] - 0s 11ms/step - loss: 134.7167 - mae: 9.1006 - r2: -0.4741 - val_loss: 138.7719 - val_mae: 9.6261 - val_r2: -0.5315\n",
            "Epoch 17/200\n",
            "5/5 [==============================] - 0s 12ms/step - loss: 104.3862 - mae: 7.7507 - r2: -0.4323 - val_loss: 112.6829 - val_mae: 8.5567 - val_r2: -0.2436\n",
            "Epoch 18/200\n",
            "5/5 [==============================] - 0s 11ms/step - loss: 84.8452 - mae: 6.7612 - r2: -2.7638 - val_loss: 94.7721 - val_mae: 7.8085 - val_r2: -0.0459\n",
            "Epoch 19/200\n",
            "5/5 [==============================] - 0s 11ms/step - loss: 71.7258 - mae: 6.1866 - r2: 0.2067 - val_loss: 82.6561 - val_mae: 7.2460 - val_r2: 0.0878\n",
            "Epoch 20/200\n",
            "5/5 [==============================] - 0s 12ms/step - loss: 64.2393 - mae: 5.8346 - r2: -0.3812 - val_loss: 73.3185 - val_mae: 6.8051 - val_r2: 0.1908\n",
            "Epoch 21/200\n",
            "5/5 [==============================] - 0s 15ms/step - loss: 58.8427 - mae: 5.5665 - r2: 0.3457 - val_loss: 65.7349 - val_mae: 6.4069 - val_r2: 0.2745\n",
            "Epoch 22/200\n",
            "5/5 [==============================] - 0s 10ms/step - loss: 54.2944 - mae: 5.3183 - r2: -0.7751 - val_loss: 58.8153 - val_mae: 6.0300 - val_r2: 0.3509\n",
            "Epoch 23/200\n",
            "5/5 [==============================] - 0s 11ms/step - loss: 49.7666 - mae: 5.0520 - r2: 0.3561 - val_loss: 52.7118 - val_mae: 5.7297 - val_r2: 0.4183\n",
            "Epoch 24/200\n",
            "5/5 [==============================] - 0s 11ms/step - loss: 45.3861 - mae: 4.7932 - r2: 0.3403 - val_loss: 47.3432 - val_mae: 5.4543 - val_r2: 0.4775\n",
            "Epoch 25/200\n",
            "5/5 [==============================] - 0s 15ms/step - loss: 41.3327 - mae: 4.5549 - r2: 0.2533 - val_loss: 42.8677 - val_mae: 5.2163 - val_r2: 0.5269\n",
            "Epoch 26/200\n",
            "5/5 [==============================] - 0s 11ms/step - loss: 38.1613 - mae: 4.3694 - r2: 0.5809 - val_loss: 38.9845 - val_mae: 4.9900 - val_r2: 0.5698\n",
            "Epoch 27/200\n",
            "5/5 [==============================] - 0s 13ms/step - loss: 35.3955 - mae: 4.1896 - r2: 0.0879 - val_loss: 35.5702 - val_mae: 4.7594 - val_r2: 0.6074\n",
            "Epoch 28/200\n",
            "5/5 [==============================] - 0s 15ms/step - loss: 32.8878 - mae: 4.0412 - r2: 0.6605 - val_loss: 33.0304 - val_mae: 4.5718 - val_r2: 0.6355\n",
            "Epoch 29/200\n",
            "5/5 [==============================] - 0s 11ms/step - loss: 30.8567 - mae: 3.9110 - r2: 0.6784 - val_loss: 30.8063 - val_mae: 4.4009 - val_r2: 0.6600\n",
            "Epoch 30/200\n",
            "5/5 [==============================] - 0s 12ms/step - loss: 29.1865 - mae: 3.7865 - r2: 0.2533 - val_loss: 28.9221 - val_mae: 4.2605 - val_r2: 0.6808\n",
            "Epoch 31/200\n",
            "5/5 [==============================] - 0s 11ms/step - loss: 27.9146 - mae: 3.6899 - r2: 0.5783 - val_loss: 27.6786 - val_mae: 4.1757 - val_r2: 0.6945\n",
            "Epoch 32/200\n",
            "5/5 [==============================] - 0s 11ms/step - loss: 26.8432 - mae: 3.6200 - r2: 0.6778 - val_loss: 26.7787 - val_mae: 4.1254 - val_r2: 0.7045\n",
            "Epoch 33/200\n",
            "5/5 [==============================] - 0s 12ms/step - loss: 25.7829 - mae: 3.5538 - r2: 0.6320 - val_loss: 26.0809 - val_mae: 4.0774 - val_r2: 0.7122\n",
            "Epoch 34/200\n",
            "5/5 [==============================] - 0s 15ms/step - loss: 24.9740 - mae: 3.5026 - r2: 0.5590 - val_loss: 25.5764 - val_mae: 4.0632 - val_r2: 0.7177\n",
            "Epoch 35/200\n",
            "5/5 [==============================] - 0s 16ms/step - loss: 24.2693 - mae: 3.4889 - r2: 0.7161 - val_loss: 25.3958 - val_mae: 4.0936 - val_r2: 0.7197\n",
            "Epoch 36/200\n",
            "5/5 [==============================] - 0s 15ms/step - loss: 23.6182 - mae: 3.4827 - r2: 0.7519 - val_loss: 25.0770 - val_mae: 4.0612 - val_r2: 0.7232\n",
            "Epoch 37/200\n",
            "5/5 [==============================] - 0s 15ms/step - loss: 22.9077 - mae: 3.4327 - r2: 0.6132 - val_loss: 24.3600 - val_mae: 3.9659 - val_r2: 0.7312\n",
            "Epoch 38/200\n",
            "5/5 [==============================] - 0s 14ms/step - loss: 22.0746 - mae: 3.3352 - r2: 0.7542 - val_loss: 23.7381 - val_mae: 3.8697 - val_r2: 0.7380\n",
            "Epoch 39/200\n",
            "5/5 [==============================] - 0s 15ms/step - loss: 21.4641 - mae: 3.2640 - r2: 0.7266 - val_loss: 23.2552 - val_mae: 3.7999 - val_r2: 0.7434\n",
            "Epoch 40/200\n",
            "5/5 [==============================] - 0s 14ms/step - loss: 21.0225 - mae: 3.2090 - r2: 0.6426 - val_loss: 22.9355 - val_mae: 3.7372 - val_r2: 0.7469\n",
            "Epoch 41/200\n",
            "5/5 [==============================] - 0s 15ms/step - loss: 20.6487 - mae: 3.1733 - r2: 0.7361 - val_loss: 22.6891 - val_mae: 3.6933 - val_r2: 0.7496\n",
            "Epoch 42/200\n",
            "5/5 [==============================] - 0s 11ms/step - loss: 20.3014 - mae: 3.1462 - r2: 0.7925 - val_loss: 22.6134 - val_mae: 3.6697 - val_r2: 0.7504\n",
            "Epoch 43/200\n",
            "5/5 [==============================] - 0s 11ms/step - loss: 19.9742 - mae: 3.1238 - r2: 0.7471 - val_loss: 22.5863 - val_mae: 3.6588 - val_r2: 0.7507\n",
            "Epoch 44/200\n",
            "5/5 [==============================] - 0s 16ms/step - loss: 19.6252 - mae: 3.1020 - r2: 0.7984 - val_loss: 22.5422 - val_mae: 3.6432 - val_r2: 0.7512\n",
            "Epoch 45/200\n",
            "5/5 [==============================] - 0s 13ms/step - loss: 19.2923 - mae: 3.0786 - r2: 0.7772 - val_loss: 22.5406 - val_mae: 3.6326 - val_r2: 0.7512\n",
            "Epoch 46/200\n",
            "5/5 [==============================] - 0s 15ms/step - loss: 19.0344 - mae: 3.0643 - r2: 0.7925 - val_loss: 22.5767 - val_mae: 3.6215 - val_r2: 0.7508\n",
            "Epoch 47/200\n",
            "5/5 [==============================] - 0s 11ms/step - loss: 18.6990 - mae: 3.0346 - r2: 0.7840 - val_loss: 22.4362 - val_mae: 3.5900 - val_r2: 0.7524\n",
            "Epoch 48/200\n",
            "5/5 [==============================] - 0s 15ms/step - loss: 18.4109 - mae: 2.9974 - r2: 0.7998 - val_loss: 22.4276 - val_mae: 3.5610 - val_r2: 0.7525\n",
            "Epoch 49/200\n",
            "5/5 [==============================] - 0s 15ms/step - loss: 18.1572 - mae: 2.9698 - r2: 0.7874 - val_loss: 22.4880 - val_mae: 3.5336 - val_r2: 0.7518\n",
            "Epoch 50/200\n",
            "5/5 [==============================] - 0s 11ms/step - loss: 17.9303 - mae: 2.9439 - r2: 0.6998 - val_loss: 22.5360 - val_mae: 3.5093 - val_r2: 0.7513\n",
            "Epoch 51/200\n",
            "5/5 [==============================] - 0s 15ms/step - loss: 17.6815 - mae: 2.9188 - r2: 0.7884 - val_loss: 22.6136 - val_mae: 3.4940 - val_r2: 0.7504\n",
            "Epoch 52/200\n",
            "5/5 [==============================] - 0s 15ms/step - loss: 17.3910 - mae: 2.8994 - r2: -0.7612 - val_loss: 22.7468 - val_mae: 3.4875 - val_r2: 0.7490\n",
            "Epoch 53/200\n",
            "5/5 [==============================] - 0s 17ms/step - loss: 17.1931 - mae: 2.8913 - r2: 0.8166 - val_loss: 22.9762 - val_mae: 3.5055 - val_r2: 0.7464\n",
            "Epoch 54/200\n",
            "5/5 [==============================] - 0s 12ms/step - loss: 16.8591 - mae: 2.8817 - r2: 0.8186 - val_loss: 23.0632 - val_mae: 3.5014 - val_r2: 0.7455\n",
            "Epoch 55/200\n",
            "5/5 [==============================] - 0s 15ms/step - loss: 16.6499 - mae: 2.8613 - r2: 0.7095 - val_loss: 23.0455 - val_mae: 3.4800 - val_r2: 0.7457\n",
            "Epoch 56/200\n",
            "5/5 [==============================] - 0s 19ms/step - loss: 16.4151 - mae: 2.8284 - r2: 0.8296 - val_loss: 22.9249 - val_mae: 3.4495 - val_r2: 0.7470\n",
            "Epoch 57/200\n",
            "5/5 [==============================] - 0s 20ms/step - loss: 16.2873 - mae: 2.7978 - r2: 0.8141 - val_loss: 22.8696 - val_mae: 3.4233 - val_r2: 0.7476\n",
            "Epoch 58/200\n",
            "5/5 [==============================] - 0s 20ms/step - loss: 16.1942 - mae: 2.7837 - r2: 0.8345 - val_loss: 22.9792 - val_mae: 3.4193 - val_r2: 0.7464\n",
            "Epoch 59/200\n",
            "5/5 [==============================] - 0s 20ms/step - loss: 16.0239 - mae: 2.7700 - r2: 0.8213 - val_loss: 23.1432 - val_mae: 3.4330 - val_r2: 0.7446\n",
            "Epoch 60/200\n",
            "5/5 [==============================] - 0s 19ms/step - loss: 15.8414 - mae: 2.7582 - r2: 0.8363 - val_loss: 23.2774 - val_mae: 3.4340 - val_r2: 0.7431\n",
            "Epoch 61/200\n",
            "5/5 [==============================] - 0s 18ms/step - loss: 15.6443 - mae: 2.7430 - r2: 0.8282 - val_loss: 23.3835 - val_mae: 3.4149 - val_r2: 0.7419\n",
            "Epoch 62/200\n",
            "5/5 [==============================] - 0s 15ms/step - loss: 15.3345 - mae: 2.7257 - r2: 0.7226 - val_loss: 23.5952 - val_mae: 3.4280 - val_r2: 0.7396\n",
            "Epoch 63/200\n",
            "5/5 [==============================] - 0s 18ms/step - loss: 15.0630 - mae: 2.7248 - r2: 0.6621 - val_loss: 24.2018 - val_mae: 3.4932 - val_r2: 0.7329\n",
            "Epoch 64/200\n",
            "5/5 [==============================] - 0s 19ms/step - loss: 14.9434 - mae: 2.7438 - r2: 0.8271 - val_loss: 24.7467 - val_mae: 3.5228 - val_r2: 0.7269\n",
            "Epoch 65/200\n",
            "5/5 [==============================] - 0s 19ms/step - loss: 14.7496 - mae: 2.7442 - r2: 0.8376 - val_loss: 25.1505 - val_mae: 3.5188 - val_r2: 0.7224\n",
            "Epoch 66/200\n",
            "5/5 [==============================] - 0s 19ms/step - loss: 14.6124 - mae: 2.7307 - r2: 0.8355 - val_loss: 24.9709 - val_mae: 3.4777 - val_r2: 0.7244\n",
            "Epoch 67/200\n",
            "5/5 [==============================] - 0s 17ms/step - loss: 14.4694 - mae: 2.7150 - r2: 0.6316 - val_loss: 25.0295 - val_mae: 3.4701 - val_r2: 0.7238\n",
            "Epoch 68/200\n",
            "5/5 [==============================] - 0s 18ms/step - loss: 14.3651 - mae: 2.7004 - r2: 0.6552 - val_loss: 24.8457 - val_mae: 3.4503 - val_r2: 0.7258\n",
            "Epoch 69/200\n",
            "5/5 [==============================] - 0s 18ms/step - loss: 14.2262 - mae: 2.6837 - r2: 0.8455 - val_loss: 24.6149 - val_mae: 3.4272 - val_r2: 0.7283\n",
            "Epoch 70/200\n",
            "5/5 [==============================] - 0s 17ms/step - loss: 14.0535 - mae: 2.6619 - r2: 0.8209 - val_loss: 24.3917 - val_mae: 3.3992 - val_r2: 0.7308\n",
            "Epoch 71/200\n",
            "5/5 [==============================] - 0s 17ms/step - loss: 13.8683 - mae: 2.6350 - r2: 0.8496 - val_loss: 24.0402 - val_mae: 3.3368 - val_r2: 0.7347\n",
            "Epoch 72/200\n",
            "5/5 [==============================] - 0s 20ms/step - loss: 13.6806 - mae: 2.6027 - r2: 0.8129 - val_loss: 23.7571 - val_mae: 3.2888 - val_r2: 0.7378\n",
            "Epoch 73/200\n",
            "5/5 [==============================] - 0s 19ms/step - loss: 13.5855 - mae: 2.5804 - r2: 0.8619 - val_loss: 23.6318 - val_mae: 3.2704 - val_r2: 0.7392\n",
            "Epoch 74/200\n",
            "5/5 [==============================] - 0s 20ms/step - loss: 13.5547 - mae: 2.5788 - r2: 0.6646 - val_loss: 23.7516 - val_mae: 3.2670 - val_r2: 0.7379\n",
            "Epoch 75/200\n",
            "5/5 [==============================] - 0s 15ms/step - loss: 13.4422 - mae: 2.5681 - r2: 0.8655 - val_loss: 24.1070 - val_mae: 3.2694 - val_r2: 0.7340\n",
            "Epoch 76/200\n",
            "5/5 [==============================] - 0s 20ms/step - loss: 13.2898 - mae: 2.5612 - r2: 0.4855 - val_loss: 24.5739 - val_mae: 3.2790 - val_r2: 0.7288\n",
            "Epoch 77/200\n",
            "5/5 [==============================] - 0s 21ms/step - loss: 13.0795 - mae: 2.5545 - r2: 0.8157 - val_loss: 24.9569 - val_mae: 3.3128 - val_r2: 0.7246\n",
            "Epoch 78/200\n",
            "5/5 [==============================] - 0s 21ms/step - loss: 13.0009 - mae: 2.5528 - r2: 0.7851 - val_loss: 25.2778 - val_mae: 3.3308 - val_r2: 0.7210\n",
            "Epoch 79/200\n",
            "5/5 [==============================] - 0s 15ms/step - loss: 12.9175 - mae: 2.5547 - r2: 0.8589 - val_loss: 25.4762 - val_mae: 3.3460 - val_r2: 0.7188\n",
            "Epoch 80/200\n",
            "5/5 [==============================] - 0s 20ms/step - loss: 12.8841 - mae: 2.5505 - r2: 0.8394 - val_loss: 25.5072 - val_mae: 3.3532 - val_r2: 0.7185\n",
            "Epoch 81/200\n",
            "5/5 [==============================] - 0s 17ms/step - loss: 12.8242 - mae: 2.5442 - r2: 0.3146 - val_loss: 25.6655 - val_mae: 3.3497 - val_r2: 0.7168\n",
            "Epoch 82/200\n",
            "5/5 [==============================] - 0s 17ms/step - loss: 12.7102 - mae: 2.5386 - r2: 0.8757 - val_loss: 25.8955 - val_mae: 3.3466 - val_r2: 0.7142\n",
            "Epoch 83/200\n",
            "5/5 [==============================] - 0s 12ms/step - loss: 12.5669 - mae: 2.5280 - r2: 0.5241 - val_loss: 25.8254 - val_mae: 3.3063 - val_r2: 0.7150\n",
            "Epoch 84/200\n",
            "5/5 [==============================] - 0s 15ms/step - loss: 12.4288 - mae: 2.5100 - r2: 0.8450 - val_loss: 25.8301 - val_mae: 3.2880 - val_r2: 0.7149\n",
            "Epoch 85/200\n",
            "5/5 [==============================] - 0s 11ms/step - loss: 12.3223 - mae: 2.4962 - r2: 0.7775 - val_loss: 25.9808 - val_mae: 3.2958 - val_r2: 0.7133\n",
            "Epoch 86/200\n",
            "5/5 [==============================] - 0s 13ms/step - loss: 12.3628 - mae: 2.5122 - r2: 0.8238 - val_loss: 26.4079 - val_mae: 3.3271 - val_r2: 0.7086\n",
            "Epoch 87/200\n",
            "5/5 [==============================] - 0s 11ms/step - loss: 12.3658 - mae: 2.5245 - r2: 0.8467 - val_loss: 26.3119 - val_mae: 3.3210 - val_r2: 0.7096\n",
            "Epoch 88/200\n",
            "5/5 [==============================] - 0s 15ms/step - loss: 12.2510 - mae: 2.5045 - r2: 0.8537 - val_loss: 25.7560 - val_mae: 3.2871 - val_r2: 0.7158\n",
            "Epoch 89/200\n",
            "5/5 [==============================] - 0s 15ms/step - loss: 12.0803 - mae: 2.4747 - r2: 0.8733 - val_loss: 25.5844 - val_mae: 3.2643 - val_r2: 0.7176\n",
            "Epoch 90/200\n",
            "5/5 [==============================] - 0s 11ms/step - loss: 11.9973 - mae: 2.4622 - r2: 0.8727 - val_loss: 25.9546 - val_mae: 3.2821 - val_r2: 0.7136\n",
            "Epoch 91/200\n",
            "5/5 [==============================] - 0s 15ms/step - loss: 11.8885 - mae: 2.4510 - r2: 0.8275 - val_loss: 25.9268 - val_mae: 3.2779 - val_r2: 0.7139\n",
            "Epoch 92/200\n",
            "5/5 [==============================] - 0s 12ms/step - loss: 11.8685 - mae: 2.4470 - r2: 0.8628 - val_loss: 25.7690 - val_mae: 3.2653 - val_r2: 0.7156\n",
            "Epoch 93/200\n",
            "5/5 [==============================] - 0s 15ms/step - loss: 11.8080 - mae: 2.4375 - r2: 0.8655 - val_loss: 25.5550 - val_mae: 3.2305 - val_r2: 0.7180\n",
            "Epoch 94/200\n",
            "5/5 [==============================] - 0s 11ms/step - loss: 11.7356 - mae: 2.4289 - r2: 0.8019 - val_loss: 25.4481 - val_mae: 3.2122 - val_r2: 0.7192\n",
            "Epoch 95/200\n",
            "5/5 [==============================] - 0s 11ms/step - loss: 11.6698 - mae: 2.4179 - r2: 0.8168 - val_loss: 25.7920 - val_mae: 3.2207 - val_r2: 0.7154\n",
            "Epoch 96/200\n",
            "5/5 [==============================] - 0s 14ms/step - loss: 11.5993 - mae: 2.4068 - r2: 0.8798 - val_loss: 26.3947 - val_mae: 3.2650 - val_r2: 0.7087\n",
            "Epoch 97/200\n",
            "5/5 [==============================] - 0s 18ms/step - loss: 11.5475 - mae: 2.4008 - r2: 0.8731 - val_loss: 26.5857 - val_mae: 3.2625 - val_r2: 0.7066\n",
            "Epoch 98/200\n",
            "5/5 [==============================] - 0s 12ms/step - loss: 11.4793 - mae: 2.3973 - r2: 0.0340 - val_loss: 26.8537 - val_mae: 3.2561 - val_r2: 0.7036\n",
            "Epoch 99/200\n",
            "5/5 [==============================] - 0s 11ms/step - loss: 11.3977 - mae: 2.4029 - r2: 0.6915 - val_loss: 27.6749 - val_mae: 3.2770 - val_r2: 0.6946\n",
            "Epoch 100/200\n",
            "5/5 [==============================] - 0s 11ms/step - loss: 11.3571 - mae: 2.4133 - r2: 0.8361 - val_loss: 27.6395 - val_mae: 3.2667 - val_r2: 0.6950\n",
            "Epoch 101/200\n",
            "5/5 [==============================] - 0s 13ms/step - loss: 11.2505 - mae: 2.3977 - r2: 0.8754 - val_loss: 27.5143 - val_mae: 3.2511 - val_r2: 0.6963\n",
            "Epoch 102/200\n",
            "5/5 [==============================] - 0s 15ms/step - loss: 11.1662 - mae: 2.3863 - r2: 0.8689 - val_loss: 27.8675 - val_mae: 3.2612 - val_r2: 0.6924\n",
            "Epoch 103/200\n",
            "5/5 [==============================] - 0s 15ms/step - loss: 11.0900 - mae: 2.3810 - r2: 0.8061 - val_loss: 27.9193 - val_mae: 3.2375 - val_r2: 0.6919\n",
            "Epoch 104/200\n",
            "5/5 [==============================] - 0s 12ms/step - loss: 11.0431 - mae: 2.3688 - r2: 0.2836 - val_loss: 26.8607 - val_mae: 3.1718 - val_r2: 0.7036\n",
            "Epoch 105/200\n",
            "5/5 [==============================] - 0s 12ms/step - loss: 10.9507 - mae: 2.3497 - r2: 0.7804 - val_loss: 26.5759 - val_mae: 3.1615 - val_r2: 0.7067\n",
            "Epoch 106/200\n",
            "5/5 [==============================] - 0s 11ms/step - loss: 10.9384 - mae: 2.3465 - r2: 0.8789 - val_loss: 26.3882 - val_mae: 3.1742 - val_r2: 0.7088\n",
            "Epoch 107/200\n",
            "5/5 [==============================] - 0s 59ms/step - loss: 10.9823 - mae: 2.3466 - r2: 0.8888 - val_loss: 26.4458 - val_mae: 3.1780 - val_r2: 0.7081\n",
            "Epoch 108/200\n",
            "5/5 [==============================] - 0s 42ms/step - loss: 10.9323 - mae: 2.3413 - r2: 0.5858 - val_loss: 26.7414 - val_mae: 3.1710 - val_r2: 0.7049\n",
            "Epoch 109/200\n",
            "5/5 [==============================] - 0s 38ms/step - loss: 10.7739 - mae: 2.3440 - r2: 0.7670 - val_loss: 28.3320 - val_mae: 3.2344 - val_r2: 0.6873\n",
            "Epoch 110/200\n",
            "5/5 [==============================] - 0s 44ms/step - loss: 11.1348 - mae: 2.4377 - r2: 0.8509 - val_loss: 31.9356 - val_mae: 3.4171 - val_r2: 0.6476\n",
            "Epoch 111/200\n",
            "5/5 [==============================] - 0s 18ms/step - loss: 11.7127 - mae: 2.5420 - r2: 0.8563 - val_loss: 32.5586 - val_mae: 3.4459 - val_r2: 0.6407\n",
            "Epoch 112/200\n",
            "5/5 [==============================] - 0s 26ms/step - loss: 11.4569 - mae: 2.5059 - r2: 0.8786 - val_loss: 30.6200 - val_mae: 3.2988 - val_r2: 0.6621\n",
            "Epoch 113/200\n",
            "5/5 [==============================] - 0s 16ms/step - loss: 10.7892 - mae: 2.4108 - r2: 0.4634 - val_loss: 28.5503 - val_mae: 3.1393 - val_r2: 0.6849\n",
            "Epoch 114/200\n",
            "5/5 [==============================] - 0s 15ms/step - loss: 10.5135 - mae: 2.3569 - r2: 0.8675 - val_loss: 27.6962 - val_mae: 3.0905 - val_r2: 0.6943\n",
            "Epoch 115/200\n",
            "5/5 [==============================] - 0s 12ms/step - loss: 10.5140 - mae: 2.3413 - r2: 0.8790 - val_loss: 27.3524 - val_mae: 3.0831 - val_r2: 0.6981\n",
            "Epoch 116/200\n",
            "5/5 [==============================] - 0s 12ms/step - loss: 10.5267 - mae: 2.3377 - r2: 0.8954 - val_loss: 27.2263 - val_mae: 3.0852 - val_r2: 0.6995\n",
            "Epoch 117/200\n",
            "5/5 [==============================] - 0s 11ms/step - loss: 10.4251 - mae: 2.3231 - r2: 0.7128 - val_loss: 27.5773 - val_mae: 3.0940 - val_r2: 0.6957\n",
            "Epoch 118/200\n",
            "5/5 [==============================] - 0s 17ms/step - loss: 10.3321 - mae: 2.3129 - r2: 0.8885 - val_loss: 27.8337 - val_mae: 3.1071 - val_r2: 0.6928\n",
            "Epoch 119/200\n",
            "5/5 [==============================] - 0s 15ms/step - loss: 10.2619 - mae: 2.3090 - r2: 0.8597 - val_loss: 28.0962 - val_mae: 3.1057 - val_r2: 0.6899\n",
            "Epoch 120/200\n",
            "5/5 [==============================] - 0s 11ms/step - loss: 10.2607 - mae: 2.3117 - r2: 0.7107 - val_loss: 28.3826 - val_mae: 3.1146 - val_r2: 0.6868\n",
            "Epoch 121/200\n",
            "5/5 [==============================] - 0s 15ms/step - loss: 10.2487 - mae: 2.3157 - r2: 0.8536 - val_loss: 28.1581 - val_mae: 3.1193 - val_r2: 0.6892\n",
            "Epoch 122/200\n",
            "5/5 [==============================] - 0s 11ms/step - loss: 10.1789 - mae: 2.2996 - r2: 0.8880 - val_loss: 27.4773 - val_mae: 3.1132 - val_r2: 0.6968\n",
            "Epoch 123/200\n",
            "5/5 [==============================] - 0s 11ms/step - loss: 10.1261 - mae: 2.2798 - r2: 0.8693 - val_loss: 27.0100 - val_mae: 3.1058 - val_r2: 0.7019\n",
            "Epoch 124/200\n",
            "5/5 [==============================] - 0s 11ms/step - loss: 10.0989 - mae: 2.2675 - r2: 0.3625 - val_loss: 26.8778 - val_mae: 3.1119 - val_r2: 0.7034\n",
            "Epoch 125/200\n",
            "5/5 [==============================] - 0s 13ms/step - loss: 10.0747 - mae: 2.2720 - r2: 0.8807 - val_loss: 28.0147 - val_mae: 3.1614 - val_r2: 0.6908\n",
            "Epoch 126/200\n",
            "5/5 [==============================] - 0s 16ms/step - loss: 10.0900 - mae: 2.2922 - r2: 0.8843 - val_loss: 28.8160 - val_mae: 3.1837 - val_r2: 0.6820\n",
            "Epoch 127/200\n",
            "5/5 [==============================] - 0s 13ms/step - loss: 10.0465 - mae: 2.2873 - r2: 0.8814 - val_loss: 28.7288 - val_mae: 3.1842 - val_r2: 0.6829\n",
            "Epoch 128/200\n",
            "5/5 [==============================] - 0s 14ms/step - loss: 10.0029 - mae: 2.2721 - r2: -24.1054 - val_loss: 28.6584 - val_mae: 3.1654 - val_r2: 0.6837\n",
            "Epoch 129/200\n",
            "5/5 [==============================] - 0s 15ms/step - loss: 9.9066 - mae: 2.2599 - r2: 0.8866 - val_loss: 29.3043 - val_mae: 3.1566 - val_r2: 0.6766\n",
            "Epoch 130/200\n",
            "5/5 [==============================] - 0s 11ms/step - loss: 9.9425 - mae: 2.2730 - r2: 0.8902 - val_loss: 29.5777 - val_mae: 3.1305 - val_r2: 0.6736\n",
            "Epoch 131/200\n",
            "5/5 [==============================] - 0s 11ms/step - loss: 10.0831 - mae: 2.2991 - r2: 0.8818 - val_loss: 29.3606 - val_mae: 3.1099 - val_r2: 0.6760\n",
            "Epoch 132/200\n",
            "5/5 [==============================] - 0s 16ms/step - loss: 10.0286 - mae: 2.2902 - r2: 0.8809 - val_loss: 29.1844 - val_mae: 3.1012 - val_r2: 0.6779\n",
            "Epoch 133/200\n",
            "5/5 [==============================] - 0s 14ms/step - loss: 9.9105 - mae: 2.2665 - r2: 0.7836 - val_loss: 28.2668 - val_mae: 3.0738 - val_r2: 0.6880\n",
            "Epoch 134/200\n",
            "5/5 [==============================] - 0s 16ms/step - loss: 9.7899 - mae: 2.2315 - r2: 0.9030 - val_loss: 27.8178 - val_mae: 3.0915 - val_r2: 0.6930\n",
            "Epoch 135/200\n",
            "5/5 [==============================] - 0s 16ms/step - loss: 9.8607 - mae: 2.2286 - r2: 0.8301 - val_loss: 27.7915 - val_mae: 3.1008 - val_r2: 0.6933\n",
            "Epoch 136/200\n",
            "5/5 [==============================] - 0s 11ms/step - loss: 9.9449 - mae: 2.2295 - r2: 0.8588 - val_loss: 27.8504 - val_mae: 3.0919 - val_r2: 0.6926\n",
            "Epoch 137/200\n",
            "5/5 [==============================] - 0s 11ms/step - loss: 9.9657 - mae: 2.2231 - r2: 0.9008 - val_loss: 28.0679 - val_mae: 3.0834 - val_r2: 0.6902\n",
            "Epoch 138/200\n",
            "5/5 [==============================] - 0s 15ms/step - loss: 9.8564 - mae: 2.2131 - r2: 0.8292 - val_loss: 28.4062 - val_mae: 3.0656 - val_r2: 0.6865\n",
            "Epoch 139/200\n",
            "5/5 [==============================] - 0s 15ms/step - loss: 9.7858 - mae: 2.2138 - r2: 0.8507 - val_loss: 29.0482 - val_mae: 3.0913 - val_r2: 0.6794\n",
            "Epoch 140/200\n",
            "5/5 [==============================] - 0s 11ms/step - loss: 9.6951 - mae: 2.2154 - r2: 0.8968 - val_loss: 29.0153 - val_mae: 3.1211 - val_r2: 0.6798\n",
            "Epoch 141/200\n",
            "5/5 [==============================] - 0s 12ms/step - loss: 9.6384 - mae: 2.2095 - r2: 0.8979 - val_loss: 28.6625 - val_mae: 3.1316 - val_r2: 0.6837\n",
            "Epoch 142/200\n",
            "5/5 [==============================] - 0s 15ms/step - loss: 9.6440 - mae: 2.2087 - r2: 0.8956 - val_loss: 28.5567 - val_mae: 3.1429 - val_r2: 0.6848\n",
            "Epoch 143/200\n",
            "5/5 [==============================] - 0s 16ms/step - loss: 9.6132 - mae: 2.2077 - r2: 0.8177 - val_loss: 28.6311 - val_mae: 3.1338 - val_r2: 0.6840\n",
            "Epoch 144/200\n",
            "5/5 [==============================] - 0s 11ms/step - loss: 9.5403 - mae: 2.1977 - r2: 0.8161 - val_loss: 28.5124 - val_mae: 3.1091 - val_r2: 0.6853\n",
            "Epoch 145/200\n",
            "5/5 [==============================] - 0s 15ms/step - loss: 9.4904 - mae: 2.1967 - r2: 0.2455 - val_loss: 28.7489 - val_mae: 3.1130 - val_r2: 0.6827\n",
            "Epoch 146/200\n",
            "5/5 [==============================] - 0s 11ms/step - loss: 9.4648 - mae: 2.1988 - r2: 0.8864 - val_loss: 28.2247 - val_mae: 3.0905 - val_r2: 0.6885\n",
            "Epoch 147/200\n",
            "5/5 [==============================] - 0s 15ms/step - loss: 9.4547 - mae: 2.2009 - r2: 0.6449 - val_loss: 28.4467 - val_mae: 3.1197 - val_r2: 0.6861\n",
            "Epoch 148/200\n",
            "5/5 [==============================] - 0s 15ms/step - loss: 9.4757 - mae: 2.2184 - r2: 0.8982 - val_loss: 28.8328 - val_mae: 3.1379 - val_r2: 0.6818\n",
            "Epoch 149/200\n",
            "5/5 [==============================] - 0s 11ms/step - loss: 9.5087 - mae: 2.2273 - r2: 0.4826 - val_loss: 28.5256 - val_mae: 3.1221 - val_r2: 0.6852\n",
            "Epoch 150/200\n",
            "5/5 [==============================] - 0s 15ms/step - loss: 9.3842 - mae: 2.2031 - r2: 0.6184 - val_loss: 28.1032 - val_mae: 3.1198 - val_r2: 0.6898\n",
            "Epoch 151/200\n",
            "5/5 [==============================] - 0s 12ms/step - loss: 9.3983 - mae: 2.1961 - r2: 0.8870 - val_loss: 27.9872 - val_mae: 3.0911 - val_r2: 0.6911\n",
            "Epoch 152/200\n",
            "5/5 [==============================] - 0s 15ms/step - loss: 9.3049 - mae: 2.1828 - r2: 0.8641 - val_loss: 28.4393 - val_mae: 3.0425 - val_r2: 0.6861\n",
            "Epoch 153/200\n",
            "5/5 [==============================] - 0s 11ms/step - loss: 9.4270 - mae: 2.2108 - r2: 0.8340 - val_loss: 28.7810 - val_mae: 3.0244 - val_r2: 0.6824\n",
            "Epoch 154/200\n",
            "5/5 [==============================] - 0s 15ms/step - loss: 9.4809 - mae: 2.2178 - r2: 0.6856 - val_loss: 29.2629 - val_mae: 3.0437 - val_r2: 0.6770\n",
            "Epoch 155/200\n",
            "5/5 [==============================] - 0s 13ms/step - loss: 9.3144 - mae: 2.1957 - r2: 0.8361 - val_loss: 29.4051 - val_mae: 3.0830 - val_r2: 0.6755\n",
            "Epoch 156/200\n",
            "5/5 [==============================] - 0s 16ms/step - loss: 9.2594 - mae: 2.1759 - r2: 0.8672 - val_loss: 29.4852 - val_mae: 3.1386 - val_r2: 0.6746\n",
            "Epoch 157/200\n",
            "5/5 [==============================] - 0s 15ms/step - loss: 9.3053 - mae: 2.1646 - r2: 0.3140 - val_loss: 28.6924 - val_mae: 3.1397 - val_r2: 0.6833\n",
            "Epoch 158/200\n",
            "5/5 [==============================] - 0s 11ms/step - loss: 9.3892 - mae: 2.1573 - r2: 0.8773 - val_loss: 27.2303 - val_mae: 3.0568 - val_r2: 0.6995\n",
            "Epoch 159/200\n",
            "5/5 [==============================] - 0s 11ms/step - loss: 9.3549 - mae: 2.1512 - r2: 0.9004 - val_loss: 26.9533 - val_mae: 2.9983 - val_r2: 0.7025\n",
            "Epoch 160/200\n",
            "5/5 [==============================] - 0s 11ms/step - loss: 9.2459 - mae: 2.1590 - r2: 0.8925 - val_loss: 27.9165 - val_mae: 2.9956 - val_r2: 0.6919\n",
            "Epoch 161/200\n",
            "5/5 [==============================] - 0s 15ms/step - loss: 9.2505 - mae: 2.1831 - r2: 0.8596 - val_loss: 29.2027 - val_mae: 3.0365 - val_r2: 0.6777\n",
            "Epoch 162/200\n",
            "5/5 [==============================] - 0s 11ms/step - loss: 9.1617 - mae: 2.1781 - r2: 0.8430 - val_loss: 29.9418 - val_mae: 3.0816 - val_r2: 0.6696\n",
            "Epoch 163/200\n",
            "5/5 [==============================] - 0s 12ms/step - loss: 9.0239 - mae: 2.1637 - r2: 0.9052 - val_loss: 30.2011 - val_mae: 3.0999 - val_r2: 0.6667\n",
            "Epoch 164/200\n",
            "5/5 [==============================] - 0s 11ms/step - loss: 9.0084 - mae: 2.1605 - r2: 0.8436 - val_loss: 30.8884 - val_mae: 3.1186 - val_r2: 0.6591\n",
            "Epoch 165/200\n",
            "5/5 [==============================] - 0s 11ms/step - loss: 9.0943 - mae: 2.1831 - r2: 0.8562 - val_loss: 30.8408 - val_mae: 3.1114 - val_r2: 0.6596\n",
            "Epoch 166/200\n",
            "5/5 [==============================] - 0s 11ms/step - loss: 9.0381 - mae: 2.1650 - r2: 0.5596 - val_loss: 28.5976 - val_mae: 3.0325 - val_r2: 0.6844\n",
            "Epoch 167/200\n",
            "5/5 [==============================] - 0s 14ms/step - loss: 8.9469 - mae: 2.1351 - r2: 0.9024 - val_loss: 27.3679 - val_mae: 3.0032 - val_r2: 0.6980\n",
            "Epoch 168/200\n",
            "5/5 [==============================] - 0s 15ms/step - loss: 9.0011 - mae: 2.1313 - r2: 0.9053 - val_loss: 27.0785 - val_mae: 2.9527 - val_r2: 0.7012\n",
            "Epoch 169/200\n",
            "5/5 [==============================] - 0s 15ms/step - loss: 8.9786 - mae: 2.1310 - r2: 0.5024 - val_loss: 27.2918 - val_mae: 2.9373 - val_r2: 0.6988\n",
            "Epoch 170/200\n",
            "5/5 [==============================] - 0s 11ms/step - loss: 8.9304 - mae: 2.1351 - r2: 0.8225 - val_loss: 27.4778 - val_mae: 2.9352 - val_r2: 0.6968\n",
            "Epoch 171/200\n",
            "5/5 [==============================] - 0s 12ms/step - loss: 8.9491 - mae: 2.1415 - r2: 0.9088 - val_loss: 27.4636 - val_mae: 2.9403 - val_r2: 0.6969\n",
            "Epoch 172/200\n",
            "5/5 [==============================] - 0s 11ms/step - loss: 8.9243 - mae: 2.1279 - r2: 0.8963 - val_loss: 27.8796 - val_mae: 2.9649 - val_r2: 0.6923\n",
            "Epoch 173/200\n",
            "5/5 [==============================] - 0s 15ms/step - loss: 8.8707 - mae: 2.1138 - r2: 0.9095 - val_loss: 28.5199 - val_mae: 2.9923 - val_r2: 0.6852\n",
            "Epoch 174/200\n",
            "5/5 [==============================] - 0s 11ms/step - loss: 8.8684 - mae: 2.1094 - r2: 0.8993 - val_loss: 28.8481 - val_mae: 3.0085 - val_r2: 0.6816\n",
            "Epoch 175/200\n",
            "5/5 [==============================] - 0s 11ms/step - loss: 8.8572 - mae: 2.1076 - r2: 0.8980 - val_loss: 29.6134 - val_mae: 3.0181 - val_r2: 0.6732\n",
            "Epoch 176/200\n",
            "5/5 [==============================] - 0s 11ms/step - loss: 8.8213 - mae: 2.1152 - r2: 0.8774 - val_loss: 29.7072 - val_mae: 3.0189 - val_r2: 0.6721\n",
            "Epoch 177/200\n",
            "5/5 [==============================] - 0s 11ms/step - loss: 8.8095 - mae: 2.1189 - r2: 0.8552 - val_loss: 29.1350 - val_mae: 3.0570 - val_r2: 0.6785\n",
            "Epoch 178/200\n",
            "5/5 [==============================] - 0s 15ms/step - loss: 8.8766 - mae: 2.1302 - r2: 0.9102 - val_loss: 28.5460 - val_mae: 3.0538 - val_r2: 0.6850\n",
            "Epoch 179/200\n",
            "5/5 [==============================] - 0s 16ms/step - loss: 8.7507 - mae: 2.1175 - r2: 0.9154 - val_loss: 28.4362 - val_mae: 3.0129 - val_r2: 0.6862\n",
            "Epoch 180/200\n",
            "5/5 [==============================] - 0s 17ms/step - loss: 8.6708 - mae: 2.1187 - r2: 0.8871 - val_loss: 28.0776 - val_mae: 2.9931 - val_r2: 0.6901\n",
            "Epoch 181/200\n",
            "5/5 [==============================] - 0s 15ms/step - loss: 8.6908 - mae: 2.1137 - r2: 0.8709 - val_loss: 27.5599 - val_mae: 3.0356 - val_r2: 0.6958\n",
            "Epoch 182/200\n",
            "5/5 [==============================] - 0s 11ms/step - loss: 8.6979 - mae: 2.1135 - r2: 0.8716 - val_loss: 27.6693 - val_mae: 3.0055 - val_r2: 0.6946\n",
            "Epoch 183/200\n",
            "5/5 [==============================] - 0s 15ms/step - loss: 8.6061 - mae: 2.1086 - r2: 0.8619 - val_loss: 27.5454 - val_mae: 2.9689 - val_r2: 0.6960\n",
            "Epoch 184/200\n",
            "5/5 [==============================] - 0s 15ms/step - loss: 8.5969 - mae: 2.1130 - r2: 0.8984 - val_loss: 27.8178 - val_mae: 2.9745 - val_r2: 0.6930\n",
            "Epoch 185/200\n",
            "5/5 [==============================] - 0s 14ms/step - loss: 8.5657 - mae: 2.1122 - r2: 0.8518 - val_loss: 28.2945 - val_mae: 3.0467 - val_r2: 0.6877\n",
            "Epoch 186/200\n",
            "5/5 [==============================] - 0s 11ms/step - loss: 8.7389 - mae: 2.1297 - r2: 0.8956 - val_loss: 29.0740 - val_mae: 3.1317 - val_r2: 0.6791\n",
            "Epoch 187/200\n",
            "5/5 [==============================] - 0s 16ms/step - loss: 8.7089 - mae: 2.1221 - r2: 0.9110 - val_loss: 29.0163 - val_mae: 3.0634 - val_r2: 0.6798\n",
            "Epoch 188/200\n",
            "5/5 [==============================] - 0s 10ms/step - loss: 8.5814 - mae: 2.1036 - r2: 0.8844 - val_loss: 28.4722 - val_mae: 3.0173 - val_r2: 0.6858\n",
            "Epoch 189/200\n",
            "5/5 [==============================] - 0s 11ms/step - loss: 8.5189 - mae: 2.0929 - r2: 0.6308 - val_loss: 28.5157 - val_mae: 3.0094 - val_r2: 0.6853\n",
            "Epoch 190/200\n",
            "5/5 [==============================] - 0s 11ms/step - loss: 8.5811 - mae: 2.1045 - r2: 0.9135 - val_loss: 28.4969 - val_mae: 3.0075 - val_r2: 0.6855\n",
            "Epoch 191/200\n",
            "5/5 [==============================] - 0s 11ms/step - loss: 8.5622 - mae: 2.0989 - r2: 0.8019 - val_loss: 28.5501 - val_mae: 3.0058 - val_r2: 0.6849\n",
            "Epoch 192/200\n",
            "5/5 [==============================] - 0s 15ms/step - loss: 8.4709 - mae: 2.0840 - r2: 0.8888 - val_loss: 28.3055 - val_mae: 3.0146 - val_r2: 0.6876\n",
            "Epoch 193/200\n",
            "5/5 [==============================] - 0s 11ms/step - loss: 8.4194 - mae: 2.0767 - r2: 0.9159 - val_loss: 28.4506 - val_mae: 3.0458 - val_r2: 0.6860\n",
            "Epoch 194/200\n",
            "5/5 [==============================] - 0s 13ms/step - loss: 8.3690 - mae: 2.0751 - r2: 0.2104 - val_loss: 28.4012 - val_mae: 3.0205 - val_r2: 0.6866\n",
            "Epoch 195/200\n",
            "5/5 [==============================] - 0s 13ms/step - loss: 8.3611 - mae: 2.0704 - r2: 0.4381 - val_loss: 27.4919 - val_mae: 3.0009 - val_r2: 0.6966\n",
            "Epoch 196/200\n",
            "5/5 [==============================] - 0s 16ms/step - loss: 8.4292 - mae: 2.0639 - r2: 0.6751 - val_loss: 27.2808 - val_mae: 3.0171 - val_r2: 0.6989\n",
            "Epoch 197/200\n",
            "5/5 [==============================] - 0s 15ms/step - loss: 8.3967 - mae: 2.0526 - r2: 0.7456 - val_loss: 28.1463 - val_mae: 3.0556 - val_r2: 0.6894\n",
            "Epoch 198/200\n",
            "5/5 [==============================] - 0s 14ms/step - loss: 8.3321 - mae: 2.0869 - r2: 0.8898 - val_loss: 32.1986 - val_mae: 3.2407 - val_r2: 0.6447\n",
            "Epoch 199/200\n",
            "5/5 [==============================] - 0s 11ms/step - loss: 9.2258 - mae: 2.2434 - r2: 0.9038 - val_loss: 34.1937 - val_mae: 3.3470 - val_r2: 0.6226\n",
            "Epoch 200/200\n",
            "5/5 [==============================] - 0s 15ms/step - loss: 9.4089 - mae: 2.2642 - r2: 0.9039 - val_loss: 32.9417 - val_mae: 3.2441 - val_r2: 0.6365\n",
            "13/13 [==============================] - 0s 3ms/step - loss: 8.9853 - mae: 2.2006 - r2: 0.8794\n",
            "2/2 [==============================] - 0s 11ms/step - loss: 18.5520 - mae: 3.2523 - r2: 0.7331\n"
          ]
        },
        {
          "output_type": "execute_result",
          "data": {
            "text/plain": [
              "[18.55198097229004, 3.252309799194336, 0.7331331968307495]"
            ]
          },
          "metadata": {},
          "execution_count": 22
        }
      ]
    },
    {
      "cell_type": "code",
      "metadata": {
        "id": "ZLwNqfEKLkmQ",
        "colab": {
          "base_uri": "https://localhost:8080/",
          "height": 524
        },
        "outputId": "1f9340e9-8e60-4be8-a953-d1f018000944"
      },
      "source": [
        "print(history.history.keys())\n",
        "mae = history.history['mae']\n",
        "val_mae = history.history['val_mae']\n",
        "loss = history.history['loss']\n",
        "val_loss = history.history['val_loss']\n",
        "\n",
        "plt.figure(figsize=(15,5))\n",
        "plt.subplot(1,2,1)\n",
        "plt.plot(loss, label='Training loss')\n",
        "plt.plot(val_loss, label='Validation loss')\n",
        "plt.title('Loss')\n",
        "plt.xlabel('Epochs')\n",
        "plt.ylabel('Loss')\n",
        "plt.ylim(0,200)\n",
        "plt.legend()\n",
        "\n",
        "plt.subplot(1,2,2)\n",
        "plt.plot(mae, label='Training mae')\n",
        "plt.plot(val_mae, label='Validation mae')\n",
        "plt.title('MAE')\n",
        "plt.xlabel('Epochs')\n",
        "plt.ylabel('Loss')\n",
        "plt.legend()\n",
        "plt.ylim(0,20)"
      ],
      "execution_count": null,
      "outputs": [
        {
          "output_type": "stream",
          "name": "stdout",
          "text": [
            "dict_keys(['loss', 'mae', 'r2', 'val_loss', 'val_mae', 'val_r2'])\n"
          ]
        },
        {
          "output_type": "execute_result",
          "data": {
            "text/plain": [
              "(0.0, 20.0)"
            ]
          },
          "metadata": {},
          "execution_count": 23
        },
        {
          "output_type": "display_data",
          "data": {
            "text/plain": [
              "<Figure size 1500x500 with 2 Axes>"
            ],
            "image/png": "[encoded data removed]"
          },
          "metadata": {}
        }
      ]
    },
    {
      "cell_type": "markdown",
      "metadata": {
        "id": "o04fKN0IeS2t"
      },
      "source": [
        "# Batch Size\n",
        "* https://arxiv.org/pdf/1804.07612.pdf\n",
        "* https://arxiv.org/pdf/1609.04836.pdf"
      ]
    },
    {
      "cell_type": "code",
      "source": [
        "tf.random.set_seed(0)\n",
        "np.random.seed(0)\n",
        "\n",
        "def boston_housing_model(shape):\n",
        "  model = Sequential()\n",
        "  model.add(Dense(64, activation='relu', input_shape=(13,)))\n",
        "  model.add(Dense(64, activation='relu'))\n",
        "  model.add(Dense(1))\n",
        "  model.compile(optimizer='adam',loss='mse',metrics=['mae', r2])\n",
        "  return model\n",
        "\n",
        "\n"
      ],
      "metadata": {
        "id": "L0Ml8w2nJxtX"
      },
      "execution_count": null,
      "outputs": []
    },
    {
      "cell_type": "code",
      "source": [
        "b_sizes = [2,4,8,16,32,64,128,256]\n",
        "train_evals = np.zeros((len(b_sizes),3))\n",
        "test_evals = np.zeros((len(b_sizes),3))\n",
        "for i, bsize in enumerate(b_sizes):\n",
        "  tf.keras.backend.clear_session()\n",
        "  tf.random.set_seed(0)\n",
        "  model = boston_housing_model((X_train.shape[1],))\n",
        "  history = model.fit(X_train_scaled, y_train ,epochs=200, batch_size=bsize, \n",
        "                      validation_data=(X_val, y_val), verbose=0)\n",
        "  train_evals[i] = model.evaluate(X_train_scaled, y_train)\n",
        "  test_evals[i] = model.evaluate(X_test, y_test)                              \n",
        "  print(f\"batch_size:{bsize}, Train Eval loss:{train_evals[i, 0]}, \\\n",
        "mae:{train_evals[i, 1]}, r2:{train_evals[i, 2]}\")\n",
        "  print(f\"batch_size:{bsize}, Test Eval loss:{test_evals[i, 0]}, \\\n",
        "mae:{test_evals[i, 1]}, r2:{test_evals[i, 2]}\")\n"
      ],
      "metadata": {
        "id": "4_xGk5r3Yb8P",
        "colab": {
          "base_uri": "https://localhost:8080/"
        },
        "outputId": "d14d212a-42de-427d-922d-f7d883ccd6fe"
      },
      "execution_count": null,
      "outputs": [
        {
          "output_type": "stream",
          "name": "stdout",
          "text": [
            "13/13 [==============================] - 0s 3ms/step - loss: 1.0402 - mae: 0.7751 - r2: 0.9854\n",
            "2/2 [==============================] - 0s 9ms/step - loss: 9.3084 - mae: 2.1711 - r2: 0.8945\n",
            "batch_size:2, Train Eval loss:1.0401510000228882, mae:0.7750955820083618, r2:0.9853626489639282\n",
            "batch_size:2, Test Eval loss:9.30841064453125, mae:2.1711392402648926, r2:0.8945484161376953\n",
            "13/13 [==============================] - 0s 3ms/step - loss: 1.3414 - mae: 0.8371 - r2: 0.9805\n",
            "2/2 [==============================] - 0s 9ms/step - loss: 9.8566 - mae: 2.1150 - r2: 0.8893\n",
            "batch_size:4, Train Eval loss:1.3414082527160645, mae:0.8370561003684998, r2:0.9804667234420776\n",
            "batch_size:4, Test Eval loss:9.85655689239502, mae:2.1150293350219727, r2:0.8892648220062256\n",
            "13/13 [==============================] - 0s 3ms/step - loss: 1.4366 - mae: 0.8586 - r2: 0.9802\n",
            "2/2 [==============================] - 0s 10ms/step - loss: 12.2234 - mae: 2.5786 - r2: 0.8519\n",
            "batch_size:8, Train Eval loss:1.4366443157196045, mae:0.8585666418075562, r2:0.9802331328392029\n",
            "batch_size:8, Test Eval loss:12.22336483001709, mae:2.578584909439087, r2:0.8518602848052979\n",
            "13/13 [==============================] - 0s 3ms/step - loss: 2.4250 - mae: 1.1078 - r2: 0.9674\n",
            "2/2 [==============================] - 0s 10ms/step - loss: 13.5070 - mae: 2.5523 - r2: 0.8539\n",
            "batch_size:16, Train Eval loss:2.4250142574310303, mae:1.1077529191970825, r2:0.9674417972564697\n",
            "batch_size:16, Test Eval loss:13.506970405578613, mae:2.5522735118865967, r2:0.8539156317710876\n",
            "13/13 [==============================] - 0s 3ms/step - loss: 3.8251 - mae: 1.4071 - r2: 0.9489\n",
            "2/2 [==============================] - 0s 9ms/step - loss: 12.4772 - mae: 2.5510 - r2: 0.8542\n",
            "batch_size:32, Train Eval loss:3.8251259326934814, mae:1.4070751667022705, r2:0.9488810300827026\n",
            "batch_size:32, Test Eval loss:12.477214813232422, mae:2.550973653793335, r2:0.8541886210441589\n",
            "13/13 [==============================] - 0s 3ms/step - loss: 6.4829 - mae: 1.8105 - r2: 0.9173\n",
            "2/2 [==============================] - 0s 8ms/step - loss: 13.2646 - mae: 2.6455 - r2: 0.8250\n",
            "batch_size:64, Train Eval loss:6.482916355133057, mae:1.810544729232788, r2:0.9172674417495728\n",
            "batch_size:64, Test Eval loss:13.264609336853027, mae:2.6455211639404297, r2:0.8249840140342712\n",
            "13/13 [==============================] - 0s 3ms/step - loss: 7.8252 - mae: 2.0092 - r2: 0.8996\n",
            "2/2 [==============================] - 0s 8ms/step - loss: 17.8394 - mae: 3.1222 - r2: 0.7594\n",
            "batch_size:128, Train Eval loss:7.825179100036621, mae:2.0091655254364014, r2:0.899551510810852\n",
            "batch_size:128, Test Eval loss:17.839384078979492, mae:3.122211456298828, r2:0.7593896985054016\n",
            "13/13 [==============================] - 0s 3ms/step - loss: 10.7388 - mae: 2.3519 - r2: 0.8591\n",
            "2/2 [==============================] - 0s 9ms/step - loss: 19.7613 - mae: 3.4261 - r2: 0.7452\n",
            "batch_size:256, Train Eval loss:10.738829612731934, mae:2.3519210815429688, r2:0.85911625623703\n",
            "batch_size:256, Test Eval loss:19.761341094970703, mae:3.4261474609375, r2:0.745172381401062\n"
          ]
        }
      ]
    },
    {
      "cell_type": "code",
      "source": [
        "eval_df = pd.DataFrame(data=np.hstack((train_evals, test_evals)),\n",
        "                       columns=['train_loss', 'train_mae', 'train_r2',\n",
        "                                'test_loss', 'test_mae', 'test_r2'], index=b_sizes)\n",
        "eval_df"
      ],
      "metadata": {
        "id": "pp2M69Q8U28K"
      },
      "execution_count": null,
      "outputs": []
    },
    {
      "cell_type": "code",
      "source": [
        "plt.figure(figsize=(18, 4))\n",
        "plt.subplot(1,3,1)\n",
        "eval_df[['train_loss', 'test_loss']].plot.line(marker='o',ax=plt.gca())\n",
        "plt.xlabel('batch'); plt.ylabel('Loss')\n",
        "\n",
        "plt.subplot(1,3,2)\n",
        "eval_df[['train_mae', 'test_mae']].plot.line(marker='o',ax=plt.gca())\n",
        "plt.xlabel('batch'); plt.ylabel('MAE')\n",
        "\n",
        "plt.subplot(1,3,3)\n",
        "eval_df[['train_r2', 'test_r2']].plot.line(marker='o',ax=plt.gca())\n",
        "plt.xlabel('batch'); plt.ylabel('$R^2$')"
      ],
      "metadata": {
        "id": "Wa6_V_PCPcO9"
      },
      "execution_count": null,
      "outputs": []
    },
    {
      "cell_type": "markdown",
      "metadata": {
        "id": "vmzQSMbmLkmU"
      },
      "source": [
        "# 이진분류\n"
      ]
    },
    {
      "cell_type": "markdown",
      "source": [
        "## 손실함수 : Binary Cross Entropy\n",
        "* $\\displaystyle cost(W) = \\frac{1}{m}\\sum err(y, \\hat{y})$\n",
        "  * $err(y, \\hat{y}) = \\begin{cases}     y\\cdot-log(\\hat{y}) & \\quad\\text{if } y=1\\\\     (1-y)\\cdot-log(1-\\hat{y}) & \\quad\\text {if } y=0   \\end{cases}$\n",
        "* $ \\displaystyle cost(W) = \\frac{1}{m}\\sum_{i=1}^m \\Big(y \\cdot -log(\\hat{y}) + (1-y) \\cdot -log(1-\\hat{y})\\Big) $\n",
        "* $ \\displaystyle cost(W) = -\\frac{1}{m}\\sum_{i=1}^m \\Big(y \\cdot log(\\hat{y}) + (1-y) \\cdot log(1-\\hat{y})]$"
      ],
      "metadata": {
        "id": "l3ZqSJ7AQMNK"
      }
    },
    {
      "cell_type": "code",
      "metadata": {
        "id": "ODwe0d1mFp4H",
        "colab": {
          "base_uri": "https://localhost:8080/",
          "height": 411
        },
        "outputId": "cc4fcf75-9e75-4d53-ed4f-3e83434b491c"
      },
      "source": [
        "p = np.arange(0.001, 1, 0.001)\n",
        "plt.figure(figsize=(12,4))\n",
        "plt.subplot(1,3,1)\n",
        "plt.plot(p, -np.log(p))\n",
        "plt.title(\"$-log(p), y=1$\")\n",
        "plt.subplot(1,3,2)\n",
        "plt.plot(p, -np.log(1-p))\n",
        "plt.title(\"$-log(1-p), y=0$\")\n",
        "plt.subplot(1,3,3)\n",
        "plt.plot(p, -np.log(p) + (-np.log(1-p)))\n",
        "plt.title('$-log(p) + (-log(1-p))$')"
      ],
      "execution_count": null,
      "outputs": [
        {
          "output_type": "execute_result",
          "data": {
            "text/plain": [
              "Text(0.5, 1.0, '$-log(p) + (-log(1-p))$')"
            ]
          },
          "metadata": {},
          "execution_count": 31
        },
        {
          "output_type": "display_data",
          "data": {
            "text/plain": [
              "<Figure size 1200x400 with 3 Axes>"
            ],
            "image/png": "[encoded data removed]"
          },
          "metadata": {}
        }
      ]
    },
    {
      "cell_type": "markdown",
      "source": [
        "## MSE vs Binary Cross Entropy"
      ],
      "metadata": {
        "id": "-fp_N-DCQFwt"
      }
    },
    {
      "cell_type": "code",
      "metadata": {
        "id": "zpFVsKqnOWQY",
        "colab": {
          "base_uri": "https://localhost:8080/",
          "height": 246
        },
        "outputId": "f5a4057a-2bb5-44c1-e4a8-1296e4146983"
      },
      "source": [
        "mse_r1 = tf.keras.losses.mse([1], [0.9])\n",
        "mse_r2 = tf.keras.losses.mse([0], [0.1])\n",
        "mse_w1 = tf.keras.losses.mse([1], [0.1])\n",
        "mse_w2 = tf.keras.losses.mse([0], [0.9])\n",
        "print(f'MSE right:{mse_r1.numpy(), mse_r2.numpy()}',\n",
        "      f'wrong:{mse_w1.numpy(), mse_w2.numpy()}')\n",
        "\n",
        "bce_r1 = tf.keras.losses.binary_crossentropy([1], [0.9])\n",
        "bce_r2 = tf.keras.losses.binary_crossentropy([0], [0.1])\n",
        "bce_w1 = tf.keras.losses.binary_crossentropy([1], [0.1])\n",
        "bce_w2 = tf.keras.losses.binary_crossentropy([0], [0.9])\n",
        "print(f'binary_cross_entropy right:{bce_r1.numpy(), bce_r2.numpy()}',\n",
        "      f'wrong:{bce_w1.numpy(), bce_w2.numpy()}')"
      ],
      "execution_count": null,
      "outputs": [
        {
          "output_type": "error",
          "ename": "NameError",
          "evalue": "ignored",
          "traceback": [
            "\u001b[0;31m---------------------------------------------------------------------------\u001b[0m",
            "\u001b[0;31mNameError\u001b[0m                                 Traceback (most recent call last)",
            "\u001b[0;32m<ipython-input-1-b07d1ed87e7d>\u001b[0m in \u001b[0;36m<cell line: 1>\u001b[0;34m()\u001b[0m\n\u001b[0;32m----> 1\u001b[0;31m \u001b[0mmse_r1\u001b[0m \u001b[0;34m=\u001b[0m \u001b[0mtf\u001b[0m\u001b[0;34m.\u001b[0m\u001b[0mkeras\u001b[0m\u001b[0;34m.\u001b[0m\u001b[0mlosses\u001b[0m\u001b[0;34m.\u001b[0m\u001b[0mmse\u001b[0m\u001b[0;34m(\u001b[0m\u001b[0;34m[\u001b[0m\u001b[0;36m1\u001b[0m\u001b[0;34m]\u001b[0m\u001b[0;34m,\u001b[0m \u001b[0;34m[\u001b[0m\u001b[0;36m0.9\u001b[0m\u001b[0;34m]\u001b[0m\u001b[0;34m)\u001b[0m\u001b[0;34m\u001b[0m\u001b[0;34m\u001b[0m\u001b[0m\n\u001b[0m\u001b[1;32m      2\u001b[0m \u001b[0mmse_r2\u001b[0m \u001b[0;34m=\u001b[0m \u001b[0mtf\u001b[0m\u001b[0;34m.\u001b[0m\u001b[0mkeras\u001b[0m\u001b[0;34m.\u001b[0m\u001b[0mlosses\u001b[0m\u001b[0;34m.\u001b[0m\u001b[0mmse\u001b[0m\u001b[0;34m(\u001b[0m\u001b[0;34m[\u001b[0m\u001b[0;36m0\u001b[0m\u001b[0;34m]\u001b[0m\u001b[0;34m,\u001b[0m \u001b[0;34m[\u001b[0m\u001b[0;36m0.1\u001b[0m\u001b[0;34m]\u001b[0m\u001b[0;34m)\u001b[0m\u001b[0;34m\u001b[0m\u001b[0;34m\u001b[0m\u001b[0m\n\u001b[1;32m      3\u001b[0m \u001b[0mmse_w1\u001b[0m \u001b[0;34m=\u001b[0m \u001b[0mtf\u001b[0m\u001b[0;34m.\u001b[0m\u001b[0mkeras\u001b[0m\u001b[0;34m.\u001b[0m\u001b[0mlosses\u001b[0m\u001b[0;34m.\u001b[0m\u001b[0mmse\u001b[0m\u001b[0;34m(\u001b[0m\u001b[0;34m[\u001b[0m\u001b[0;36m1\u001b[0m\u001b[0;34m]\u001b[0m\u001b[0;34m,\u001b[0m \u001b[0;34m[\u001b[0m\u001b[0;36m0.1\u001b[0m\u001b[0;34m]\u001b[0m\u001b[0;34m)\u001b[0m\u001b[0;34m\u001b[0m\u001b[0;34m\u001b[0m\u001b[0m\n\u001b[1;32m      4\u001b[0m \u001b[0mmse_w2\u001b[0m \u001b[0;34m=\u001b[0m \u001b[0mtf\u001b[0m\u001b[0;34m.\u001b[0m\u001b[0mkeras\u001b[0m\u001b[0;34m.\u001b[0m\u001b[0mlosses\u001b[0m\u001b[0;34m.\u001b[0m\u001b[0mmse\u001b[0m\u001b[0;34m(\u001b[0m\u001b[0;34m[\u001b[0m\u001b[0;36m0\u001b[0m\u001b[0;34m]\u001b[0m\u001b[0;34m,\u001b[0m \u001b[0;34m[\u001b[0m\u001b[0;36m0.9\u001b[0m\u001b[0;34m]\u001b[0m\u001b[0;34m)\u001b[0m\u001b[0;34m\u001b[0m\u001b[0;34m\u001b[0m\u001b[0m\n\u001b[1;32m      5\u001b[0m print(f'MSE right:{mse_r1.numpy(), mse_r2.numpy()}',\n",
            "\u001b[0;31mNameError\u001b[0m: name 'tf' is not defined"
          ]
        }
      ]
    },
    {
      "cell_type": "code",
      "source": [
        "y_preds = np.linspace(0, 1, 100)\n",
        "loss_mse_1 = []\n",
        "loss_mse_0 = []\n",
        "loss_bce_1 = []\n",
        "loss_bce_0 = []\n",
        "for y_pred in y_preds:\n",
        "  loss_mse_0.append(keras.losses.mse([0], [y_pred]))\n",
        "  loss_mse_1.append(keras.losses.mse([1], [y_pred]))\n",
        "  loss_bce_0.append(keras.losses.binary_crossentropy([0], [y_pred]))\n",
        "  loss_bce_1.append(keras.losses.binary_crossentropy([1], [y_pred]))\n",
        "\n",
        "plt.plot(y_preds, loss_mse_0, 'b--')\n",
        "plt.plot(y_preds, loss_mse_1, 'b--')\n",
        "plt.plot(y_preds, loss_bce_0, 'r-')\n",
        "plt.plot(y_preds, loss_bce_1, 'r-')\n"
      ],
      "metadata": {
        "id": "TRQ3KVZdTcN-",
        "colab": {
          "base_uri": "https://localhost:8080/",
          "height": 449
        },
        "outputId": "296def7b-338e-4e93-ab37-a430ccd58209"
      },
      "execution_count": null,
      "outputs": [
        {
          "output_type": "execute_result",
          "data": {
            "text/plain": [
              "[<matplotlib.lines.Line2D at 0x7f351c0e0dc0>]"
            ]
          },
          "metadata": {},
          "execution_count": 6
        },
        {
          "output_type": "display_data",
          "data": {
            "text/plain": [
              "<Figure size 640x480 with 1 Axes>"
            ],
            "image/png": "[encoded data removed]"
          },
          "metadata": {}
        }
      ]
    },
    {
      "cell_type": "markdown",
      "source": [
        "## 이진분류 평가 함수\n",
        "* `BinaryAccuracy(threshold=0.5)`\n",
        "  * `update_state(y_true, y_pred)`\n",
        "  * `reset_state()`\n",
        "  * `result()`\n",
        "* 'binary_accuracy' : `keras.metrics.binary_accuracy(y_true, y_pred)`"
      ],
      "metadata": {
        "id": "Q-gFingstWeO"
      }
    },
    {
      "cell_type": "code",
      "source": [
        "y_true = [1,0,0,1]\n",
        "y_pred1 = [0.9, 0.1, 0.2, 0.8]\n",
        "y_pred2 = [0.9, 0.1, 0.8, 0.2]\n",
        "\n",
        "accuracy = keras.metrics.BinaryAccuracy()\n",
        "accuracy.update_state(y_true, y_pred1)\n",
        "acc1 = accuracy.result().numpy()\n",
        "accuracy.reset_state()\n",
        "accuracy.update_state(y_true, y_pred2)\n",
        "acc2 = accuracy.result().numpy()\n",
        "print(acc1, acc2)\n",
        "\n",
        "acc1 = keras.metrics.binary_accuracy(y_true, y_pred1)\n",
        "acc2 = keras.metrics.binary_accuracy(y_true, y_pred2)\n",
        "print(acc1.numpy(), acc2.numpy())"
      ],
      "metadata": {
        "id": "I4sCWOH3tmiX",
        "colab": {
          "base_uri": "https://localhost:8080/"
        },
        "outputId": "89d73f4e-a926-407f-bdc2-fe8fdd218388"
      },
      "execution_count": null,
      "outputs": [
        {
          "output_type": "stream",
          "name": "stdout",
          "text": [
            "1.0 0.5\n",
            "1.0 0.5\n"
          ]
        }
      ]
    },
    {
      "cell_type": "markdown",
      "metadata": {
        "id": "z3x7vrhyIyxz"
      },
      "source": [
        "## IMDB 이진 분류 실습 데이터\n",
        "* `keras.datasets.imdb.load_data(num_words)`"
      ]
    },
    {
      "cell_type": "code",
      "metadata": {
        "id": "QtcjRA63LkmV",
        "colab": {
          "base_uri": "https://localhost:8080/"
        },
        "outputId": "0e00322f-591e-425a-edc7-3aa3104ab54f"
      },
      "source": [
        "from tensorflow.keras.datasets import imdb\n",
        "\n",
        "(train_data, y_train), (test_data, y_test) = imdb.load_data(num_words=10000)\n",
        "print(train_data.shape, test_data.shape)\n"
      ],
      "execution_count": null,
      "outputs": [
        {
          "output_type": "stream",
          "name": "stdout",
          "text": [
            "Downloading data from https://storage.googleapis.com/tensorflow/tf-keras-datasets/imdb.npz\n",
            "17464789/17464789 [==============================] - 2s 0us/step\n",
            "(25000,) (25000,)\n"
          ]
        }
      ]
    },
    {
      "cell_type": "code",
      "metadata": {
        "id": "n5DQgEwtLkmY",
        "colab": {
          "base_uri": "https://localhost:8080/"
        },
        "outputId": "3066e5c0-07c0-4bfb-fb64-b0ea776b25ba"
      },
      "source": [
        "print(len(train_data[0]), train_data[0])"
      ],
      "execution_count": null,
      "outputs": [
        {
          "output_type": "stream",
          "name": "stdout",
          "text": [
            "218 [1, 14, 22, 16, 43, 530, 973, 1622, 1385, 65, 458, 4468, 66, 3941, 4, 173, 36, 256, 5, 25, 100, 43, 838, 112, 50, 670, 2, 9, 35, 480, 284, 5, 150, 4, 172, 112, 167, 2, 336, 385, 39, 4, 172, 4536, 1111, 17, 546, 38, 13, 447, 4, 192, 50, 16, 6, 147, 2025, 19, 14, 22, 4, 1920, 4613, 469, 4, 22, 71, 87, 12, 16, 43, 530, 38, 76, 15, 13, 1247, 4, 22, 17, 515, 17, 12, 16, 626, 18, 2, 5, 62, 386, 12, 8, 316, 8, 106, 5, 4, 2223, 5244, 16, 480, 66, 3785, 33, 4, 130, 12, 16, 38, 619, 5, 25, 124, 51, 36, 135, 48, 25, 1415, 33, 6, 22, 12, 215, 28, 77, 52, 5, 14, 407, 16, 82, 2, 8, 4, 107, 117, 5952, 15, 256, 4, 2, 7, 3766, 5, 723, 36, 71, 43, 530, 476, 26, 400, 317, 46, 7, 4, 2, 1029, 13, 104, 88, 4, 381, 15, 297, 98, 32, 2071, 56, 26, 141, 6, 194, 7486, 18, 4, 226, 22, 21, 134, 476, 26, 480, 5, 144, 30, 5535, 18, 51, 36, 28, 224, 92, 25, 104, 4, 226, 65, 16, 38, 1334, 88, 12, 16, 283, 5, 16, 4472, 113, 103, 32, 15, 16, 5345, 19, 178, 32]\n"
          ]
        }
      ]
    },
    {
      "cell_type": "code",
      "metadata": {
        "id": "R0lAqnfILkmb",
        "colab": {
          "base_uri": "https://localhost:8080/"
        },
        "outputId": "41f0390f-4f93-45da-abbe-549dfd9a077a"
      },
      "source": [
        "word_index = imdb.get_word_index()\n",
        "#word_index\n",
        "index_word = {v:k for k,v in word_index.items()}\n",
        "#index_word\n",
        "decoded = [index_word.get(i-3, '@') for i in train_data[0]]\n",
        "' '.join(decoded)\n",
        "y_train[1]"
      ],
      "execution_count": null,
      "outputs": [
        {
          "output_type": "stream",
          "name": "stdout",
          "text": [
            "Downloading data from https://storage.googleapis.com/tensorflow/tf-keras-datasets/imdb_word_index.json\n",
            "1641221/1641221 [==============================] - 1s 1us/step\n"
          ]
        },
        {
          "output_type": "execute_result",
          "data": {
            "text/plain": [
              "0"
            ]
          },
          "metadata": {},
          "execution_count": 3
        }
      ]
    },
    {
      "cell_type": "markdown",
      "source": [
        "## IMDB 데이터 전처리\n",
        "* Vectorinzing"
      ],
      "metadata": {
        "id": "OlFxPJaTw4eL"
      }
    },
    {
      "cell_type": "code",
      "metadata": {
        "id": "G6fDy6_OLkmd",
        "colab": {
          "base_uri": "https://localhost:8080/"
        },
        "outputId": "e0d948da-5825-4d42-fe41-87bbf1e9edb1"
      },
      "source": [
        "# 10000개의 단어 중에 review sample에서 사용한 단어만 1로 채우기\n",
        "\n",
        "def vectorize_sequences(seqs, dimension=10000):\n",
        "  res = np.zeros((len(seqs), dimension))\n",
        "  for i, seq in enumerate(seqs):\n",
        "    res[i, seq] = 1.\n",
        "  return res\n",
        "\n",
        "X_train = vectorize_sequences(train_data)\n",
        "X_test = vectorize_sequences(test_data)\n",
        "print(X_train.shape, X_test.shape)\n",
        "X_train[0], X_test[0]"
      ],
      "execution_count": null,
      "outputs": [
        {
          "output_type": "stream",
          "name": "stdout",
          "text": [
            "(25000, 10000) (25000, 10000)\n"
          ]
        },
        {
          "output_type": "execute_result",
          "data": {
            "text/plain": [
              "(array([0., 1., 1., ..., 0., 0., 0.]), array([0., 1., 1., ..., 0., 0., 0.]))"
            ]
          },
          "metadata": {},
          "execution_count": 4
        }
      ]
    },
    {
      "cell_type": "markdown",
      "metadata": {
        "id": "MarAn5whI466"
      },
      "source": [
        "## 모델 설계 및 학습"
      ]
    },
    {
      "cell_type": "code",
      "metadata": {
        "id": "nDQFtZPELkmf",
        "colab": {
          "base_uri": "https://localhost:8080/"
        },
        "outputId": "8eab161c-c0b9-496b-d736-acd95cd1f299"
      },
      "source": [
        "tf.random.set_seed(0)\n",
        "model = Sequential()\n",
        "model.add(Dense(16, activation='relu', input_shape=(10000,)))\n",
        "model.add(Dense(16, activation='relu'))\n",
        "model.add(Dense(16, activation='relu'))\n",
        "model.add(Dense(1, activation='sigmoid'))\n",
        "model.summary()\n",
        "\n",
        "model.compile('adam', 'binary_crossentropy', metrics='binary_accuracy')\n",
        "history = model.fit(X_train, y_train, epochs=20, batch_size=16, validation_split=0.2)\n",
        "model.evaluate(X_train, y_train)\n",
        "model.evaluate(X_test, y_test)"
      ],
      "execution_count": null,
      "outputs": [
        {
          "output_type": "stream",
          "name": "stdout",
          "text": [
            "Model: \"sequential\"\n",
            "_________________________________________________________________\n",
            " Layer (type)                Output Shape              Param #   \n",
            "=================================================================\n",
            " dense (Dense)               (None, 16)                160016    \n",
            "                                                                 \n",
            " dense_1 (Dense)             (None, 16)                272       \n",
            "                                                                 \n",
            " dense_2 (Dense)             (None, 16)                272       \n",
            "                                                                 \n",
            " dense_3 (Dense)             (None, 1)                 17        \n",
            "                                                                 \n",
            "=================================================================\n",
            "Total params: 160,577\n",
            "Trainable params: 160,577\n",
            "Non-trainable params: 0\n",
            "_________________________________________________________________\n",
            "Epoch 1/20\n",
            "1250/1250 [==============================] - 12s 5ms/step - loss: 0.3379 - binary_accuracy: 0.8526 - val_loss: 0.2875 - val_binary_accuracy: 0.8804\n",
            "Epoch 2/20\n",
            "1250/1250 [==============================] - 8s 6ms/step - loss: 0.1790 - binary_accuracy: 0.9316 - val_loss: 0.3050 - val_binary_accuracy: 0.8838\n",
            "Epoch 3/20\n",
            "1250/1250 [==============================] - 5s 4ms/step - loss: 0.1156 - binary_accuracy: 0.9560 - val_loss: 0.3648 - val_binary_accuracy: 0.8770\n",
            "Epoch 4/20\n",
            "1250/1250 [==============================] - 5s 4ms/step - loss: 0.0638 - binary_accuracy: 0.9766 - val_loss: 0.5370 - val_binary_accuracy: 0.8712\n",
            "Epoch 5/20\n",
            "1250/1250 [==============================] - 5s 4ms/step - loss: 0.0354 - binary_accuracy: 0.9882 - val_loss: 0.6152 - val_binary_accuracy: 0.8734\n",
            "Epoch 6/20\n",
            "1250/1250 [==============================] - 5s 4ms/step - loss: 0.0239 - binary_accuracy: 0.9911 - val_loss: 0.7555 - val_binary_accuracy: 0.8712\n",
            "Epoch 7/20\n",
            "1250/1250 [==============================] - 6s 5ms/step - loss: 0.0164 - binary_accuracy: 0.9941 - val_loss: 0.8786 - val_binary_accuracy: 0.8694\n",
            "Epoch 8/20\n",
            "1250/1250 [==============================] - 5s 4ms/step - loss: 0.0088 - binary_accuracy: 0.9970 - val_loss: 0.9893 - val_binary_accuracy: 0.8720\n",
            "Epoch 9/20\n",
            "1250/1250 [==============================] - 6s 5ms/step - loss: 0.0077 - binary_accuracy: 0.9977 - val_loss: 1.0546 - val_binary_accuracy: 0.8664\n",
            "Epoch 10/20\n",
            "1250/1250 [==============================] - 5s 4ms/step - loss: 0.0124 - binary_accuracy: 0.9965 - val_loss: 1.0205 - val_binary_accuracy: 0.8710\n",
            "Epoch 11/20\n",
            "1250/1250 [==============================] - 5s 4ms/step - loss: 0.0036 - binary_accuracy: 0.9990 - val_loss: 1.0847 - val_binary_accuracy: 0.8670\n",
            "Epoch 12/20\n",
            "1250/1250 [==============================] - 6s 4ms/step - loss: 0.0028 - binary_accuracy: 0.9992 - val_loss: 1.1710 - val_binary_accuracy: 0.8680\n",
            "Epoch 13/20\n",
            "1250/1250 [==============================] - 5s 4ms/step - loss: 0.0011 - binary_accuracy: 0.9998 - val_loss: 1.2544 - val_binary_accuracy: 0.8682\n",
            "Epoch 14/20\n",
            "1250/1250 [==============================] - 6s 5ms/step - loss: 0.0036 - binary_accuracy: 0.9988 - val_loss: 1.3136 - val_binary_accuracy: 0.8710\n",
            "Epoch 15/20\n",
            "1250/1250 [==============================] - 5s 4ms/step - loss: 0.0125 - binary_accuracy: 0.9969 - val_loss: 0.9567 - val_binary_accuracy: 0.8688\n",
            "Epoch 16/20\n",
            "1250/1250 [==============================] - 6s 5ms/step - loss: 0.0051 - binary_accuracy: 0.9980 - val_loss: 1.0888 - val_binary_accuracy: 0.8720\n",
            "Epoch 17/20\n",
            "1250/1250 [==============================] - 5s 4ms/step - loss: 5.1178e-04 - binary_accuracy: 0.9999 - val_loss: 1.2633 - val_binary_accuracy: 0.8730\n",
            "Epoch 18/20\n",
            "1250/1250 [==============================] - 5s 4ms/step - loss: 5.6948e-05 - binary_accuracy: 1.0000 - val_loss: 1.3137 - val_binary_accuracy: 0.8752\n",
            "Epoch 19/20\n",
            "1250/1250 [==============================] - 9s 7ms/step - loss: 3.1402e-05 - binary_accuracy: 1.0000 - val_loss: 1.3765 - val_binary_accuracy: 0.8748\n",
            "Epoch 20/20\n",
            "1250/1250 [==============================] - 10s 8ms/step - loss: 1.9067e-05 - binary_accuracy: 1.0000 - val_loss: 1.4423 - val_binary_accuracy: 0.8762\n",
            "782/782 [==============================] - 4s 5ms/step - loss: 0.2885 - binary_accuracy: 0.9752\n",
            "782/782 [==============================] - 2s 3ms/step - loss: 1.5785 - binary_accuracy: 0.8573\n"
          ]
        },
        {
          "output_type": "execute_result",
          "data": {
            "text/plain": [
              "[1.5785245895385742, 0.8572800159454346]"
            ]
          },
          "metadata": {},
          "execution_count": 5
        }
      ]
    },
    {
      "cell_type": "code",
      "metadata": {
        "id": "acFou6XSnzxV"
      },
      "source": [],
      "execution_count": null,
      "outputs": []
    },
    {
      "cell_type": "markdown",
      "metadata": {
        "id": "1y5lYW3JLkmm"
      },
      "source": [
        "## 학습 history 시각화\n",
        "* 과적합 확인"
      ]
    },
    {
      "cell_type": "code",
      "metadata": {
        "id": "yU2MuKuULkmm",
        "colab": {
          "base_uri": "https://localhost:8080/",
          "height": 425
        },
        "outputId": "e858f02b-807a-4f9e-9cec-3fd910a58e69"
      },
      "source": [
        "print(history.history.keys())\n",
        "\n",
        "acc = history.history['binary_accuracy']\n",
        "val_acc = history.history['val_binary_accuracy']\n",
        "loss = history.history['loss']\n",
        "val_loss = history.history['val_loss']\n",
        "\n",
        "plt.figure(figsize=(12,4))\n",
        "plt.subplot(1,2,1)\n",
        "plt.plot(loss, label='Training loss')\n",
        "plt.plot(val_loss, label='Validation loss')\n",
        "plt.xlabel('Epochs')\n",
        "plt.ylabel('Loss')\n",
        "plt.legend()\n",
        "\n",
        "plt.subplot(1,2,2)\n",
        "plt.plot(acc, label='Training acc')\n",
        "plt.plot(val_acc, label='Validation acc')\n",
        "plt.xlabel('Epochs')\n",
        "plt.ylabel('Accuracy')\n",
        "plt.legend()\n"
      ],
      "execution_count": null,
      "outputs": [
        {
          "output_type": "stream",
          "name": "stdout",
          "text": [
            "dict_keys(['loss', 'binary_accuracy', 'val_loss', 'val_binary_accuracy'])\n"
          ]
        },
        {
          "output_type": "execute_result",
          "data": {
            "text/plain": [
              "<matplotlib.legend.Legend at 0x7faee94d15b0>"
            ]
          },
          "metadata": {},
          "execution_count": 6
        },
        {
          "output_type": "display_data",
          "data": {
            "text/plain": [
              "<Figure size 1200x400 with 2 Axes>"
            ],
            "image/png": "[encoded data removed]"
          },
          "metadata": {}
        }
      ]
    },
    {
      "cell_type": "markdown",
      "source": [
        "# Regularization\n",
        "* Layer regularizer parameter\n",
        "  * `kernel_regularizer`\n",
        "  * `bias_regularizer`\n",
        "  * `activity_regularizer`\n",
        "* Regularizer \n",
        "  * `keras.regularizers.l1(l1=0.01)`\n",
        "  * `keras.regularizers.l2(l2=0.01)`\n",
        "  * `keras.regularizers.l1_l2(l1=0.01, l2=0.01)`"
      ],
      "metadata": {
        "id": "t8BbDpbqlMZJ"
      }
    },
    {
      "cell_type": "code",
      "source": [
        "from tensorflow.keras import regularizers\n",
        "\n",
        "tf.random.set_seed(0)\n",
        "model = Sequential()\n",
        "model.add(Dense(16, activation='relu', input_shape=(10000,), kernel_regularizer=regularizers.l2(l2=0.01)))\n",
        "model.add(Dense(16, activation='relu', kernel_regularizer=regularizers.l2(l2=0.02)))\n",
        "model.add(Dense(16, activation='relu', kernel_regularizer=regularizers.l2(l2=0.03)))\n",
        "model.add(Dense(1, activation='sigmoid'))\n",
        "model.summary()\n",
        "\n",
        "model.compile('adam', 'binary_crossentropy', metrics='binary_accuracy')\n",
        "history = model.fit(X_train, y_train, epochs=20, batch_size=16, validation_split=0.2)\n",
        "model.evaluate(X_train, y_train)\n",
        "model.evaluate(X_test, y_test)"
      ],
      "metadata": {
        "id": "kf1Y-FcllPLZ",
        "colab": {
          "base_uri": "https://localhost:8080/"
        },
        "outputId": "e3b595b1-2f96-479e-f750-27d5eb24df3b"
      },
      "execution_count": null,
      "outputs": [
        {
          "output_type": "stream",
          "name": "stdout",
          "text": [
            "Model: \"sequential_1\"\n",
            "_________________________________________________________________\n",
            " Layer (type)                Output Shape              Param #   \n",
            "=================================================================\n",
            " dense_4 (Dense)             (None, 16)                160016    \n",
            "                                                                 \n",
            " dense_5 (Dense)             (None, 16)                272       \n",
            "                                                                 \n",
            " dense_6 (Dense)             (None, 16)                272       \n",
            "                                                                 \n",
            " dense_7 (Dense)             (None, 1)                 17        \n",
            "                                                                 \n",
            "=================================================================\n",
            "Total params: 160,577\n",
            "Trainable params: 160,577\n",
            "Non-trainable params: 0\n",
            "_________________________________________________________________\n",
            "Epoch 1/20\n",
            "1250/1250 [==============================] - 7s 4ms/step - loss: 0.6541 - binary_accuracy: 0.8385 - val_loss: 0.5418 - val_binary_accuracy: 0.8552\n",
            "Epoch 2/20\n",
            "1250/1250 [==============================] - 6s 4ms/step - loss: 0.4959 - binary_accuracy: 0.8712 - val_loss: 0.4796 - val_binary_accuracy: 0.8760\n",
            "Epoch 3/20\n",
            "1250/1250 [==============================] - 5s 4ms/step - loss: 0.4643 - binary_accuracy: 0.8753 - val_loss: 0.4604 - val_binary_accuracy: 0.8686\n",
            "Epoch 4/20\n",
            "1250/1250 [==============================] - 6s 5ms/step - loss: 0.4429 - binary_accuracy: 0.8849 - val_loss: 0.4477 - val_binary_accuracy: 0.8770\n",
            "Epoch 5/20\n",
            "1250/1250 [==============================] - 5s 4ms/step - loss: 0.4311 - binary_accuracy: 0.8844 - val_loss: 0.4394 - val_binary_accuracy: 0.8758\n",
            "Epoch 6/20\n",
            "1250/1250 [==============================] - 6s 5ms/step - loss: 0.4222 - binary_accuracy: 0.8869 - val_loss: 0.4403 - val_binary_accuracy: 0.8752\n",
            "Epoch 7/20\n",
            "1250/1250 [==============================] - 5s 4ms/step - loss: 0.4126 - binary_accuracy: 0.8909 - val_loss: 0.4429 - val_binary_accuracy: 0.8764\n",
            "Epoch 8/20\n",
            "1250/1250 [==============================] - 5s 4ms/step - loss: 0.4073 - binary_accuracy: 0.8906 - val_loss: 0.4361 - val_binary_accuracy: 0.8746\n",
            "Epoch 9/20\n",
            "1250/1250 [==============================] - 6s 5ms/step - loss: 0.3987 - binary_accuracy: 0.8938 - val_loss: 0.4235 - val_binary_accuracy: 0.8772\n",
            "Epoch 10/20\n",
            "1250/1250 [==============================] - 5s 4ms/step - loss: 0.3889 - binary_accuracy: 0.8972 - val_loss: 0.4152 - val_binary_accuracy: 0.8818\n",
            "Epoch 11/20\n",
            "1250/1250 [==============================] - 6s 5ms/step - loss: 0.3780 - binary_accuracy: 0.8990 - val_loss: 0.4118 - val_binary_accuracy: 0.8802\n",
            "Epoch 12/20\n",
            "1250/1250 [==============================] - 5s 4ms/step - loss: 0.3719 - binary_accuracy: 0.9018 - val_loss: 0.4182 - val_binary_accuracy: 0.8778\n",
            "Epoch 13/20\n",
            "1250/1250 [==============================] - 6s 5ms/step - loss: 0.3610 - binary_accuracy: 0.9064 - val_loss: 0.4117 - val_binary_accuracy: 0.8838\n",
            "Epoch 14/20\n",
            "1250/1250 [==============================] - 5s 4ms/step - loss: 0.3557 - binary_accuracy: 0.9079 - val_loss: 0.4234 - val_binary_accuracy: 0.8750\n",
            "Epoch 15/20\n",
            "1250/1250 [==============================] - 5s 4ms/step - loss: 0.3521 - binary_accuracy: 0.9100 - val_loss: 0.4127 - val_binary_accuracy: 0.8804\n",
            "Epoch 16/20\n",
            "1250/1250 [==============================] - 7s 5ms/step - loss: 0.3514 - binary_accuracy: 0.9085 - val_loss: 0.4136 - val_binary_accuracy: 0.8782\n",
            "Epoch 17/20\n",
            "1250/1250 [==============================] - 6s 5ms/step - loss: 0.3472 - binary_accuracy: 0.9082 - val_loss: 0.4034 - val_binary_accuracy: 0.8826\n",
            "Epoch 18/20\n",
            "1250/1250 [==============================] - 5s 4ms/step - loss: 0.3478 - binary_accuracy: 0.9111 - val_loss: 0.4045 - val_binary_accuracy: 0.8802\n",
            "Epoch 19/20\n",
            "1250/1250 [==============================] - 5s 4ms/step - loss: 0.3459 - binary_accuracy: 0.9099 - val_loss: 0.4069 - val_binary_accuracy: 0.8784\n",
            "Epoch 20/20\n",
            "1250/1250 [==============================] - 6s 5ms/step - loss: 0.3454 - binary_accuracy: 0.9069 - val_loss: 0.4064 - val_binary_accuracy: 0.8764\n",
            "782/782 [==============================] - 2s 3ms/step - loss: 0.3160 - binary_accuracy: 0.9291\n",
            "782/782 [==============================] - 2s 3ms/step - loss: 0.4207 - binary_accuracy: 0.8719\n"
          ]
        },
        {
          "output_type": "execute_result",
          "data": {
            "text/plain": [
              "[0.42068392038345337, 0.8719199895858765]"
            ]
          },
          "metadata": {},
          "execution_count": 7
        }
      ]
    },
    {
      "cell_type": "code",
      "source": [
        "model.evaluate(X_train, y_train)\n",
        "model.evaluate(X_test, y_test)"
      ],
      "metadata": {
        "id": "eIUItJCBovHc",
        "colab": {
          "base_uri": "https://localhost:8080/"
        },
        "outputId": "3d8d4cc8-a655-4df4-afdf-c62fb6c827f6"
      },
      "execution_count": null,
      "outputs": [
        {
          "output_type": "stream",
          "name": "stdout",
          "text": [
            "782/782 [==============================] - 2s 3ms/step - loss: 0.3160 - binary_accuracy: 0.9291\n",
            "782/782 [==============================] - 3s 4ms/step - loss: 0.4207 - binary_accuracy: 0.8719\n"
          ]
        },
        {
          "output_type": "execute_result",
          "data": {
            "text/plain": [
              "[0.42068392038345337, 0.8719199895858765]"
            ]
          },
          "metadata": {},
          "execution_count": 8
        }
      ]
    },
    {
      "cell_type": "markdown",
      "source": [
        "## 시각화"
      ],
      "metadata": {
        "id": "BR_14-OtqnLK"
      }
    },
    {
      "cell_type": "code",
      "source": [
        "print(history.history.keys())\n",
        "\n",
        "acc = history.history['binary_accuracy']\n",
        "val_acc = history.history['val_binary_accuracy']\n",
        "loss = history.history['loss']\n",
        "val_loss = history.history['val_loss']\n",
        "\n",
        "plt.figure(figsize=(12,4))\n",
        "plt.subplot(1,2,1)\n",
        "plt.plot(loss, label='Training loss')\n",
        "plt.plot(val_loss, label='Validation loss')\n",
        "plt.xlabel('Epochs')\n",
        "plt.ylabel('Loss')\n",
        "plt.legend()\n",
        "\n",
        "plt.subplot(1,2,2)\n",
        "plt.plot(acc, label='Training acc')\n",
        "plt.plot(val_acc, label='Validation acc')\n",
        "plt.xlabel('Epochs')\n",
        "plt.ylabel('Accuracy')\n",
        "plt.legend()\n"
      ],
      "metadata": {
        "id": "YbRWe_t1qmwD",
        "colab": {
          "base_uri": "https://localhost:8080/",
          "height": 425
        },
        "outputId": "d34a7cc2-1315-4413-b0f0-f76d38bb4887"
      },
      "execution_count": null,
      "outputs": [
        {
          "output_type": "stream",
          "name": "stdout",
          "text": [
            "dict_keys(['loss', 'binary_accuracy', 'val_loss', 'val_binary_accuracy'])\n"
          ]
        },
        {
          "output_type": "execute_result",
          "data": {
            "text/plain": [
              "<matplotlib.legend.Legend at 0x7faeeae39fa0>"
            ]
          },
          "metadata": {},
          "execution_count": 9
        },
        {
          "output_type": "display_data",
          "data": {
            "text/plain": [
              "<Figure size 1200x400 with 2 Axes>"
            ],
            "image/png": "[encoded data removed]"
          },
          "metadata": {}
        }
      ]
    },
    {
      "cell_type": "markdown",
      "source": [
        "# Callback을 이용한 과적합 회피 "
      ],
      "metadata": {
        "id": "tse9BcJgdebd"
      }
    },
    {
      "cell_type": "markdown",
      "source": [
        "## ModelCheckPoint\n",
        "* `ModelCheckpoint(filepath, monitor,...)`\n",
        "    * 매 epoch 마다 모델의 가중치 저장\n",
        "    * 훈련 중지된 경우 이어서 훈련 진행\n",
        "    * Dropbox 와 같은 Cloud drive에 저장 불가"
      ],
      "metadata": {
        "id": "EXXRYjxDdi09"
      }
    },
    {
      "cell_type": "code",
      "source": [
        "from tensorflow.keras.callbacks import ModelCheckpoint\n",
        "\n",
        "m = 50\n",
        "X = np.arange(m)\n",
        "y = 2 * X + np.random.randn(m) * 10\n",
        "\n",
        "model = tf.keras.Sequential([\n",
        "  tf.keras.layers.Dense(1, input_shape=(1,))\n",
        "])\n",
        "model.compile(loss='mse', optimizer='adam', metrics=['mae'])\n",
        "\n",
        "cb = ModelCheckpoint('weights/ckpt', monitor='loss', save_weights_only=True, save_best_only=True)\n",
        "history = model.fit(X, y, epochs=200, verbose=0, callbacks=[cb])\n",
        "model.evaluate(X,y)\n"
      ],
      "metadata": {
        "id": "bmbFBw5rdjfU",
        "colab": {
          "base_uri": "https://localhost:8080/"
        },
        "outputId": "9b81c537-229c-4811-c02f-81a8a3fd7024"
      },
      "execution_count": null,
      "outputs": [
        {
          "output_type": "stream",
          "name": "stdout",
          "text": [
            "2/2 [==============================] - 0s 6ms/step - loss: 733.4575 - mae: 22.2767\n"
          ]
        },
        {
          "output_type": "execute_result",
          "data": {
            "text/plain": [
              "[733.45751953125, 22.276714324951172]"
            ]
          },
          "metadata": {},
          "execution_count": 3
        }
      ]
    },
    {
      "cell_type": "code",
      "source": [
        "model2 = tf.keras.Sequential([\n",
        "  tf.keras.layers.Dense(1, input_shape=(1,))\n",
        "])\n",
        "model2.compile(loss='mse', optimizer='adam', metrics=['mae'])\n",
        "\n",
        "test_scores = model2.evaluate(X, y, verbose=2)\n",
        "print('Non Trained Model loss:', test_scores[0])\n",
        "print('Non Trained Model MAE:', test_scores[1])\n",
        "\n",
        "print(\"-\"*50)\n",
        "\n",
        "model2.load_weights('weights/ckpt')\n",
        "test_scores = model2.evaluate(X, y, verbose=2)\n",
        "print('Trained Model loss:', test_scores[0])\n",
        "print('Trained Model MAE:', test_scores[1])"
      ],
      "metadata": {
        "id": "j0ClIfihdnlE",
        "colab": {
          "base_uri": "https://localhost:8080/"
        },
        "outputId": "343eea8a-4a50-4e62-b00d-f0a624224335"
      },
      "execution_count": null,
      "outputs": [
        {
          "output_type": "stream",
          "name": "stderr",
          "text": [
            "WARNING:tensorflow:5 out of the last 11 calls to <function Model.make_test_function.<locals>.test_function at 0x7faeeb7cfa60> triggered tf.function retracing. Tracing is expensive and the excessive number of tracings could be due to (1) creating @tf.function repeatedly in a loop, (2) passing tensors with different shapes, (3) passing Python objects instead of tensors. For (1), please define your @tf.function outside of the loop. For (2), @tf.function has reduce_retracing=True option that can avoid unnecessary retracing. For (3), please refer to https://www.tensorflow.org/guide/function#controlling_retracing and https://www.tensorflow.org/api_docs/python/tf/function for  more details.\n"
          ]
        },
        {
          "output_type": "stream",
          "name": "stdout",
          "text": [
            "2/2 - 0s - loss: 1506.0105 - mae: 32.8066 - 147ms/epoch - 73ms/step\n",
            "Non Trained Model loss: 1506.010498046875\n",
            "Non Trained Model MAE: 32.806602478027344\n",
            "--------------------------------------------------\n",
            "2/2 - 0s - loss: 1151.8693 - mae: 28.5861 - 25ms/epoch - 13ms/step\n",
            "Trained Model loss: 1151.8692626953125\n",
            "Trained Model MAE: 28.586078643798828\n"
          ]
        }
      ]
    },
    {
      "cell_type": "markdown",
      "metadata": {
        "id": "mP5jZoA5Lkmr"
      },
      "source": [
        "## EarlyStopping Callback"
      ]
    },
    {
      "cell_type": "code",
      "source": [
        "from tensorflow.keras.callbacks import EarlyStopping, ModelCheckpoint\n",
        "\n",
        "tf.random.set_seed(0)\n",
        "model = Sequential()\n",
        "model.add(Dense(16, activation='relu', input_shape=(10000,), \n",
        "                                       kernel_regularizer=regularizers.l2(l2=0.01)))\n",
        "model.add(Dense(16, activation='relu', kernel_regularizer=regularizers.l2(l2=0.02)))\n",
        "model.add(Dense(16, activation='relu', kernel_regularizer=regularizers.l2(l2=0.03)))\n",
        "model.add(Dense(1, activation='sigmoid'))\n",
        "model.compile(optimizer = 'adam',\n",
        "             loss='binary_crossentropy',\n",
        "             metrics=['binary_accuracy'])\n",
        "\n",
        "cb_stop = EarlyStopping(monitor='val_loss', patience=2)\n",
        "cb_save = ModelCheckpoint('imdb/ckpt', save_weights_only =True, save_best_only=True )\n",
        "history = model.fit(X_train, y_train, epochs=20, batch_size=16, validation_split=0.2, verbose=0, callbacks=[cb_stop, cb_save])"
      ],
      "metadata": {
        "id": "TV1niITFsebu",
        "colab": {
          "base_uri": "https://localhost:8080/",
          "height": 210
        },
        "outputId": "314460f7-c7c9-4836-c361-fe6fee835c48"
      },
      "execution_count": null,
      "outputs": [
        {
          "output_type": "error",
          "ename": "NameError",
          "evalue": "ignored",
          "traceback": [
            "\u001b[0;31m---------------------------------------------------------------------------\u001b[0m",
            "\u001b[0;31mNameError\u001b[0m                                 Traceback (most recent call last)",
            "\u001b[0;32m<ipython-input-8-0569dfae3db1>\u001b[0m in \u001b[0;36m<cell line: 16>\u001b[0;34m()\u001b[0m\n\u001b[1;32m     14\u001b[0m \u001b[0mcb_stop\u001b[0m \u001b[0;34m=\u001b[0m \u001b[0mEarlyStopping\u001b[0m\u001b[0;34m(\u001b[0m\u001b[0mmonitor\u001b[0m\u001b[0;34m=\u001b[0m\u001b[0;34m'val_loss'\u001b[0m\u001b[0;34m,\u001b[0m \u001b[0mpatience\u001b[0m\u001b[0;34m=\u001b[0m\u001b[0;36m2\u001b[0m\u001b[0;34m)\u001b[0m\u001b[0;34m\u001b[0m\u001b[0;34m\u001b[0m\u001b[0m\n\u001b[1;32m     15\u001b[0m \u001b[0mcb_save\u001b[0m \u001b[0;34m=\u001b[0m \u001b[0mModelCheckpoint\u001b[0m\u001b[0;34m(\u001b[0m\u001b[0;34m'imdb/ckpt'\u001b[0m\u001b[0;34m,\u001b[0m \u001b[0msave_weights_only\u001b[0m \u001b[0;34m=\u001b[0m\u001b[0;32mTrue\u001b[0m\u001b[0;34m,\u001b[0m \u001b[0msave_best_only\u001b[0m\u001b[0;34m=\u001b[0m\u001b[0;32mTrue\u001b[0m \u001b[0;34m)\u001b[0m\u001b[0;34m\u001b[0m\u001b[0;34m\u001b[0m\u001b[0m\n\u001b[0;32m---> 16\u001b[0;31m \u001b[0mhistory\u001b[0m \u001b[0;34m=\u001b[0m \u001b[0mmodel\u001b[0m\u001b[0;34m.\u001b[0m\u001b[0mfit\u001b[0m\u001b[0;34m(\u001b[0m\u001b[0mX_train\u001b[0m\u001b[0;34m,\u001b[0m \u001b[0my_train\u001b[0m\u001b[0;34m,\u001b[0m \u001b[0mepochs\u001b[0m\u001b[0;34m=\u001b[0m\u001b[0;36m20\u001b[0m\u001b[0;34m,\u001b[0m \u001b[0mbatch_size\u001b[0m\u001b[0;34m=\u001b[0m\u001b[0;36m16\u001b[0m\u001b[0;34m,\u001b[0m \u001b[0mvalidation_split\u001b[0m\u001b[0;34m=\u001b[0m\u001b[0;36m0.2\u001b[0m\u001b[0;34m,\u001b[0m \u001b[0mverbose\u001b[0m\u001b[0;34m=\u001b[0m\u001b[0;36m0\u001b[0m\u001b[0;34m,\u001b[0m \u001b[0mcallbacks\u001b[0m\u001b[0;34m=\u001b[0m\u001b[0;34m[\u001b[0m\u001b[0mcb_stop\u001b[0m\u001b[0;34m,\u001b[0m \u001b[0mcb_save\u001b[0m\u001b[0;34m]\u001b[0m\u001b[0;34m)\u001b[0m\u001b[0;34m\u001b[0m\u001b[0;34m\u001b[0m\u001b[0m\n\u001b[0m",
            "\u001b[0;31mNameError\u001b[0m: name 'X_train' is not defined"
          ]
        }
      ]
    },
    {
      "cell_type": "code",
      "source": [
        "model.load_weights('imdb.ckpt')\n",
        "model.evaluate(X_train, y_train)\n",
        "model.evaluate(X_test, y_test)"
      ],
      "metadata": {
        "id": "CHH_4UyMtVzw"
      },
      "execution_count": null,
      "outputs": []
    },
    {
      "cell_type": "markdown",
      "metadata": {
        "id": "XFs13dfcLkmt"
      },
      "source": [
        "# 다항 분류\n"
      ]
    },
    {
      "cell_type": "markdown",
      "metadata": {
        "id": "u4OfYKOEYfoW"
      },
      "source": [
        "### One-Hot encoding\n",
        "* `keras.utils.to_categorical(y, num_classes)`"
      ]
    },
    {
      "cell_type": "code",
      "metadata": {
        "id": "0jGa08aLYmzt",
        "colab": {
          "base_uri": "https://localhost:8080/"
        },
        "outputId": "677bb915-cb8f-4fe8-b70f-54bf10f2ca5d"
      },
      "source": [
        "y = [0,1,2,0,1,2]\n",
        "enc = keras.utils.to_categorical(y, 3)\n",
        "print(enc)\n",
        "print(tf.argmax(enc, 1))"
      ],
      "execution_count": null,
      "outputs": [
        {
          "output_type": "stream",
          "name": "stdout",
          "text": [
            "[[1. 0. 0.]\n",
            " [0. 1. 0.]\n",
            " [0. 0. 1.]\n",
            " [1. 0. 0.]\n",
            " [0. 1. 0.]\n",
            " [0. 0. 1.]]\n",
            "tf.Tensor([0 1 2 0 1 2], shape=(6,), dtype=int64)\n"
          ]
        }
      ]
    },
    {
      "cell_type": "markdown",
      "metadata": {
        "id": "miPkz4v6JIlU"
      },
      "source": [
        "### Softmax 함수\n",
        "* 다항 로지스틱 회귀\n",
        "  * 여러 클래스에 대한 각각의 $H(x)$를 확률로 변형 필요\n",
        "  * Sigmoid 대신 Softmax 함수 사용\n",
        "* Softmax\n",
        "  * $\\displaystyle P(z) = \\frac{e^{z_i}}{e^{z_0} + e^{z_1} + e^{z_2}... + e^{z_k}}= \\frac{e^{z_i}}{\\sum_{k=1}^ke^{z_k}} (for \\, i=1,2,...,K)$\n",
        "    * 확율\n",
        "    * 각 클래스의 출력을 0~1 사이의 값으로 변환, * 모든 클래스의 값의 합은 1\n",
        "* Tensorflow API\n",
        "    * `tf.nn.softmax(logits)`\n",
        "        * types : float16(half), float32, float64\n",
        "    * `tf.keras.activations.softmax(logits)`"
      ]
    },
    {
      "cell_type": "code",
      "metadata": {
        "id": "eb0LgkeNJj_W"
      },
      "source": [
        "logits = np.array([[2,1,3]], dtype=np.float32)\n",
        "print(\"logits\", logits)\n",
        "\n",
        "p = np.exp(logits) / np.sum(np.exp(logits))\n",
        "print(\"probability:\", p, \"sum:\", np.sum(p))"
      ],
      "execution_count": null,
      "outputs": []
    },
    {
      "cell_type": "code",
      "metadata": {
        "id": "kERdxwHTJnHR"
      },
      "source": [
        "logits = np.array([[2,1,3]], dtype=np.float32)\n",
        "print(\"logits\", logits)\n",
        "\n",
        "p = tf.nn.softmax(logits)\n",
        "print(\"probability:\", p.numpy(), \"sum:\", tf.reduce_sum(p).numpy())\n",
        "\n",
        "p2 = tf.keras.activations.softmax(tf.convert_to_tensor(logits))\n",
        "print(\"probability:\", p2.numpy(), \"sum:\", tf.reduce_sum(p2).numpy())"
      ],
      "execution_count": null,
      "outputs": []
    },
    {
      "cell_type": "markdown",
      "metadata": {
        "id": "NS_vEclKJsbe"
      },
      "source": [
        "### Cross Entropy Cost\n",
        "* Softmax의 비용함수 \n",
        "  * $\\displaystyle Cost(W) =  -\\frac{1}{m}\\sum_{i=1}^m y \\cdot log(\\hat{y}) = \\frac{1}{m}\\sum_{i=1}^m -y \\cdot log(\\hat{y})$\n",
        "  * Binary Cross Entropy의  $y=1$ 경우를 모두 합한 형태\n",
        "* Cross Entropy cost 함수 원리\n",
        "    * 소프트맥스를 통과한 결과값 $\\hat{y}$는 어떤 특정한 클래스만 큰 값을 갖고 나머지는 아주 작은 값을 갖는다.\n",
        "    * One-hot encoding 된 $y$는 정답 클래스인 경우만 1을 나머지는 0을 가지고 있다.\n",
        "    * $\\hat{y}$와 $y$를 곱하면 정답만 남고 나머지는 0으로 사라진다.\n",
        "    * $-log(p)$함수를 적용하면 0에 가까운 값은 매우 커지고 1에 가까운 값은 0에 가까워 진다.\n",
        "    * 따라서 $y\\cdot -log(\\hat{y})$는 정답과 틀리면 매우 큰 값을 갖고 정답에 맞으면 0에 가까운 값이 나오므로 비용함수로 적합하다.\n",
        "\n",
        "*  Tensorflow API\n",
        "  * `tf.nn.softmax_cross_entropy_with_logits(labels, logits)`\n",
        "      *  `labels` :one-hot encoded label\n",
        "      * `logits` : softmax 하기 전 출력 값(내부적으로 softmax 처리)\n",
        "  * `tf.keras.losses.categorical_crossentropy(y_true, y_pred)`\n",
        "      * `y_true` : one-hot encoded label\n",
        "      * `y_pred` : predted probability\n",
        "  * `tf.keras.losses.sparse_categorical_crossentropy(y_true, y_pred)`\n",
        "      * `y_true` : non one-hot encoded label(class vector)\n",
        "      * `y_pred` : predted probability    "
      ]
    },
    {
      "cell_type": "code",
      "metadata": {
        "id": "VDvm1ydUJ_56",
        "colab": {
          "base_uri": "https://localhost:8080/"
        },
        "outputId": "08731125-5914-4767-8b99-5b12f2b29897"
      },
      "source": [
        "y = tf.constant([1], dtype=tf.float32)\n",
        "y_enc = keras.utils.to_categorical(y, 3)\n",
        "t_logit = tf.constant([[1, 5, 2]], dtype=tf.float32)\n",
        "f_logit = tf.constant([[5, 2, 1]], dtype=tf.float32)\n",
        "\n",
        "t_proba = keras.activations.softmax(t_logit)\n",
        "f_proba = keras.activations.softmax(f_logit)\n",
        "print(f'y\\t {y}, y_enc\\t {y_enc}')\n",
        "print(f'softmax\\t wrong:{f_proba},\\t right:{t_proba}')\n",
        "\n",
        "t_loss = keras.losses.categorical_crossentropy(y_enc, t_proba)\n",
        "f_loss = keras.losses.categorical_crossentropy(y_enc, f_proba)\n",
        "print(f'cost\\t wrong:{f_loss},\\t right:{t_loss}')\n",
        "\n",
        "t_loss_sparse = keras.losses.sparse_categorical_crossentropy(y, t_proba)\n",
        "f_loss_sparse = keras.losses.sparse_categorical_crossentropy(y, f_proba)\n",
        "print(f'cost\\t wrong:{f_loss_sparse},\\t right:{t_loss_sparse}')"
      ],
      "execution_count": null,
      "outputs": [
        {
          "output_type": "stream",
          "name": "stdout",
          "text": [
            "y\t [1.], y_enc\t [[0. 1. 0.]]\n",
            "softmax\t wrong:[[0.93623954 0.04661262 0.01714783]],\t right:[[0.01714783 0.93623954 0.04661262]]\n",
            "cost\t wrong:[3.0658839],\t right:[0.06588391]\n",
            "cost\t wrong:[3.0658839],\t right:[0.06588391]\n"
          ]
        }
      ]
    },
    {
      "cell_type": "markdown",
      "metadata": {
        "id": "MlpGpjtDJFGt"
      },
      "source": [
        "## MNIST 숫자 손 글씨 데이터\n",
        "* `keras.datasets.mnist.load_data()`\n",
        "* 이미지 크기 : 28x28\n",
        "* 픽셀 데이터 범위 : 0~255\n"
      ]
    },
    {
      "cell_type": "code",
      "metadata": {
        "id": "5s6hWUq6Lkmu",
        "colab": {
          "base_uri": "https://localhost:8080/"
        },
        "outputId": "955a020c-d957-4600-f7f0-1977aea1267c"
      },
      "source": [
        "(train_data, y_train), (test_data, y_test) = keras.datasets.mnist.load_data()\n",
        "print(train_data.shape, y_train.shape, test_data.shape, y_test.shape)"
      ],
      "execution_count": null,
      "outputs": [
        {
          "output_type": "stream",
          "name": "stdout",
          "text": [
            "Downloading data from https://storage.googleapis.com/tensorflow/tf-keras-datasets/mnist.npz\n",
            "11490434/11490434 [==============================] - 0s 0us/step\n",
            "(60000, 28, 28) (60000,) (10000, 28, 28) (10000,)\n"
          ]
        }
      ]
    },
    {
      "cell_type": "code",
      "source": [
        "for i in range(5):\n",
        "  plt.subplot(1,5,i+1)\n",
        "  plt.imshow(train_data[i], cmap='gray')\n",
        "  plt.axis('off')\n",
        "  plt.title(y_train[i])\n",
        "print(train_data.dtype)"
      ],
      "metadata": {
        "colab": {
          "base_uri": "https://localhost:8080/",
          "height": 162
        },
        "id": "A9-aqqK3eFyv",
        "outputId": "bcfa700f-9875-4d68-c98d-b87dc6420f44"
      },
      "execution_count": null,
      "outputs": [
        {
          "output_type": "stream",
          "name": "stdout",
          "text": [
            "uint8\n"
          ]
        },
        {
          "output_type": "display_data",
          "data": {
            "text/plain": [
              "<Figure size 640x480 with 5 Axes>"
            ],
            "image/png": "[encoded data removed]"
          },
          "metadata": {}
        }
      ]
    },
    {
      "cell_type": "markdown",
      "metadata": {
        "id": "hT_ImmKqLkmv"
      },
      "source": [
        "## Data preprocessing\n",
        "* 정규화(Normalization)\n",
        "    * 픽셀 데이타 : 0 ~ 255\n",
        "    * 정규화 데이타 : 0 ~ 1  \n",
        "* 2차원 이미지를 1차원으로 변경\n",
        "    * (28,28)\n",
        "    * (784)"
      ]
    },
    {
      "cell_type": "code",
      "metadata": {
        "id": "L8sHVfdrLkmw",
        "colab": {
          "base_uri": "https://localhost:8080/"
        },
        "outputId": "ed8fe7b5-efa0-4196-ddd7-b22203cafb34"
      },
      "source": [
        "X_train = train_data/255\n",
        "X_test = test_data/255\n",
        "X_train.max(), X_train.min(), X_test.max(), X_test.min()"
      ],
      "execution_count": null,
      "outputs": [
        {
          "output_type": "execute_result",
          "data": {
            "text/plain": [
              "(1.0, 0.0, 1.0, 0.0)"
            ]
          },
          "metadata": {},
          "execution_count": 5
        }
      ]
    },
    {
      "cell_type": "code",
      "source": [
        "X_train = X_train.reshape(-1, 28*28)\n",
        "X_test = X_test.reshape(-1, 28*28)\n",
        "X_train.shape, X_test.shape"
      ],
      "metadata": {
        "colab": {
          "base_uri": "https://localhost:8080/"
        },
        "id": "zJhv7xco0bcY",
        "outputId": "1894ebac-8924-4100-bb89-f5425bf7a752"
      },
      "execution_count": null,
      "outputs": [
        {
          "output_type": "execute_result",
          "data": {
            "text/plain": [
              "((60000, 784), (10000, 784))"
            ]
          },
          "metadata": {},
          "execution_count": 6
        }
      ]
    },
    {
      "cell_type": "markdown",
      "metadata": {
        "id": "Y_mdkyaKLkmx"
      },
      "source": [
        "## 모델 설계 및 학습\n",
        "* 입력 : 28*28\n",
        "* layer1 : 64\n",
        "* layer2 : 32\n",
        "* 출력 : 10"
      ]
    },
    {
      "cell_type": "code",
      "metadata": {
        "id": "pq1J-zAJLkmy",
        "colab": {
          "base_uri": "https://localhost:8080/"
        },
        "outputId": "a6d1964a-3805-41b7-a6f7-74ab584ba2c2"
      },
      "source": [
        "tf.random.set_seed(0)\n",
        "model=Sequential()\n",
        "model.add(Dense(64, activation='relu', input_shape=(28*28,)))\n",
        "model.add(Dense(32, activation='relu'))\n",
        "model.add(Dense(16, activation='relu'))\n",
        "model.add(Dense(10, activation='softmax'))\n",
        "model.summary()\n",
        "\n",
        "model.compile('adam', loss='sparse_categorical_crossentropy', metrics='accuracy')\n",
        "history = model.fit(X_train,y_train,batch_size=32,epochs=10,validation_split=0.2)\n",
        "\n",
        "model.evaluate(X_train, y_train)\n",
        "model.evaluate(X_test, y_test)\n"
      ],
      "execution_count": null,
      "outputs": [
        {
          "output_type": "stream",
          "name": "stdout",
          "text": [
            "Model: \"sequential_1\"\n",
            "_________________________________________________________________\n",
            " Layer (type)                Output Shape              Param #   \n",
            "=================================================================\n",
            " dense_4 (Dense)             (None, 64)                50240     \n",
            "                                                                 \n",
            " dense_5 (Dense)             (None, 32)                2080      \n",
            "                                                                 \n",
            " dense_6 (Dense)             (None, 16)                528       \n",
            "                                                                 \n",
            " dense_7 (Dense)             (None, 10)                170       \n",
            "                                                                 \n",
            "=================================================================\n",
            "Total params: 53,018\n",
            "Trainable params: 53,018\n",
            "Non-trainable params: 0\n",
            "_________________________________________________________________\n",
            "Epoch 1/10\n",
            "1500/1500 [==============================] - 12s 4ms/step - loss: 0.3590 - accuracy: 0.8938 - val_loss: 0.1898 - val_accuracy: 0.9452\n",
            "Epoch 2/10\n",
            "1500/1500 [==============================] - 5s 3ms/step - loss: 0.1523 - accuracy: 0.9552 - val_loss: 0.1463 - val_accuracy: 0.9573\n",
            "Epoch 3/10\n",
            "1500/1500 [==============================] - 6s 4ms/step - loss: 0.1132 - accuracy: 0.9659 - val_loss: 0.1133 - val_accuracy: 0.9686\n",
            "Epoch 4/10\n",
            "1500/1500 [==============================] - 6s 4ms/step - loss: 0.0902 - accuracy: 0.9719 - val_loss: 0.1239 - val_accuracy: 0.9617\n",
            "Epoch 5/10\n",
            "1500/1500 [==============================] - 5s 3ms/step - loss: 0.0762 - accuracy: 0.9770 - val_loss: 0.1124 - val_accuracy: 0.9657\n",
            "Epoch 6/10\n",
            "1500/1500 [==============================] - 6s 4ms/step - loss: 0.0635 - accuracy: 0.9805 - val_loss: 0.0963 - val_accuracy: 0.9713\n",
            "Epoch 7/10\n",
            "1500/1500 [==============================] - 5s 3ms/step - loss: 0.0552 - accuracy: 0.9825 - val_loss: 0.1036 - val_accuracy: 0.9697\n",
            "Epoch 8/10\n",
            "1500/1500 [==============================] - 6s 4ms/step - loss: 0.0486 - accuracy: 0.9853 - val_loss: 0.1038 - val_accuracy: 0.9726\n",
            "Epoch 9/10\n",
            "1500/1500 [==============================] - 5s 4ms/step - loss: 0.0429 - accuracy: 0.9865 - val_loss: 0.1040 - val_accuracy: 0.9738\n",
            "Epoch 10/10\n",
            "1500/1500 [==============================] - 7s 4ms/step - loss: 0.0367 - accuracy: 0.9883 - val_loss: 0.1087 - val_accuracy: 0.9728\n",
            "1875/1875 [==============================] - 4s 2ms/step - loss: 0.0398 - accuracy: 0.9893\n",
            "313/313 [==============================] - 1s 2ms/step - loss: 0.0990 - accuracy: 0.9758\n"
          ]
        },
        {
          "output_type": "execute_result",
          "data": {
            "text/plain": [
              "[0.09902778267860413, 0.9757999777793884]"
            ]
          },
          "metadata": {},
          "execution_count": 8
        }
      ]
    },
    {
      "cell_type": "markdown",
      "source": [
        "*One-hot encoding 하는 경우\n"
      ],
      "metadata": {
        "id": "WwmpF2wY4QmP"
      }
    },
    {
      "cell_type": "code",
      "source": [
        "y_train_enc = tf.keras.utils.to_categorical(y_train)\n",
        "y_test_enc = tf.keras.utils.to_categorical(y_test)\n",
        "\n",
        "y_train_enc.shape, y_test_enc.shape"
      ],
      "metadata": {
        "colab": {
          "base_uri": "https://localhost:8080/"
        },
        "id": "Z1_m-LD84UIH",
        "outputId": "58b5a099-c168-4eaa-8311-8597323eb6b5"
      },
      "execution_count": null,
      "outputs": [
        {
          "output_type": "execute_result",
          "data": {
            "text/plain": [
              "((60000, 10), (10000, 10))"
            ]
          },
          "metadata": {},
          "execution_count": 9
        }
      ]
    },
    {
      "cell_type": "code",
      "source": [
        "y_train_enc[:5]"
      ],
      "metadata": {
        "colab": {
          "base_uri": "https://localhost:8080/"
        },
        "id": "dFBK9oO64hXg",
        "outputId": "73c12cd7-a901-4059-ae92-fb4c5d4495e8"
      },
      "execution_count": null,
      "outputs": [
        {
          "output_type": "execute_result",
          "data": {
            "text/plain": [
              "array([[0., 0., 0., 0., 0., 1., 0., 0., 0., 0.],\n",
              "       [1., 0., 0., 0., 0., 0., 0., 0., 0., 0.],\n",
              "       [0., 0., 0., 0., 1., 0., 0., 0., 0., 0.],\n",
              "       [0., 1., 0., 0., 0., 0., 0., 0., 0., 0.],\n",
              "       [0., 0., 0., 0., 0., 0., 0., 0., 0., 1.]], dtype=float32)"
            ]
          },
          "metadata": {},
          "execution_count": 11
        }
      ]
    },
    {
      "cell_type": "code",
      "source": [
        "model.compile('adam',loss='categorical_crossentropy', metrics='accuracy')\n",
        "model.fit(X_train,y_train_enc)\n",
        "model.evaluate(X_test, y_test_enc)"
      ],
      "metadata": {
        "colab": {
          "base_uri": "https://localhost:8080/"
        },
        "id": "fsRNsteb4mcZ",
        "outputId": "ae4ba0f3-cd50-4b2a-857e-7a4af755824d"
      },
      "execution_count": null,
      "outputs": [
        {
          "output_type": "stream",
          "name": "stdout",
          "text": [
            "1875/1875 [==============================] - 8s 3ms/step - loss: 0.0521 - accuracy: 0.9851\n",
            "313/313 [==============================] - 1s 2ms/step - loss: 0.0913 - accuracy: 0.9754\n"
          ]
        },
        {
          "output_type": "execute_result",
          "data": {
            "text/plain": [
              "[0.09127268940210342, 0.9753999710083008]"
            ]
          },
          "metadata": {},
          "execution_count": 12
        }
      ]
    },
    {
      "cell_type": "markdown",
      "source": [],
      "metadata": {
        "id": "DdQ2pNSa4hJZ"
      }
    },
    {
      "cell_type": "code",
      "source": [
        "#학습시킬때 n개 set를 사용하므로 input case가 1개라는 의미\n",
        "\n",
        "X_test[0].shape, X_test[:1].shape"
      ],
      "metadata": {
        "colab": {
          "base_uri": "https://localhost:8080/"
        },
        "id": "JCeGkR7_6Uib",
        "outputId": "c4aa2b3a-2099-4115-c3f6-d898641c9247"
      },
      "execution_count": null,
      "outputs": [
        {
          "output_type": "execute_result",
          "data": {
            "text/plain": [
              "((784,), (1, 784))"
            ]
          },
          "metadata": {},
          "execution_count": 21
        }
      ]
    },
    {
      "cell_type": "code",
      "source": [
        "model.predict(X_test[:1])"
      ],
      "metadata": {
        "colab": {
          "base_uri": "https://localhost:8080/"
        },
        "id": "vhrsXbQz5WKj",
        "outputId": "7effea70-bed8-4b03-8ac3-d7a6145ef85c"
      },
      "execution_count": null,
      "outputs": [
        {
          "output_type": "stream",
          "name": "stdout",
          "text": [
            "1/1 [==============================] - 0s 148ms/step\n"
          ]
        },
        {
          "output_type": "execute_result",
          "data": {
            "text/plain": [
              "array([[4.4422861e-11, 4.8723041e-07, 5.9172589e-07, 4.6880918e-06,\n",
              "        1.3984914e-11, 2.6552244e-13, 1.7646948e-19, 9.9999428e-01,\n",
              "        6.9014758e-09, 9.3303969e-09]], dtype=float32)"
            ]
          },
          "metadata": {},
          "execution_count": 13
        }
      ]
    },
    {
      "cell_type": "code",
      "source": [
        "np.argmax(model.predict(X_test[:1]), axis=1)"
      ],
      "metadata": {
        "colab": {
          "base_uri": "https://localhost:8080/"
        },
        "id": "tmfpG83u5mxL",
        "outputId": "5d835104-5066-44ab-eed4-4f8f845bf774"
      },
      "execution_count": null,
      "outputs": [
        {
          "output_type": "stream",
          "name": "stdout",
          "text": [
            "1/1 [==============================] - 0s 29ms/step\n"
          ]
        },
        {
          "output_type": "execute_result",
          "data": {
            "text/plain": [
              "array([7])"
            ]
          },
          "metadata": {},
          "execution_count": 19
        }
      ]
    },
    {
      "cell_type": "code",
      "source": [
        "plt.imshow(X_test[0].reshape(28,28), cmap='gray')"
      ],
      "metadata": {
        "colab": {
          "base_uri": "https://localhost:8080/",
          "height": 448
        },
        "id": "If99IwcZ5yMr",
        "outputId": "e2ce87e2-5ff2-4d77-80ed-b66cd4a20142"
      },
      "execution_count": null,
      "outputs": [
        {
          "output_type": "execute_result",
          "data": {
            "text/plain": [
              "<matplotlib.image.AxesImage at 0x7fe714120b80>"
            ]
          },
          "metadata": {},
          "execution_count": 20
        },
        {
          "output_type": "display_data",
          "data": {
            "text/plain": [
              "<Figure size 640x480 with 1 Axes>"
            ],
            "image/png": "[encoded data removed]"
          },
          "metadata": {}
        }
      ]
    },
    {
      "cell_type": "markdown",
      "source": [
        "# BatchNormalization"
      ],
      "metadata": {
        "id": "XYX2rI5jE7H1"
      }
    },
    {
      "cell_type": "code",
      "source": [
        "tf.random.set_seed(0)\n"
      ],
      "metadata": {
        "id": "1CIt1GY4E9Vi"
      },
      "execution_count": null,
      "outputs": []
    },
    {
      "cell_type": "code",
      "metadata": {
        "colab": {
          "base_uri": "https://localhost:8080/"
        },
        "outputId": "fc95ed64-dd2d-44a3-aa8c-e20895887329",
        "id": "J3QlkdTD8wJY"
      },
      "source": [
        "tf.random.set_seed(0)\n",
        "model=Sequential()\n",
        "model.add(Dense(64, input_shape=(28*28,)))\n",
        "model.add(BatchNormalization())\n",
        "model.add(Activation('relu'))\n",
        "model.add(Dense(32))\n",
        "model.add(BatchNormalization())\n",
        "model.add(Activation('relu'))\n",
        "model.add(Dense(16))\n",
        "model.add(BatchNormalization())\n",
        "model.add(Activation('relu'))\n",
        "model.add(Dense(10, activation='softmax'))\n",
        "model.summary()\n",
        "\n",
        "model.compile('adam', loss='sparse_categorical_crossentropy', metrics='accuracy')\n",
        "history_bn = model.fit(X_train,y_train,batch_size=32,epochs=10,validation_split=0.2)\n",
        "\n",
        "model.evaluate(X_train, y_train)\n",
        "model.evaluate(X_test, y_test)\n"
      ],
      "execution_count": null,
      "outputs": [
        {
          "output_type": "stream",
          "name": "stdout",
          "text": [
            "Model: \"sequential_2\"\n",
            "_________________________________________________________________\n",
            " Layer (type)                Output Shape              Param #   \n",
            "=================================================================\n",
            " dense_8 (Dense)             (None, 64)                50240     \n",
            "                                                                 \n",
            " batch_normalization (BatchN  (None, 64)               256       \n",
            " ormalization)                                                   \n",
            "                                                                 \n",
            " activation (Activation)     (None, 64)                0         \n",
            "                                                                 \n",
            " dense_9 (Dense)             (None, 32)                2080      \n",
            "                                                                 \n",
            " batch_normalization_1 (Batc  (None, 32)               128       \n",
            " hNormalization)                                                 \n",
            "                                                                 \n",
            " activation_1 (Activation)   (None, 32)                0         \n",
            "                                                                 \n",
            " dense_10 (Dense)            (None, 16)                528       \n",
            "                                                                 \n",
            " batch_normalization_2 (Batc  (None, 16)               64        \n",
            " hNormalization)                                                 \n",
            "                                                                 \n",
            " activation_2 (Activation)   (None, 16)                0         \n",
            "                                                                 \n",
            " dense_11 (Dense)            (None, 10)                170       \n",
            "                                                                 \n",
            "=================================================================\n",
            "Total params: 53,466\n",
            "Trainable params: 53,242\n",
            "Non-trainable params: 224\n",
            "_________________________________________________________________\n",
            "Epoch 1/10\n",
            "1500/1500 [==============================] - 11s 5ms/step - loss: 0.4444 - accuracy: 0.8848 - val_loss: 0.1706 - val_accuracy: 0.9541\n",
            "Epoch 2/10\n",
            "1500/1500 [==============================] - 8s 6ms/step - loss: 0.1784 - accuracy: 0.9471 - val_loss: 0.1096 - val_accuracy: 0.9658\n",
            "Epoch 3/10\n",
            "1500/1500 [==============================] - 8s 5ms/step - loss: 0.1388 - accuracy: 0.9580 - val_loss: 0.1153 - val_accuracy: 0.9662\n",
            "Epoch 4/10\n",
            "1500/1500 [==============================] - 7s 5ms/step - loss: 0.1141 - accuracy: 0.9653 - val_loss: 0.1007 - val_accuracy: 0.9693\n",
            "Epoch 5/10\n",
            "1500/1500 [==============================] - 7s 5ms/step - loss: 0.1003 - accuracy: 0.9691 - val_loss: 0.1101 - val_accuracy: 0.9678\n",
            "Epoch 6/10\n",
            "1500/1500 [==============================] - 7s 5ms/step - loss: 0.0932 - accuracy: 0.9699 - val_loss: 0.0939 - val_accuracy: 0.9719\n",
            "Epoch 7/10\n",
            "1500/1500 [==============================] - 8s 5ms/step - loss: 0.0845 - accuracy: 0.9732 - val_loss: 0.0928 - val_accuracy: 0.9732\n",
            "Epoch 8/10\n",
            "1500/1500 [==============================] - 8s 5ms/step - loss: 0.0788 - accuracy: 0.9748 - val_loss: 0.0992 - val_accuracy: 0.9713\n",
            "Epoch 9/10\n",
            "1500/1500 [==============================] - 7s 5ms/step - loss: 0.0729 - accuracy: 0.9769 - val_loss: 0.0912 - val_accuracy: 0.9736\n",
            "Epoch 10/10\n",
            "1500/1500 [==============================] - 8s 5ms/step - loss: 0.0646 - accuracy: 0.9793 - val_loss: 0.0940 - val_accuracy: 0.9725\n",
            "1875/1875 [==============================] - 5s 3ms/step - loss: 0.0383 - accuracy: 0.9888\n",
            "313/313 [==============================] - 1s 2ms/step - loss: 0.0782 - accuracy: 0.9764\n"
          ]
        },
        {
          "output_type": "execute_result",
          "data": {
            "text/plain": [
              "[0.07820525765419006, 0.9764000177383423]"
            ]
          },
          "metadata": {},
          "execution_count": 22
        }
      ]
    },
    {
      "cell_type": "code",
      "source": [
        "plt.plot(history.history['loss'], label='without BatchNorm')\n",
        "plt.plot(history_bn.history['loss'], label='with BatchNorm')\n",
        "plt.legend()"
      ],
      "metadata": {
        "id": "e4woc3FCFe8m",
        "colab": {
          "base_uri": "https://localhost:8080/",
          "height": 448
        },
        "outputId": "43015529-42f3-4e37-985a-d76d64f52435"
      },
      "execution_count": null,
      "outputs": [
        {
          "output_type": "execute_result",
          "data": {
            "text/plain": [
              "<matplotlib.legend.Legend at 0x7fe7147a3eb0>"
            ]
          },
          "metadata": {},
          "execution_count": 23
        },
        {
          "output_type": "display_data",
          "data": {
            "text/plain": [
              "<Figure size 640x480 with 1 Axes>"
            ],
            "image/png": "[encoded data removed]"
          },
          "metadata": {}
        }
      ]
    },
    {
      "cell_type": "markdown",
      "source": [
        "# Dropout"
      ],
      "metadata": {
        "id": "r8orBjKOyabA"
      }
    },
    {
      "cell_type": "code",
      "source": [
        "from tensorflow.keras.layers import Dropout\n",
        "\n",
        "tf.random.set_seed(0)\n",
        "\n",
        "model=Sequential()\n",
        "model.add(Dense(64, activation='relu', input_shape=(28*28,)))\n",
        "model.add(Dropout(0.2))\n",
        "model.add(Dense(32, activation='relu'))\n",
        "model.add(Dropout(0.1))\n",
        "model.add(Dense(16, activation='relu'))\n",
        "model.add(Dropout(0.1))\n",
        "model.add(Dense(10, activation='softmax'))\n",
        "model.summary()\n",
        "\n",
        "model.compile('adam', loss='sparse_categorical_crossentropy', metrics='accuracy')\n",
        "history = model.fit(X_train,y_train,batch_size=32,epochs=10,validation_split=0.2)\n",
        "\n",
        "model.evaluate(X_train, y_train)\n",
        "model.evaluate(X_test, y_test)\n"
      ],
      "metadata": {
        "id": "7iN0sGgdx8f4",
        "colab": {
          "base_uri": "https://localhost:8080/"
        },
        "outputId": "162710a2-0375-454d-c2c4-be3b3092f4c8"
      },
      "execution_count": null,
      "outputs": [
        {
          "output_type": "stream",
          "name": "stdout",
          "text": [
            "Model: \"sequential_3\"\n",
            "_________________________________________________________________\n",
            " Layer (type)                Output Shape              Param #   \n",
            "=================================================================\n",
            " dense_12 (Dense)            (None, 64)                50240     \n",
            "                                                                 \n",
            " dropout (Dropout)           (None, 64)                0         \n",
            "                                                                 \n",
            " dense_13 (Dense)            (None, 32)                2080      \n",
            "                                                                 \n",
            " dropout_1 (Dropout)         (None, 32)                0         \n",
            "                                                                 \n",
            " dense_14 (Dense)            (None, 16)                528       \n",
            "                                                                 \n",
            " dropout_2 (Dropout)         (None, 16)                0         \n",
            "                                                                 \n",
            " dense_15 (Dense)            (None, 10)                170       \n",
            "                                                                 \n",
            "=================================================================\n",
            "Total params: 53,018\n",
            "Trainable params: 53,018\n",
            "Non-trainable params: 0\n",
            "_________________________________________________________________\n",
            "Epoch 1/10\n",
            "1500/1500 [==============================] - 10s 4ms/step - loss: 0.5976 - accuracy: 0.8120 - val_loss: 0.2020 - val_accuracy: 0.9422\n",
            "Epoch 2/10\n",
            "1500/1500 [==============================] - 7s 5ms/step - loss: 0.2975 - accuracy: 0.9153 - val_loss: 0.1636 - val_accuracy: 0.9528\n",
            "Epoch 3/10\n",
            "1500/1500 [==============================] - 6s 4ms/step - loss: 0.2424 - accuracy: 0.9316 - val_loss: 0.1409 - val_accuracy: 0.9607\n",
            "Epoch 4/10\n",
            "1500/1500 [==============================] - 6s 4ms/step - loss: 0.2071 - accuracy: 0.9412 - val_loss: 0.1294 - val_accuracy: 0.9646\n",
            "Epoch 5/10\n",
            "1500/1500 [==============================] - 6s 4ms/step - loss: 0.1890 - accuracy: 0.9457 - val_loss: 0.1219 - val_accuracy: 0.9667\n",
            "Epoch 6/10\n",
            "1500/1500 [==============================] - 7s 5ms/step - loss: 0.1735 - accuracy: 0.9498 - val_loss: 0.1278 - val_accuracy: 0.9655\n",
            "Epoch 7/10\n",
            "1500/1500 [==============================] - 6s 4ms/step - loss: 0.1642 - accuracy: 0.9543 - val_loss: 0.1189 - val_accuracy: 0.9671\n",
            "Epoch 8/10\n",
            "1500/1500 [==============================] - 6s 4ms/step - loss: 0.1516 - accuracy: 0.9576 - val_loss: 0.1141 - val_accuracy: 0.9693\n",
            "Epoch 9/10\n",
            "1500/1500 [==============================] - 6s 4ms/step - loss: 0.1464 - accuracy: 0.9582 - val_loss: 0.1127 - val_accuracy: 0.9682\n",
            "Epoch 10/10\n",
            "1500/1500 [==============================] - 6s 4ms/step - loss: 0.1414 - accuracy: 0.9597 - val_loss: 0.1150 - val_accuracy: 0.9687\n",
            "1875/1875 [==============================] - 4s 2ms/step - loss: 0.0709 - accuracy: 0.9795\n",
            "313/313 [==============================] - 1s 3ms/step - loss: 0.1056 - accuracy: 0.9709\n"
          ]
        },
        {
          "output_type": "execute_result",
          "data": {
            "text/plain": [
              "[0.10555215179920197, 0.9708999991416931]"
            ]
          },
          "metadata": {},
          "execution_count": 24
        }
      ]
    },
    {
      "cell_type": "markdown",
      "metadata": {
        "id": "dYiOdhv2R7O5"
      },
      "source": [
        "# 직접 쓴 숫자 인식하기\n"
      ]
    },
    {
      "cell_type": "markdown",
      "source": [
        "## 손 글씨 숫자 쓰기\n",
        "* 온라인 그림판 : https://sketch.io/sketchpad/\n",
        "* 미리 써놓은 샘플 숫자 이미지 다운로드 :  0458.png"
      ],
      "metadata": {
        "id": "CHVY-hk0Ve2T"
      }
    },
    {
      "cell_type": "code",
      "source": [
        "url_0458 = 'https://share.sketchpad.app/23/25b-b36e-7bf10e.png'"
      ],
      "metadata": {
        "id": "ro3sLfiy15Xh"
      },
      "execution_count": null,
      "outputs": []
    },
    {
      "cell_type": "code",
      "source": [
        "import os\n",
        "file_0458 = '0458.png'\n",
        "if os.name =='posix':\n",
        "  !wget -O $file_0458 $url_0458\n",
        "else:\n",
        "  !pip install wget\n",
        "  import wget\n",
        "  wget.download(url_0458, out=file_0458)"
      ],
      "metadata": {
        "id": "hcynPLve13ip",
        "colab": {
          "base_uri": "https://localhost:8080/"
        },
        "outputId": "878b04af-4f14-4417-e2fd-f6fa270f8f58"
      },
      "execution_count": null,
      "outputs": [
        {
          "output_type": "stream",
          "name": "stdout",
          "text": [
            "--2023-04-20 00:38:23--  https://share.sketchpad.app/23/25b-b36e-7bf10e.png\n",
            "Resolving share.sketchpad.app (share.sketchpad.app)... 104.26.15.176, 104.26.14.176, 172.67.69.185, ...\n",
            "Connecting to share.sketchpad.app (share.sketchpad.app)|104.26.15.176|:443... connected.\n",
            "HTTP request sent, awaiting response... 200 OK\n",
            "Length: 94990 (93K) [image/png]\n",
            "Saving to: ‘0458.png’\n",
            "\n",
            "0458.png            100%[===================>]  92.76K  --.-KB/s    in 0.04s   \n",
            "\n",
            "2023-04-20 00:38:23 (2.55 MB/s) - ‘0458.png’ saved [94990/94990]\n",
            "\n"
          ]
        }
      ]
    },
    {
      "cell_type": "markdown",
      "metadata": {
        "id": "7hdH6zS8R-W4"
      },
      "source": [
        "##  img2data 모듈 download\n",
        "* 아래의 링크 클릭해서 다운로드 후 업로드"
      ]
    },
    {
      "cell_type": "code",
      "source": [
        "url_img2data = 'https://www.dropbox.com/s/2b3eamclndq9dkp/img2data.py?dl=1'"
      ],
      "metadata": {
        "id": "oZwsIMma18rU"
      },
      "execution_count": null,
      "outputs": []
    },
    {
      "cell_type": "code",
      "source": [
        "import os\n",
        "img2data = 'img2data.py'\n",
        "if os.name =='posix':\n",
        "  !wget -O $img2data $url_img2data\n",
        "else:\n",
        "  !pip install wget\n",
        "  import wget\n",
        "  wget.download(url_img2data, out=img2data)"
      ],
      "metadata": {
        "id": "nqtTBzxA1-ZB",
        "colab": {
          "base_uri": "https://localhost:8080/"
        },
        "outputId": "16e10417-c166-4b74-c59a-fd22a3d931aa"
      },
      "execution_count": null,
      "outputs": [
        {
          "output_type": "stream",
          "name": "stdout",
          "text": [
            "--2023-04-20 00:39:27--  https://www.dropbox.com/s/2b3eamclndq9dkp/img2data.py?dl=1\n",
            "Resolving www.dropbox.com (www.dropbox.com)... 162.125.3.18, 2620:100:601b:18::a27d:812\n",
            "Connecting to www.dropbox.com (www.dropbox.com)|162.125.3.18|:443... connected.\n",
            "HTTP request sent, awaiting response... 302 Found\n",
            "Location: /s/dl/2b3eamclndq9dkp/img2data.py [following]\n",
            "--2023-04-20 00:39:28--  https://www.dropbox.com/s/dl/2b3eamclndq9dkp/img2data.py\n",
            "Reusing existing connection to www.dropbox.com:443.\n",
            "HTTP request sent, awaiting response... 302 Found\n",
            "Location: https://uc3bf7b5daa467d57927e593f0fd.dl.dropboxusercontent.com/cd/0/get/B6gl95HchhqssOIsWIlNqF9MemExC5-9FPwmjjQa1cERGqHl6yVxeuaf_s0A3gXhuBUkdgNgoJSiu1mHKEbLuedahqp4cU9aw9G2gn7FesD_485tIqkriWlqCYixMQSawifM3Uc8b2M-GwcafbUfQ_AFH6Xmytn84UcY-CPKA6yqfQ/file?dl=1# [following]\n",
            "--2023-04-20 00:39:28--  https://uc3bf7b5daa467d57927e593f0fd.dl.dropboxusercontent.com/cd/0/get/B6gl95HchhqssOIsWIlNqF9MemExC5-9FPwmjjQa1cERGqHl6yVxeuaf_s0A3gXhuBUkdgNgoJSiu1mHKEbLuedahqp4cU9aw9G2gn7FesD_485tIqkriWlqCYixMQSawifM3Uc8b2M-GwcafbUfQ_AFH6Xmytn84UcY-CPKA6yqfQ/file?dl=1\n",
            "Resolving uc3bf7b5daa467d57927e593f0fd.dl.dropboxusercontent.com (uc3bf7b5daa467d57927e593f0fd.dl.dropboxusercontent.com)... 162.125.3.15, 2620:100:6030:15::a27d:500f\n",
            "Connecting to uc3bf7b5daa467d57927e593f0fd.dl.dropboxusercontent.com (uc3bf7b5daa467d57927e593f0fd.dl.dropboxusercontent.com)|162.125.3.15|:443... connected.\n",
            "HTTP request sent, awaiting response... 200 OK\n",
            "Length: 2216 (2.2K) [application/binary]\n",
            "Saving to: ‘img2data.py’\n",
            "\n",
            "img2data.py         100%[===================>]   2.16K  --.-KB/s    in 0s      \n",
            "\n",
            "2023-04-20 00:39:28 (371 MB/s) - ‘img2data.py’ saved [2216/2216]\n",
            "\n"
          ]
        }
      ]
    },
    {
      "cell_type": "markdown",
      "source": [
        "## 숫자 인식"
      ],
      "metadata": {
        "id": "r6EVhB2mVkir"
      }
    },
    {
      "cell_type": "code",
      "metadata": {
        "scrolled": true,
        "id": "uSTgj3ztLkm0",
        "colab": {
          "base_uri": "https://localhost:8080/",
          "height": 715
        },
        "outputId": "481088cd-e53c-4e2c-c765-386b2c2dee27"
      },
      "source": [
        "import img2data\n",
        "import cv2\n",
        "\n",
        "img_path = '0458.png'\n",
        "\n",
        "image = cv2.imread(img_path)\n",
        "plt.imshow(image)\n",
        "plt.show()\n",
        "\n",
        "numbers = img2data.img2digits(image, (28,28), border=4)\n",
        "for i, n in enumerate(numbers):\n",
        "    pred = model.predict(n.astype(np.float32)/255.0)\n",
        "    pred_label = np.argmax(pred, axis=1)\n",
        "    print(pred, pred_label)\n",
        "    plt.subplot(1, len(numbers), i+1)\n",
        "    plt.title(str(pred_label))\n",
        "    plt.imshow(n.reshape(28,28), cmap=\"gray\")"
      ],
      "execution_count": null,
      "outputs": [
        {
          "output_type": "display_data",
          "data": {
            "text/plain": [
              "<Figure size 640x480 with 1 Axes>"
            ],
            "image/png": "[encoded data removed]"
          },
          "metadata": {}
        },
        {
          "output_type": "stream",
          "name": "stdout",
          "text": [
            "1/1 [==============================] - 0s 101ms/step\n",
            "[[9.9999678e-01 2.2353583e-16 3.0635169e-06 4.7799820e-11 1.0327153e-10\n",
            "  7.0552963e-10 7.2749046e-08 2.0542199e-09 1.2966550e-10 9.5779140e-10]] [0]\n",
            "1/1 [==============================] - 0s 30ms/step\n",
            "[[1.0203070e-05 1.6864939e-05 2.1045636e-05 6.7713804e-04 3.9860765e-03\n",
            "  4.4623058e-04 1.2305220e-07 2.0692039e-03 1.6533789e-03 9.9111968e-01]] [9]\n",
            "1/1 [==============================] - 0s 29ms/step\n",
            "[[5.9581748e-06 1.7573892e-06 7.1100629e-05 6.2310653e-05 3.5399999e-06\n",
            "  2.9784415e-04 2.2624467e-05 9.8084286e-08 9.9950528e-01 2.9452593e-05]] [8]\n",
            "1/1 [==============================] - 0s 48ms/step\n",
            "[[2.4061287e-03 1.8864565e-02 9.0092756e-02 3.8419214e-01 4.7496296e-04\n",
            "  8.7916860e-03 2.5833189e-04 9.1811996e-03 4.7349972e-01 1.2238517e-02]] [8]\n"
          ]
        },
        {
          "output_type": "display_data",
          "data": {
            "text/plain": [
              "<Figure size 640x480 with 4 Axes>"
            ],
            "image/png": "[encoded data removed]"
          },
          "metadata": {}
        }
      ]
    },
    {
      "cell_type": "markdown",
      "source": [
        "# 다중 출력 모델"
      ],
      "metadata": {
        "id": "NbVkjTRfa6dx"
      }
    },
    {
      "cell_type": "markdown",
      "source": [
        "## 데이터 준비\n",
        "* MNIST 데이터, 숫자와 홀짝수 분류 모델\n",
        "* 새로운 레이블 : 0=홀수, 1=짝수"
      ],
      "metadata": {
        "id": "JGDuO3E7dSuL"
      }
    },
    {
      "cell_type": "code",
      "source": [
        "(X_train, y_train), (X_test, y_test) = tf.keras.datasets.mnist.load_data()\n",
        "(X_train, X_test) = (np.float32(X_train)/255, np.float32(X_test)/255)\n",
        "n_input = 28*28\n",
        "(X_train, X_test) = (X_train.reshape(-1, n_input), X_test.reshape(-1, n_input))\n",
        "\n",
        "y_train_odd = y_train%2\n",
        "y_test_odd = y_test %2\n",
        "print(y_train[:10], y_train_odd[:10])\n",
        "print(y_test[:10], y_test_odd[:10])"
      ],
      "metadata": {
        "id": "-3LIdC9Ha-fc"
      },
      "execution_count": null,
      "outputs": []
    },
    {
      "cell_type": "markdown",
      "source": [
        "## 모델 생성"
      ],
      "metadata": {
        "id": "mhJnd8KYdZAN"
      }
    },
    {
      "cell_type": "code",
      "source": [],
      "metadata": {
        "id": "XMDyTJlDb1A3"
      },
      "execution_count": null,
      "outputs": []
    },
    {
      "cell_type": "markdown",
      "source": [
        "## 모델 학습"
      ],
      "metadata": {
        "id": "hG6tuUyxkzEa"
      }
    },
    {
      "cell_type": "code",
      "source": [],
      "metadata": {
        "id": "4XgHUe0_gWxO"
      },
      "execution_count": null,
      "outputs": []
    },
    {
      "cell_type": "markdown",
      "source": [
        "## 모델 평가"
      ],
      "metadata": {
        "id": "sYMfoGkxk098"
      }
    },
    {
      "cell_type": "code",
      "source": [],
      "metadata": {
        "id": "nArpaLgJigqG"
      },
      "execution_count": null,
      "outputs": []
    },
    {
      "cell_type": "markdown",
      "source": [
        "## 추론"
      ],
      "metadata": {
        "id": "HkGFooVMk2SJ"
      }
    },
    {
      "cell_type": "code",
      "source": [],
      "metadata": {
        "id": "T-K8LDQkkGcS"
      },
      "execution_count": null,
      "outputs": []
    }
  ]
}